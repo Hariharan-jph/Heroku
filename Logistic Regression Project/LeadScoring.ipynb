{
 "cells": [
  {
   "cell_type": "markdown",
   "metadata": {},
   "source": [
    "## Lead Scoring Case Study\n",
    "\n",
    "- Build a logistic regression model to assign a lead score between 0 and 100 to each of the leads which can be used by the company to target potential leads. \n",
    "- A higher score would mean that the lead is hot and  is most likely to converted.\n",
    "- A lower score would mean that the lead is cold and will mostly not get converted."
   ]
  },
  {
   "cell_type": "markdown",
   "metadata": {},
   "source": [
    "### Reading and understanding the data"
   ]
  },
  {
   "cell_type": "code",
   "execution_count": 123,
   "metadata": {},
   "outputs": [],
   "source": [
    "## Importing Required Libraries\n",
    "\n",
    "# Suppressing Warnings\n",
    "import warnings\n",
    "warnings.filterwarnings('ignore')\n",
    "\n",
    "# Importing Pandas and NumPy\n",
    "import pandas as pd\n",
    "import numpy as np\n",
    "\n",
    "import matplotlib.pyplot as plt\n",
    "import seaborn as sns\n",
    "from sklearn.model_selection import train_test_split\n",
    "from sklearn.preprocessing import StandardScaler\n",
    "from sklearn.feature_selection import RFE\n",
    "from sklearn.linear_model import LogisticRegression\n",
    "\n",
    "import statsmodels.api as sm\n",
    "from statsmodels.stats.outliers_influence import variance_inflation_factor\n",
    "\n",
    "from sklearn import metrics\n",
    "from sklearn.metrics import precision_score, recall_score\n",
    "from sklearn.metrics import precision_recall_curve"
   ]
  },
  {
   "cell_type": "code",
   "execution_count": 124,
   "metadata": {},
   "outputs": [
    {
     "data": {
      "text/html": [
       "<div>\n",
       "<style scoped>\n",
       "    .dataframe tbody tr th:only-of-type {\n",
       "        vertical-align: middle;\n",
       "    }\n",
       "\n",
       "    .dataframe tbody tr th {\n",
       "        vertical-align: top;\n",
       "    }\n",
       "\n",
       "    .dataframe thead th {\n",
       "        text-align: right;\n",
       "    }\n",
       "</style>\n",
       "<table border=\"1\" class=\"dataframe\">\n",
       "  <thead>\n",
       "    <tr style=\"text-align: right;\">\n",
       "      <th></th>\n",
       "      <th>Prospect ID</th>\n",
       "      <th>Lead Number</th>\n",
       "      <th>Lead Origin</th>\n",
       "      <th>Lead Source</th>\n",
       "      <th>Do Not Email</th>\n",
       "      <th>Do Not Call</th>\n",
       "      <th>Converted</th>\n",
       "      <th>TotalVisits</th>\n",
       "      <th>Total Time Spent on Website</th>\n",
       "      <th>Page Views Per Visit</th>\n",
       "      <th>...</th>\n",
       "      <th>Get updates on DM Content</th>\n",
       "      <th>Lead Profile</th>\n",
       "      <th>City</th>\n",
       "      <th>Asymmetrique Activity Index</th>\n",
       "      <th>Asymmetrique Profile Index</th>\n",
       "      <th>Asymmetrique Activity Score</th>\n",
       "      <th>Asymmetrique Profile Score</th>\n",
       "      <th>I agree to pay the amount through cheque</th>\n",
       "      <th>A free copy of Mastering The Interview</th>\n",
       "      <th>Last Notable Activity</th>\n",
       "    </tr>\n",
       "  </thead>\n",
       "  <tbody>\n",
       "    <tr>\n",
       "      <td>0</td>\n",
       "      <td>7927b2df-8bba-4d29-b9a2-b6e0beafe620</td>\n",
       "      <td>660737</td>\n",
       "      <td>API</td>\n",
       "      <td>Olark Chat</td>\n",
       "      <td>No</td>\n",
       "      <td>No</td>\n",
       "      <td>0</td>\n",
       "      <td>0.0</td>\n",
       "      <td>0</td>\n",
       "      <td>0.0</td>\n",
       "      <td>...</td>\n",
       "      <td>No</td>\n",
       "      <td>Select</td>\n",
       "      <td>Select</td>\n",
       "      <td>02.Medium</td>\n",
       "      <td>02.Medium</td>\n",
       "      <td>15.0</td>\n",
       "      <td>15.0</td>\n",
       "      <td>No</td>\n",
       "      <td>No</td>\n",
       "      <td>Modified</td>\n",
       "    </tr>\n",
       "    <tr>\n",
       "      <td>1</td>\n",
       "      <td>2a272436-5132-4136-86fa-dcc88c88f482</td>\n",
       "      <td>660728</td>\n",
       "      <td>API</td>\n",
       "      <td>Organic Search</td>\n",
       "      <td>No</td>\n",
       "      <td>No</td>\n",
       "      <td>0</td>\n",
       "      <td>5.0</td>\n",
       "      <td>674</td>\n",
       "      <td>2.5</td>\n",
       "      <td>...</td>\n",
       "      <td>No</td>\n",
       "      <td>Select</td>\n",
       "      <td>Select</td>\n",
       "      <td>02.Medium</td>\n",
       "      <td>02.Medium</td>\n",
       "      <td>15.0</td>\n",
       "      <td>15.0</td>\n",
       "      <td>No</td>\n",
       "      <td>No</td>\n",
       "      <td>Email Opened</td>\n",
       "    </tr>\n",
       "    <tr>\n",
       "      <td>2</td>\n",
       "      <td>8cc8c611-a219-4f35-ad23-fdfd2656bd8a</td>\n",
       "      <td>660727</td>\n",
       "      <td>Landing Page Submission</td>\n",
       "      <td>Direct Traffic</td>\n",
       "      <td>No</td>\n",
       "      <td>No</td>\n",
       "      <td>1</td>\n",
       "      <td>2.0</td>\n",
       "      <td>1532</td>\n",
       "      <td>2.0</td>\n",
       "      <td>...</td>\n",
       "      <td>No</td>\n",
       "      <td>Potential Lead</td>\n",
       "      <td>Mumbai</td>\n",
       "      <td>02.Medium</td>\n",
       "      <td>01.High</td>\n",
       "      <td>14.0</td>\n",
       "      <td>20.0</td>\n",
       "      <td>No</td>\n",
       "      <td>Yes</td>\n",
       "      <td>Email Opened</td>\n",
       "    </tr>\n",
       "    <tr>\n",
       "      <td>3</td>\n",
       "      <td>0cc2df48-7cf4-4e39-9de9-19797f9b38cc</td>\n",
       "      <td>660719</td>\n",
       "      <td>Landing Page Submission</td>\n",
       "      <td>Direct Traffic</td>\n",
       "      <td>No</td>\n",
       "      <td>No</td>\n",
       "      <td>0</td>\n",
       "      <td>1.0</td>\n",
       "      <td>305</td>\n",
       "      <td>1.0</td>\n",
       "      <td>...</td>\n",
       "      <td>No</td>\n",
       "      <td>Select</td>\n",
       "      <td>Mumbai</td>\n",
       "      <td>02.Medium</td>\n",
       "      <td>01.High</td>\n",
       "      <td>13.0</td>\n",
       "      <td>17.0</td>\n",
       "      <td>No</td>\n",
       "      <td>No</td>\n",
       "      <td>Modified</td>\n",
       "    </tr>\n",
       "    <tr>\n",
       "      <td>4</td>\n",
       "      <td>3256f628-e534-4826-9d63-4a8b88782852</td>\n",
       "      <td>660681</td>\n",
       "      <td>Landing Page Submission</td>\n",
       "      <td>Google</td>\n",
       "      <td>No</td>\n",
       "      <td>No</td>\n",
       "      <td>1</td>\n",
       "      <td>2.0</td>\n",
       "      <td>1428</td>\n",
       "      <td>1.0</td>\n",
       "      <td>...</td>\n",
       "      <td>No</td>\n",
       "      <td>Select</td>\n",
       "      <td>Mumbai</td>\n",
       "      <td>02.Medium</td>\n",
       "      <td>01.High</td>\n",
       "      <td>15.0</td>\n",
       "      <td>18.0</td>\n",
       "      <td>No</td>\n",
       "      <td>No</td>\n",
       "      <td>Modified</td>\n",
       "    </tr>\n",
       "  </tbody>\n",
       "</table>\n",
       "<p>5 rows × 37 columns</p>\n",
       "</div>"
      ],
      "text/plain": [
       "                            Prospect ID  Lead Number              Lead Origin  \\\n",
       "0  7927b2df-8bba-4d29-b9a2-b6e0beafe620       660737                      API   \n",
       "1  2a272436-5132-4136-86fa-dcc88c88f482       660728                      API   \n",
       "2  8cc8c611-a219-4f35-ad23-fdfd2656bd8a       660727  Landing Page Submission   \n",
       "3  0cc2df48-7cf4-4e39-9de9-19797f9b38cc       660719  Landing Page Submission   \n",
       "4  3256f628-e534-4826-9d63-4a8b88782852       660681  Landing Page Submission   \n",
       "\n",
       "      Lead Source Do Not Email Do Not Call  Converted  TotalVisits  \\\n",
       "0      Olark Chat           No          No          0          0.0   \n",
       "1  Organic Search           No          No          0          5.0   \n",
       "2  Direct Traffic           No          No          1          2.0   \n",
       "3  Direct Traffic           No          No          0          1.0   \n",
       "4          Google           No          No          1          2.0   \n",
       "\n",
       "   Total Time Spent on Website  Page Views Per Visit  ...  \\\n",
       "0                            0                   0.0  ...   \n",
       "1                          674                   2.5  ...   \n",
       "2                         1532                   2.0  ...   \n",
       "3                          305                   1.0  ...   \n",
       "4                         1428                   1.0  ...   \n",
       "\n",
       "  Get updates on DM Content    Lead Profile    City  \\\n",
       "0                        No          Select  Select   \n",
       "1                        No          Select  Select   \n",
       "2                        No  Potential Lead  Mumbai   \n",
       "3                        No          Select  Mumbai   \n",
       "4                        No          Select  Mumbai   \n",
       "\n",
       "  Asymmetrique Activity Index Asymmetrique Profile Index  \\\n",
       "0                   02.Medium                  02.Medium   \n",
       "1                   02.Medium                  02.Medium   \n",
       "2                   02.Medium                    01.High   \n",
       "3                   02.Medium                    01.High   \n",
       "4                   02.Medium                    01.High   \n",
       "\n",
       "  Asymmetrique Activity Score Asymmetrique Profile Score  \\\n",
       "0                        15.0                       15.0   \n",
       "1                        15.0                       15.0   \n",
       "2                        14.0                       20.0   \n",
       "3                        13.0                       17.0   \n",
       "4                        15.0                       18.0   \n",
       "\n",
       "  I agree to pay the amount through cheque  \\\n",
       "0                                       No   \n",
       "1                                       No   \n",
       "2                                       No   \n",
       "3                                       No   \n",
       "4                                       No   \n",
       "\n",
       "  A free copy of Mastering The Interview Last Notable Activity  \n",
       "0                                     No              Modified  \n",
       "1                                     No          Email Opened  \n",
       "2                                    Yes          Email Opened  \n",
       "3                                     No              Modified  \n",
       "4                                     No              Modified  \n",
       "\n",
       "[5 rows x 37 columns]"
      ]
     },
     "execution_count": 124,
     "metadata": {},
     "output_type": "execute_result"
    }
   ],
   "source": [
    "# Importing  datasets\n",
    "leadScore = pd.read_csv(\"Leads.csv\")\n",
    "leadScore.head()"
   ]
  },
  {
   "cell_type": "markdown",
   "metadata": {},
   "source": [
    "### Inspecting the Dataframe"
   ]
  },
  {
   "cell_type": "code",
   "execution_count": 125,
   "metadata": {},
   "outputs": [
    {
     "data": {
      "text/plain": [
       "(9240, 37)"
      ]
     },
     "execution_count": 125,
     "metadata": {},
     "output_type": "execute_result"
    }
   ],
   "source": [
    "# Let's check the dimensions of the dataframe\n",
    "leadScore.shape\n"
   ]
  },
  {
   "cell_type": "code",
   "execution_count": 126,
   "metadata": {},
   "outputs": [
    {
     "data": {
      "text/plain": [
       "9240"
      ]
     },
     "execution_count": 126,
     "metadata": {},
     "output_type": "execute_result"
    }
   ],
   "source": [
    "## Actual Row Count\n",
    "rowCount = leadScore.shape[0]\n",
    "rowCount"
   ]
  },
  {
   "cell_type": "code",
   "execution_count": 127,
   "metadata": {},
   "outputs": [
    {
     "name": "stdout",
     "output_type": "stream",
     "text": [
      "<class 'pandas.core.frame.DataFrame'>\n",
      "RangeIndex: 9240 entries, 0 to 9239\n",
      "Data columns (total 37 columns):\n",
      "Prospect ID                                      9240 non-null object\n",
      "Lead Number                                      9240 non-null int64\n",
      "Lead Origin                                      9240 non-null object\n",
      "Lead Source                                      9204 non-null object\n",
      "Do Not Email                                     9240 non-null object\n",
      "Do Not Call                                      9240 non-null object\n",
      "Converted                                        9240 non-null int64\n",
      "TotalVisits                                      9103 non-null float64\n",
      "Total Time Spent on Website                      9240 non-null int64\n",
      "Page Views Per Visit                             9103 non-null float64\n",
      "Last Activity                                    9137 non-null object\n",
      "Country                                          6779 non-null object\n",
      "Specialization                                   7802 non-null object\n",
      "How did you hear about X Education               7033 non-null object\n",
      "What is your current occupation                  6550 non-null object\n",
      "What matters most to you in choosing a course    6531 non-null object\n",
      "Search                                           9240 non-null object\n",
      "Magazine                                         9240 non-null object\n",
      "Newspaper Article                                9240 non-null object\n",
      "X Education Forums                               9240 non-null object\n",
      "Newspaper                                        9240 non-null object\n",
      "Digital Advertisement                            9240 non-null object\n",
      "Through Recommendations                          9240 non-null object\n",
      "Receive More Updates About Our Courses           9240 non-null object\n",
      "Tags                                             5887 non-null object\n",
      "Lead Quality                                     4473 non-null object\n",
      "Update me on Supply Chain Content                9240 non-null object\n",
      "Get updates on DM Content                        9240 non-null object\n",
      "Lead Profile                                     6531 non-null object\n",
      "City                                             7820 non-null object\n",
      "Asymmetrique Activity Index                      5022 non-null object\n",
      "Asymmetrique Profile Index                       5022 non-null object\n",
      "Asymmetrique Activity Score                      5022 non-null float64\n",
      "Asymmetrique Profile Score                       5022 non-null float64\n",
      "I agree to pay the amount through cheque         9240 non-null object\n",
      "A free copy of Mastering The Interview           9240 non-null object\n",
      "Last Notable Activity                            9240 non-null object\n",
      "dtypes: float64(4), int64(3), object(30)\n",
      "memory usage: 2.6+ MB\n"
     ]
    }
   ],
   "source": [
    "leadScore.info()"
   ]
  },
  {
   "cell_type": "code",
   "execution_count": 128,
   "metadata": {},
   "outputs": [
    {
     "data": {
      "text/html": [
       "<div>\n",
       "<style scoped>\n",
       "    .dataframe tbody tr th:only-of-type {\n",
       "        vertical-align: middle;\n",
       "    }\n",
       "\n",
       "    .dataframe tbody tr th {\n",
       "        vertical-align: top;\n",
       "    }\n",
       "\n",
       "    .dataframe thead th {\n",
       "        text-align: right;\n",
       "    }\n",
       "</style>\n",
       "<table border=\"1\" class=\"dataframe\">\n",
       "  <thead>\n",
       "    <tr style=\"text-align: right;\">\n",
       "      <th></th>\n",
       "      <th>Lead Number</th>\n",
       "      <th>Converted</th>\n",
       "      <th>TotalVisits</th>\n",
       "      <th>Total Time Spent on Website</th>\n",
       "      <th>Page Views Per Visit</th>\n",
       "      <th>Asymmetrique Activity Score</th>\n",
       "      <th>Asymmetrique Profile Score</th>\n",
       "    </tr>\n",
       "  </thead>\n",
       "  <tbody>\n",
       "    <tr>\n",
       "      <td>count</td>\n",
       "      <td>9240.000000</td>\n",
       "      <td>9240.000000</td>\n",
       "      <td>9103.000000</td>\n",
       "      <td>9240.000000</td>\n",
       "      <td>9103.000000</td>\n",
       "      <td>5022.000000</td>\n",
       "      <td>5022.000000</td>\n",
       "    </tr>\n",
       "    <tr>\n",
       "      <td>mean</td>\n",
       "      <td>617188.435606</td>\n",
       "      <td>0.385390</td>\n",
       "      <td>3.445238</td>\n",
       "      <td>487.698268</td>\n",
       "      <td>2.362820</td>\n",
       "      <td>14.306252</td>\n",
       "      <td>16.344883</td>\n",
       "    </tr>\n",
       "    <tr>\n",
       "      <td>std</td>\n",
       "      <td>23405.995698</td>\n",
       "      <td>0.486714</td>\n",
       "      <td>4.854853</td>\n",
       "      <td>548.021466</td>\n",
       "      <td>2.161418</td>\n",
       "      <td>1.386694</td>\n",
       "      <td>1.811395</td>\n",
       "    </tr>\n",
       "    <tr>\n",
       "      <td>min</td>\n",
       "      <td>579533.000000</td>\n",
       "      <td>0.000000</td>\n",
       "      <td>0.000000</td>\n",
       "      <td>0.000000</td>\n",
       "      <td>0.000000</td>\n",
       "      <td>7.000000</td>\n",
       "      <td>11.000000</td>\n",
       "    </tr>\n",
       "    <tr>\n",
       "      <td>25%</td>\n",
       "      <td>596484.500000</td>\n",
       "      <td>0.000000</td>\n",
       "      <td>1.000000</td>\n",
       "      <td>12.000000</td>\n",
       "      <td>1.000000</td>\n",
       "      <td>14.000000</td>\n",
       "      <td>15.000000</td>\n",
       "    </tr>\n",
       "    <tr>\n",
       "      <td>50%</td>\n",
       "      <td>615479.000000</td>\n",
       "      <td>0.000000</td>\n",
       "      <td>3.000000</td>\n",
       "      <td>248.000000</td>\n",
       "      <td>2.000000</td>\n",
       "      <td>14.000000</td>\n",
       "      <td>16.000000</td>\n",
       "    </tr>\n",
       "    <tr>\n",
       "      <td>75%</td>\n",
       "      <td>637387.250000</td>\n",
       "      <td>1.000000</td>\n",
       "      <td>5.000000</td>\n",
       "      <td>936.000000</td>\n",
       "      <td>3.000000</td>\n",
       "      <td>15.000000</td>\n",
       "      <td>18.000000</td>\n",
       "    </tr>\n",
       "    <tr>\n",
       "      <td>max</td>\n",
       "      <td>660737.000000</td>\n",
       "      <td>1.000000</td>\n",
       "      <td>251.000000</td>\n",
       "      <td>2272.000000</td>\n",
       "      <td>55.000000</td>\n",
       "      <td>18.000000</td>\n",
       "      <td>20.000000</td>\n",
       "    </tr>\n",
       "  </tbody>\n",
       "</table>\n",
       "</div>"
      ],
      "text/plain": [
       "         Lead Number    Converted  TotalVisits  Total Time Spent on Website  \\\n",
       "count    9240.000000  9240.000000  9103.000000                  9240.000000   \n",
       "mean   617188.435606     0.385390     3.445238                   487.698268   \n",
       "std     23405.995698     0.486714     4.854853                   548.021466   \n",
       "min    579533.000000     0.000000     0.000000                     0.000000   \n",
       "25%    596484.500000     0.000000     1.000000                    12.000000   \n",
       "50%    615479.000000     0.000000     3.000000                   248.000000   \n",
       "75%    637387.250000     1.000000     5.000000                   936.000000   \n",
       "max    660737.000000     1.000000   251.000000                  2272.000000   \n",
       "\n",
       "       Page Views Per Visit  Asymmetrique Activity Score  \\\n",
       "count           9103.000000                  5022.000000   \n",
       "mean               2.362820                    14.306252   \n",
       "std                2.161418                     1.386694   \n",
       "min                0.000000                     7.000000   \n",
       "25%                1.000000                    14.000000   \n",
       "50%                2.000000                    14.000000   \n",
       "75%                3.000000                    15.000000   \n",
       "max               55.000000                    18.000000   \n",
       "\n",
       "       Asymmetrique Profile Score  \n",
       "count                 5022.000000  \n",
       "mean                    16.344883  \n",
       "std                      1.811395  \n",
       "min                     11.000000  \n",
       "25%                     15.000000  \n",
       "50%                     16.000000  \n",
       "75%                     18.000000  \n",
       "max                     20.000000  "
      ]
     },
     "execution_count": 128,
     "metadata": {},
     "output_type": "execute_result"
    }
   ],
   "source": [
    "leadScore.describe()"
   ]
  },
  {
   "cell_type": "markdown",
   "metadata": {},
   "source": [
    "### Data Cleaning\n",
    "\n",
    "- Handling Select\n",
    "- Converting some binary variables (Yes/No) to 0/1\n",
    "- For categorical variables with multiple levels, create dummy features (one-hot encoded)\n",
    "- Dropping of high %age of Missing Values\n",
    "- Unique Categories in the Categorical Columns\n",
    "- Imputation Techinques\n",
    "- Percentage of row retained ."
   ]
  },
  {
   "cell_type": "markdown",
   "metadata": {},
   "source": [
    "#### Handling Select Level in Categorical Columns"
   ]
  },
  {
   "cell_type": "code",
   "execution_count": 129,
   "metadata": {},
   "outputs": [
    {
     "name": "stdout",
     "output_type": "stream",
     "text": [
      "Column Specialization contains 1942 select values \n",
      "Column How did you hear about X Education contains 5043 select values \n",
      "Column Lead Profile contains 4146 select values \n",
      "Column City contains 2249 select values \n"
     ]
    }
   ],
   "source": [
    "#finding the list of columns containing  the select value\n",
    "series_value= leadScore.columns.to_series().groupby(leadScore.dtypes).groups\n",
    "dic={k.name: v for k, v in series_value.items()}\n",
    "columns=dic['object']\n",
    "select_columns=[]\n",
    "for i in enumerate(columns):\n",
    "    values=leadScore[i[1]].str.contains('Select', case=False, na=False).sum()\n",
    "    if values>0:\n",
    "        print(f\"Column {i[1]} contains {values} select values \")\n",
    "        select_columns.append(i[1])"
   ]
  },
  {
   "cell_type": "markdown",
   "metadata": {},
   "source": [
    "### Based on the analysis replacing the select values as below\n",
    "\n",
    "##### Specialisation = The industry domain in which the customer worked before. \n",
    "- Replacing \"Select\" as \"Others\" in the Specilaizaion varibales\n",
    "\n",
    "#####  How did you hear about X Education = The source from which the customer heard about X Education.\n",
    "- Replacing \"Select\" as \"X Education Forums\" in the How did you hear about X Education varibales\n",
    "\n",
    "##### Lead Profile = A lead level assigned to each customer based on their profile.\n",
    "- Replacing \"Select\" as \"SpecialLead\" in the Lead Profile varibales\n",
    "\n",
    "#####  City = The city of the customer.\n",
    "- Replacing \"Select\" as \"CityCenter\" in the City varibales\n"
   ]
  },
  {
   "cell_type": "code",
   "execution_count": 130,
   "metadata": {},
   "outputs": [],
   "source": [
    "# Replacing the select values \n",
    "select_columns\n",
    "value_change={\"Specialization\":'Others',\n",
    "              \"How did you hear about X Education\":'X Education Forums'\n",
    "              ,\"Lead Profile\":'SpecialLead'\n",
    "              ,\"City\":'CityCenter'}\n",
    "for i in enumerate(select_columns):\n",
    "    leadScore[i[1]].replace(['Select'],[value_change[i[1]]],inplace=True)"
   ]
  },
  {
   "cell_type": "code",
   "execution_count": 131,
   "metadata": {},
   "outputs": [
    {
     "name": "stdout",
     "output_type": "stream",
     "text": [
      "select values are re-placed Successfully\n"
     ]
    }
   ],
   "source": [
    "# Rechecking whether any select value is present in the table\n",
    "series_value= leadScore.columns.to_series().groupby(leadScore.dtypes).groups\n",
    "dic={k.name: v for k, v in series_value.items()}\n",
    "columns=dic['object']\n",
    "select_columns=[]\n",
    "for i in enumerate(columns):\n",
    "    values=leadScore[i[1]].str.contains('Select', case=False, na=False).sum()\n",
    "    if values>0:\n",
    "        print(f\"Column {i[1]} contains {values} select values \")\n",
    "        select_columns.append(i[1])\n",
    "if len(select_columns)==0:\n",
    "    print('select values are re-placed Successfully')"
   ]
  },
  {
   "cell_type": "markdown",
   "metadata": {},
   "source": [
    "#### Converting some binary variables (Yes/No) to 0/1"
   ]
  },
  {
   "cell_type": "code",
   "execution_count": 132,
   "metadata": {},
   "outputs": [
    {
     "name": "stdout",
     "output_type": "stream",
     "text": [
      "<class 'pandas.core.frame.DataFrame'>\n",
      "RangeIndex: 9240 entries, 0 to 9239\n",
      "Data columns (total 37 columns):\n",
      "Prospect ID                                      9240 non-null object\n",
      "Lead Number                                      9240 non-null int64\n",
      "Lead Origin                                      9240 non-null object\n",
      "Lead Source                                      9204 non-null object\n",
      "Do Not Email                                     9240 non-null object\n",
      "Do Not Call                                      9240 non-null object\n",
      "Converted                                        9240 non-null int64\n",
      "TotalVisits                                      9103 non-null float64\n",
      "Total Time Spent on Website                      9240 non-null int64\n",
      "Page Views Per Visit                             9103 non-null float64\n",
      "Last Activity                                    9137 non-null object\n",
      "Country                                          6779 non-null object\n",
      "Specialization                                   7802 non-null object\n",
      "How did you hear about X Education               7033 non-null object\n",
      "What is your current occupation                  6550 non-null object\n",
      "What matters most to you in choosing a course    6531 non-null object\n",
      "Search                                           9240 non-null object\n",
      "Magazine                                         9240 non-null object\n",
      "Newspaper Article                                9240 non-null object\n",
      "X Education Forums                               9240 non-null object\n",
      "Newspaper                                        9240 non-null object\n",
      "Digital Advertisement                            9240 non-null object\n",
      "Through Recommendations                          9240 non-null object\n",
      "Receive More Updates About Our Courses           9240 non-null object\n",
      "Tags                                             5887 non-null object\n",
      "Lead Quality                                     4473 non-null object\n",
      "Update me on Supply Chain Content                9240 non-null object\n",
      "Get updates on DM Content                        9240 non-null object\n",
      "Lead Profile                                     6531 non-null object\n",
      "City                                             7820 non-null object\n",
      "Asymmetrique Activity Index                      5022 non-null object\n",
      "Asymmetrique Profile Index                       5022 non-null object\n",
      "Asymmetrique Activity Score                      5022 non-null float64\n",
      "Asymmetrique Profile Score                       5022 non-null float64\n",
      "I agree to pay the amount through cheque         9240 non-null object\n",
      "A free copy of Mastering The Interview           9240 non-null object\n",
      "Last Notable Activity                            9240 non-null object\n",
      "dtypes: float64(4), int64(3), object(30)\n",
      "memory usage: 2.6+ MB\n"
     ]
    }
   ],
   "source": [
    "leadScore.info()"
   ]
  },
  {
   "cell_type": "code",
   "execution_count": 133,
   "metadata": {},
   "outputs": [
    {
     "data": {
      "text/html": [
       "<div>\n",
       "<style scoped>\n",
       "    .dataframe tbody tr th:only-of-type {\n",
       "        vertical-align: middle;\n",
       "    }\n",
       "\n",
       "    .dataframe tbody tr th {\n",
       "        vertical-align: top;\n",
       "    }\n",
       "\n",
       "    .dataframe thead th {\n",
       "        text-align: right;\n",
       "    }\n",
       "</style>\n",
       "<table border=\"1\" class=\"dataframe\">\n",
       "  <thead>\n",
       "    <tr style=\"text-align: right;\">\n",
       "      <th></th>\n",
       "      <th>Prospect ID</th>\n",
       "      <th>Lead Number</th>\n",
       "      <th>Lead Origin</th>\n",
       "      <th>Lead Source</th>\n",
       "      <th>Do Not Email</th>\n",
       "      <th>Do Not Call</th>\n",
       "      <th>Converted</th>\n",
       "      <th>TotalVisits</th>\n",
       "      <th>Total Time Spent on Website</th>\n",
       "      <th>Page Views Per Visit</th>\n",
       "      <th>...</th>\n",
       "      <th>Get updates on DM Content</th>\n",
       "      <th>Lead Profile</th>\n",
       "      <th>City</th>\n",
       "      <th>Asymmetrique Activity Index</th>\n",
       "      <th>Asymmetrique Profile Index</th>\n",
       "      <th>Asymmetrique Activity Score</th>\n",
       "      <th>Asymmetrique Profile Score</th>\n",
       "      <th>I agree to pay the amount through cheque</th>\n",
       "      <th>A free copy of Mastering The Interview</th>\n",
       "      <th>Last Notable Activity</th>\n",
       "    </tr>\n",
       "  </thead>\n",
       "  <tbody>\n",
       "    <tr>\n",
       "      <td>0</td>\n",
       "      <td>7927b2df-8bba-4d29-b9a2-b6e0beafe620</td>\n",
       "      <td>660737</td>\n",
       "      <td>API</td>\n",
       "      <td>Olark Chat</td>\n",
       "      <td>0</td>\n",
       "      <td>0</td>\n",
       "      <td>0</td>\n",
       "      <td>0.0</td>\n",
       "      <td>0</td>\n",
       "      <td>0.0</td>\n",
       "      <td>...</td>\n",
       "      <td>0</td>\n",
       "      <td>SpecialLead</td>\n",
       "      <td>CityCenter</td>\n",
       "      <td>02.Medium</td>\n",
       "      <td>02.Medium</td>\n",
       "      <td>15.0</td>\n",
       "      <td>15.0</td>\n",
       "      <td>0</td>\n",
       "      <td>0</td>\n",
       "      <td>Modified</td>\n",
       "    </tr>\n",
       "    <tr>\n",
       "      <td>1</td>\n",
       "      <td>2a272436-5132-4136-86fa-dcc88c88f482</td>\n",
       "      <td>660728</td>\n",
       "      <td>API</td>\n",
       "      <td>Organic Search</td>\n",
       "      <td>0</td>\n",
       "      <td>0</td>\n",
       "      <td>0</td>\n",
       "      <td>5.0</td>\n",
       "      <td>674</td>\n",
       "      <td>2.5</td>\n",
       "      <td>...</td>\n",
       "      <td>0</td>\n",
       "      <td>SpecialLead</td>\n",
       "      <td>CityCenter</td>\n",
       "      <td>02.Medium</td>\n",
       "      <td>02.Medium</td>\n",
       "      <td>15.0</td>\n",
       "      <td>15.0</td>\n",
       "      <td>0</td>\n",
       "      <td>0</td>\n",
       "      <td>Email Opened</td>\n",
       "    </tr>\n",
       "    <tr>\n",
       "      <td>2</td>\n",
       "      <td>8cc8c611-a219-4f35-ad23-fdfd2656bd8a</td>\n",
       "      <td>660727</td>\n",
       "      <td>Landing Page Submission</td>\n",
       "      <td>Direct Traffic</td>\n",
       "      <td>0</td>\n",
       "      <td>0</td>\n",
       "      <td>1</td>\n",
       "      <td>2.0</td>\n",
       "      <td>1532</td>\n",
       "      <td>2.0</td>\n",
       "      <td>...</td>\n",
       "      <td>0</td>\n",
       "      <td>Potential Lead</td>\n",
       "      <td>Mumbai</td>\n",
       "      <td>02.Medium</td>\n",
       "      <td>01.High</td>\n",
       "      <td>14.0</td>\n",
       "      <td>20.0</td>\n",
       "      <td>0</td>\n",
       "      <td>1</td>\n",
       "      <td>Email Opened</td>\n",
       "    </tr>\n",
       "    <tr>\n",
       "      <td>3</td>\n",
       "      <td>0cc2df48-7cf4-4e39-9de9-19797f9b38cc</td>\n",
       "      <td>660719</td>\n",
       "      <td>Landing Page Submission</td>\n",
       "      <td>Direct Traffic</td>\n",
       "      <td>0</td>\n",
       "      <td>0</td>\n",
       "      <td>0</td>\n",
       "      <td>1.0</td>\n",
       "      <td>305</td>\n",
       "      <td>1.0</td>\n",
       "      <td>...</td>\n",
       "      <td>0</td>\n",
       "      <td>SpecialLead</td>\n",
       "      <td>Mumbai</td>\n",
       "      <td>02.Medium</td>\n",
       "      <td>01.High</td>\n",
       "      <td>13.0</td>\n",
       "      <td>17.0</td>\n",
       "      <td>0</td>\n",
       "      <td>0</td>\n",
       "      <td>Modified</td>\n",
       "    </tr>\n",
       "    <tr>\n",
       "      <td>4</td>\n",
       "      <td>3256f628-e534-4826-9d63-4a8b88782852</td>\n",
       "      <td>660681</td>\n",
       "      <td>Landing Page Submission</td>\n",
       "      <td>Google</td>\n",
       "      <td>0</td>\n",
       "      <td>0</td>\n",
       "      <td>1</td>\n",
       "      <td>2.0</td>\n",
       "      <td>1428</td>\n",
       "      <td>1.0</td>\n",
       "      <td>...</td>\n",
       "      <td>0</td>\n",
       "      <td>SpecialLead</td>\n",
       "      <td>Mumbai</td>\n",
       "      <td>02.Medium</td>\n",
       "      <td>01.High</td>\n",
       "      <td>15.0</td>\n",
       "      <td>18.0</td>\n",
       "      <td>0</td>\n",
       "      <td>0</td>\n",
       "      <td>Modified</td>\n",
       "    </tr>\n",
       "  </tbody>\n",
       "</table>\n",
       "<p>5 rows × 37 columns</p>\n",
       "</div>"
      ],
      "text/plain": [
       "                            Prospect ID  Lead Number              Lead Origin  \\\n",
       "0  7927b2df-8bba-4d29-b9a2-b6e0beafe620       660737                      API   \n",
       "1  2a272436-5132-4136-86fa-dcc88c88f482       660728                      API   \n",
       "2  8cc8c611-a219-4f35-ad23-fdfd2656bd8a       660727  Landing Page Submission   \n",
       "3  0cc2df48-7cf4-4e39-9de9-19797f9b38cc       660719  Landing Page Submission   \n",
       "4  3256f628-e534-4826-9d63-4a8b88782852       660681  Landing Page Submission   \n",
       "\n",
       "      Lead Source  Do Not Email  Do Not Call  Converted  TotalVisits  \\\n",
       "0      Olark Chat             0            0          0          0.0   \n",
       "1  Organic Search             0            0          0          5.0   \n",
       "2  Direct Traffic             0            0          1          2.0   \n",
       "3  Direct Traffic             0            0          0          1.0   \n",
       "4          Google             0            0          1          2.0   \n",
       "\n",
       "   Total Time Spent on Website  Page Views Per Visit  ...  \\\n",
       "0                            0                   0.0  ...   \n",
       "1                          674                   2.5  ...   \n",
       "2                         1532                   2.0  ...   \n",
       "3                          305                   1.0  ...   \n",
       "4                         1428                   1.0  ...   \n",
       "\n",
       "  Get updates on DM Content    Lead Profile        City  \\\n",
       "0                         0     SpecialLead  CityCenter   \n",
       "1                         0     SpecialLead  CityCenter   \n",
       "2                         0  Potential Lead      Mumbai   \n",
       "3                         0     SpecialLead      Mumbai   \n",
       "4                         0     SpecialLead      Mumbai   \n",
       "\n",
       "  Asymmetrique Activity Index Asymmetrique Profile Index  \\\n",
       "0                   02.Medium                  02.Medium   \n",
       "1                   02.Medium                  02.Medium   \n",
       "2                   02.Medium                    01.High   \n",
       "3                   02.Medium                    01.High   \n",
       "4                   02.Medium                    01.High   \n",
       "\n",
       "  Asymmetrique Activity Score  Asymmetrique Profile Score  \\\n",
       "0                        15.0                        15.0   \n",
       "1                        15.0                        15.0   \n",
       "2                        14.0                        20.0   \n",
       "3                        13.0                        17.0   \n",
       "4                        15.0                        18.0   \n",
       "\n",
       "   I agree to pay the amount through cheque  \\\n",
       "0                                         0   \n",
       "1                                         0   \n",
       "2                                         0   \n",
       "3                                         0   \n",
       "4                                         0   \n",
       "\n",
       "   A free copy of Mastering The Interview  Last Notable Activity  \n",
       "0                                       0               Modified  \n",
       "1                                       0           Email Opened  \n",
       "2                                       1           Email Opened  \n",
       "3                                       0               Modified  \n",
       "4                                       0               Modified  \n",
       "\n",
       "[5 rows x 37 columns]"
      ]
     },
     "execution_count": 133,
     "metadata": {},
     "output_type": "execute_result"
    }
   ],
   "source": [
    "# List of variables to map\n",
    "\n",
    "varlist =  ['Do Not Email', 'Do Not Call', 'Search', 'Magazine', 'Newspaper Article','X Education Forums','Newspaper','Digital Advertisement','Through Recommendations','Receive More Updates About Our Courses','Update me on Supply Chain Content','Get updates on DM Content','I agree to pay the amount through cheque','A free copy of Mastering The Interview']\n",
    "\n",
    "# Defining the map function\n",
    "def binary_map(x):\n",
    "    return x.map({'Yes': 1, \"No\": 0})\n",
    "\n",
    "# Applying the function to the housing list\n",
    "leadScore[varlist] = leadScore[varlist].apply(binary_map)\n",
    "\n",
    "leadScore.head()"
   ]
  },
  {
   "cell_type": "markdown",
   "metadata": {},
   "source": [
    "#### Dropping of high Percenatge of Missing Values"
   ]
  },
  {
   "cell_type": "code",
   "execution_count": 134,
   "metadata": {},
   "outputs": [
    {
     "data": {
      "text/html": [
       "<div>\n",
       "<style scoped>\n",
       "    .dataframe tbody tr th:only-of-type {\n",
       "        vertical-align: middle;\n",
       "    }\n",
       "\n",
       "    .dataframe tbody tr th {\n",
       "        vertical-align: top;\n",
       "    }\n",
       "\n",
       "    .dataframe thead th {\n",
       "        text-align: right;\n",
       "    }\n",
       "</style>\n",
       "<table border=\"1\" class=\"dataframe\">\n",
       "  <thead>\n",
       "    <tr style=\"text-align: right;\">\n",
       "      <th></th>\n",
       "      <th>Prospect ID</th>\n",
       "      <th>Lead Number</th>\n",
       "      <th>Lead Origin</th>\n",
       "      <th>Lead Source</th>\n",
       "      <th>Do Not Email</th>\n",
       "      <th>Do Not Call</th>\n",
       "      <th>Converted</th>\n",
       "      <th>TotalVisits</th>\n",
       "      <th>Total Time Spent on Website</th>\n",
       "      <th>Page Views Per Visit</th>\n",
       "      <th>...</th>\n",
       "      <th>Get updates on DM Content</th>\n",
       "      <th>Lead Profile</th>\n",
       "      <th>City</th>\n",
       "      <th>Asymmetrique Activity Index</th>\n",
       "      <th>Asymmetrique Profile Index</th>\n",
       "      <th>Asymmetrique Activity Score</th>\n",
       "      <th>Asymmetrique Profile Score</th>\n",
       "      <th>I agree to pay the amount through cheque</th>\n",
       "      <th>A free copy of Mastering The Interview</th>\n",
       "      <th>Last Notable Activity</th>\n",
       "    </tr>\n",
       "  </thead>\n",
       "  <tbody>\n",
       "  </tbody>\n",
       "</table>\n",
       "<p>0 rows × 37 columns</p>\n",
       "</div>"
      ],
      "text/plain": [
       "Empty DataFrame\n",
       "Columns: [Prospect ID, Lead Number, Lead Origin, Lead Source, Do Not Email, Do Not Call, Converted, TotalVisits, Total Time Spent on Website, Page Views Per Visit, Last Activity, Country, Specialization, How did you hear about X Education, What is your current occupation, What matters most to you in choosing a course, Search, Magazine, Newspaper Article, X Education Forums, Newspaper, Digital Advertisement, Through Recommendations, Receive More Updates About Our Courses, Tags, Lead Quality, Update me on Supply Chain Content, Get updates on DM Content, Lead Profile, City, Asymmetrique Activity Index, Asymmetrique Profile Index, Asymmetrique Activity Score, Asymmetrique Profile Score, I agree to pay the amount through cheque, A free copy of Mastering The Interview, Last Notable Activity]\n",
       "Index: []\n",
       "\n",
       "[0 rows x 37 columns]"
      ]
     },
     "execution_count": 134,
     "metadata": {},
     "output_type": "execute_result"
    }
   ],
   "source": [
    "## Checking for Duplicate records\n",
    "leadScore[leadScore.duplicated()]"
   ]
  },
  {
   "cell_type": "code",
   "execution_count": 135,
   "metadata": {},
   "outputs": [
    {
     "data": {
      "text/plain": [
       "Prospect ID                                       0.00\n",
       "Lead Number                                       0.00\n",
       "Lead Origin                                       0.00\n",
       "Lead Source                                       0.39\n",
       "Do Not Email                                      0.00\n",
       "Do Not Call                                       0.00\n",
       "Converted                                         0.00\n",
       "TotalVisits                                       1.48\n",
       "Total Time Spent on Website                       0.00\n",
       "Page Views Per Visit                              1.48\n",
       "Last Activity                                     1.11\n",
       "Country                                          26.63\n",
       "Specialization                                   15.56\n",
       "How did you hear about X Education               23.89\n",
       "What is your current occupation                  29.11\n",
       "What matters most to you in choosing a course    29.32\n",
       "Search                                            0.00\n",
       "Magazine                                          0.00\n",
       "Newspaper Article                                 0.00\n",
       "X Education Forums                                0.00\n",
       "Newspaper                                         0.00\n",
       "Digital Advertisement                             0.00\n",
       "Through Recommendations                           0.00\n",
       "Receive More Updates About Our Courses            0.00\n",
       "Tags                                             36.29\n",
       "Lead Quality                                     51.59\n",
       "Update me on Supply Chain Content                 0.00\n",
       "Get updates on DM Content                         0.00\n",
       "Lead Profile                                     29.32\n",
       "City                                             15.37\n",
       "Asymmetrique Activity Index                      45.65\n",
       "Asymmetrique Profile Index                       45.65\n",
       "Asymmetrique Activity Score                      45.65\n",
       "Asymmetrique Profile Score                       45.65\n",
       "I agree to pay the amount through cheque          0.00\n",
       "A free copy of Mastering The Interview            0.00\n",
       "Last Notable Activity                             0.00\n",
       "dtype: float64"
      ]
     },
     "execution_count": 135,
     "metadata": {},
     "output_type": "execute_result"
    }
   ],
   "source": [
    "# Checking the percentage of missing values\n",
    "round(100*(leadScore.isnull().sum()/len(leadScore.index)), 2)"
   ]
  },
  {
   "cell_type": "markdown",
   "metadata": {},
   "source": [
    "### Imputation Techniques to handle Missing Values\n",
    "\n",
    "- Dropping the Columns having more than 35% of Missing values\n",
    "- removing misingvalues of the Columns having < 2% of Missing Values\n",
    "- FIlling 'Others' for the rest of the columns having > 2 % to < 35% of Missing values"
   ]
  },
  {
   "cell_type": "code",
   "execution_count": 136,
   "metadata": {},
   "outputs": [
    {
     "data": {
      "text/html": [
       "<div>\n",
       "<style scoped>\n",
       "    .dataframe tbody tr th:only-of-type {\n",
       "        vertical-align: middle;\n",
       "    }\n",
       "\n",
       "    .dataframe tbody tr th {\n",
       "        vertical-align: top;\n",
       "    }\n",
       "\n",
       "    .dataframe thead th {\n",
       "        text-align: right;\n",
       "    }\n",
       "</style>\n",
       "<table border=\"1\" class=\"dataframe\">\n",
       "  <thead>\n",
       "    <tr style=\"text-align: right;\">\n",
       "      <th></th>\n",
       "      <th>Prospect ID</th>\n",
       "      <th>Lead Number</th>\n",
       "      <th>Lead Origin</th>\n",
       "      <th>Lead Source</th>\n",
       "      <th>Do Not Email</th>\n",
       "      <th>Do Not Call</th>\n",
       "      <th>Converted</th>\n",
       "      <th>TotalVisits</th>\n",
       "      <th>Total Time Spent on Website</th>\n",
       "      <th>Page Views Per Visit</th>\n",
       "      <th>...</th>\n",
       "      <th>Digital Advertisement</th>\n",
       "      <th>Through Recommendations</th>\n",
       "      <th>Receive More Updates About Our Courses</th>\n",
       "      <th>Update me on Supply Chain Content</th>\n",
       "      <th>Get updates on DM Content</th>\n",
       "      <th>Lead Profile</th>\n",
       "      <th>City</th>\n",
       "      <th>I agree to pay the amount through cheque</th>\n",
       "      <th>A free copy of Mastering The Interview</th>\n",
       "      <th>Last Notable Activity</th>\n",
       "    </tr>\n",
       "  </thead>\n",
       "  <tbody>\n",
       "    <tr>\n",
       "      <td>0</td>\n",
       "      <td>7927b2df-8bba-4d29-b9a2-b6e0beafe620</td>\n",
       "      <td>660737</td>\n",
       "      <td>API</td>\n",
       "      <td>Olark Chat</td>\n",
       "      <td>0</td>\n",
       "      <td>0</td>\n",
       "      <td>0</td>\n",
       "      <td>0.0</td>\n",
       "      <td>0</td>\n",
       "      <td>0.0</td>\n",
       "      <td>...</td>\n",
       "      <td>0</td>\n",
       "      <td>0</td>\n",
       "      <td>0</td>\n",
       "      <td>0</td>\n",
       "      <td>0</td>\n",
       "      <td>SpecialLead</td>\n",
       "      <td>CityCenter</td>\n",
       "      <td>0</td>\n",
       "      <td>0</td>\n",
       "      <td>Modified</td>\n",
       "    </tr>\n",
       "    <tr>\n",
       "      <td>1</td>\n",
       "      <td>2a272436-5132-4136-86fa-dcc88c88f482</td>\n",
       "      <td>660728</td>\n",
       "      <td>API</td>\n",
       "      <td>Organic Search</td>\n",
       "      <td>0</td>\n",
       "      <td>0</td>\n",
       "      <td>0</td>\n",
       "      <td>5.0</td>\n",
       "      <td>674</td>\n",
       "      <td>2.5</td>\n",
       "      <td>...</td>\n",
       "      <td>0</td>\n",
       "      <td>0</td>\n",
       "      <td>0</td>\n",
       "      <td>0</td>\n",
       "      <td>0</td>\n",
       "      <td>SpecialLead</td>\n",
       "      <td>CityCenter</td>\n",
       "      <td>0</td>\n",
       "      <td>0</td>\n",
       "      <td>Email Opened</td>\n",
       "    </tr>\n",
       "    <tr>\n",
       "      <td>2</td>\n",
       "      <td>8cc8c611-a219-4f35-ad23-fdfd2656bd8a</td>\n",
       "      <td>660727</td>\n",
       "      <td>Landing Page Submission</td>\n",
       "      <td>Direct Traffic</td>\n",
       "      <td>0</td>\n",
       "      <td>0</td>\n",
       "      <td>1</td>\n",
       "      <td>2.0</td>\n",
       "      <td>1532</td>\n",
       "      <td>2.0</td>\n",
       "      <td>...</td>\n",
       "      <td>0</td>\n",
       "      <td>0</td>\n",
       "      <td>0</td>\n",
       "      <td>0</td>\n",
       "      <td>0</td>\n",
       "      <td>Potential Lead</td>\n",
       "      <td>Mumbai</td>\n",
       "      <td>0</td>\n",
       "      <td>1</td>\n",
       "      <td>Email Opened</td>\n",
       "    </tr>\n",
       "    <tr>\n",
       "      <td>3</td>\n",
       "      <td>0cc2df48-7cf4-4e39-9de9-19797f9b38cc</td>\n",
       "      <td>660719</td>\n",
       "      <td>Landing Page Submission</td>\n",
       "      <td>Direct Traffic</td>\n",
       "      <td>0</td>\n",
       "      <td>0</td>\n",
       "      <td>0</td>\n",
       "      <td>1.0</td>\n",
       "      <td>305</td>\n",
       "      <td>1.0</td>\n",
       "      <td>...</td>\n",
       "      <td>0</td>\n",
       "      <td>0</td>\n",
       "      <td>0</td>\n",
       "      <td>0</td>\n",
       "      <td>0</td>\n",
       "      <td>SpecialLead</td>\n",
       "      <td>Mumbai</td>\n",
       "      <td>0</td>\n",
       "      <td>0</td>\n",
       "      <td>Modified</td>\n",
       "    </tr>\n",
       "    <tr>\n",
       "      <td>4</td>\n",
       "      <td>3256f628-e534-4826-9d63-4a8b88782852</td>\n",
       "      <td>660681</td>\n",
       "      <td>Landing Page Submission</td>\n",
       "      <td>Google</td>\n",
       "      <td>0</td>\n",
       "      <td>0</td>\n",
       "      <td>1</td>\n",
       "      <td>2.0</td>\n",
       "      <td>1428</td>\n",
       "      <td>1.0</td>\n",
       "      <td>...</td>\n",
       "      <td>0</td>\n",
       "      <td>0</td>\n",
       "      <td>0</td>\n",
       "      <td>0</td>\n",
       "      <td>0</td>\n",
       "      <td>SpecialLead</td>\n",
       "      <td>Mumbai</td>\n",
       "      <td>0</td>\n",
       "      <td>0</td>\n",
       "      <td>Modified</td>\n",
       "    </tr>\n",
       "  </tbody>\n",
       "</table>\n",
       "<p>5 rows × 31 columns</p>\n",
       "</div>"
      ],
      "text/plain": [
       "                            Prospect ID  Lead Number              Lead Origin  \\\n",
       "0  7927b2df-8bba-4d29-b9a2-b6e0beafe620       660737                      API   \n",
       "1  2a272436-5132-4136-86fa-dcc88c88f482       660728                      API   \n",
       "2  8cc8c611-a219-4f35-ad23-fdfd2656bd8a       660727  Landing Page Submission   \n",
       "3  0cc2df48-7cf4-4e39-9de9-19797f9b38cc       660719  Landing Page Submission   \n",
       "4  3256f628-e534-4826-9d63-4a8b88782852       660681  Landing Page Submission   \n",
       "\n",
       "      Lead Source  Do Not Email  Do Not Call  Converted  TotalVisits  \\\n",
       "0      Olark Chat             0            0          0          0.0   \n",
       "1  Organic Search             0            0          0          5.0   \n",
       "2  Direct Traffic             0            0          1          2.0   \n",
       "3  Direct Traffic             0            0          0          1.0   \n",
       "4          Google             0            0          1          2.0   \n",
       "\n",
       "   Total Time Spent on Website  Page Views Per Visit  ...  \\\n",
       "0                            0                   0.0  ...   \n",
       "1                          674                   2.5  ...   \n",
       "2                         1532                   2.0  ...   \n",
       "3                          305                   1.0  ...   \n",
       "4                         1428                   1.0  ...   \n",
       "\n",
       "  Digital Advertisement Through Recommendations  \\\n",
       "0                     0                       0   \n",
       "1                     0                       0   \n",
       "2                     0                       0   \n",
       "3                     0                       0   \n",
       "4                     0                       0   \n",
       "\n",
       "  Receive More Updates About Our Courses Update me on Supply Chain Content  \\\n",
       "0                                      0                                 0   \n",
       "1                                      0                                 0   \n",
       "2                                      0                                 0   \n",
       "3                                      0                                 0   \n",
       "4                                      0                                 0   \n",
       "\n",
       "  Get updates on DM Content    Lead Profile        City  \\\n",
       "0                         0     SpecialLead  CityCenter   \n",
       "1                         0     SpecialLead  CityCenter   \n",
       "2                         0  Potential Lead      Mumbai   \n",
       "3                         0     SpecialLead      Mumbai   \n",
       "4                         0     SpecialLead      Mumbai   \n",
       "\n",
       "   I agree to pay the amount through cheque  \\\n",
       "0                                         0   \n",
       "1                                         0   \n",
       "2                                         0   \n",
       "3                                         0   \n",
       "4                                         0   \n",
       "\n",
       "   A free copy of Mastering The Interview  Last Notable Activity  \n",
       "0                                       0               Modified  \n",
       "1                                       0           Email Opened  \n",
       "2                                       1           Email Opened  \n",
       "3                                       0               Modified  \n",
       "4                                       0               Modified  \n",
       "\n",
       "[5 rows x 31 columns]"
      ]
     },
     "execution_count": 136,
     "metadata": {},
     "output_type": "execute_result"
    }
   ],
   "source": [
    "# Dropping the columns having more than 35% of missing Values\n",
    "\n",
    "leadScore = leadScore.drop(['Tags','Lead Quality','Asymmetrique Activity Index','Asymmetrique Profile Index','Asymmetrique Activity Score','Asymmetrique Profile Score'], axis = 1) \n",
    "leadScore.head()\n"
   ]
  },
  {
   "cell_type": "code",
   "execution_count": 137,
   "metadata": {},
   "outputs": [
    {
     "data": {
      "text/plain": [
       "Prospect ID                                      0.0\n",
       "Lead Number                                      0.0\n",
       "Lead Origin                                      0.0\n",
       "Lead Source                                      0.0\n",
       "Do Not Email                                     0.0\n",
       "Do Not Call                                      0.0\n",
       "Converted                                        0.0\n",
       "TotalVisits                                      0.0\n",
       "Total Time Spent on Website                      0.0\n",
       "Page Views Per Visit                             0.0\n",
       "Last Activity                                    0.0\n",
       "Country                                          0.0\n",
       "Specialization                                   0.0\n",
       "How did you hear about X Education               0.0\n",
       "What is your current occupation                  0.0\n",
       "What matters most to you in choosing a course    0.0\n",
       "Search                                           0.0\n",
       "Magazine                                         0.0\n",
       "Newspaper Article                                0.0\n",
       "X Education Forums                               0.0\n",
       "Newspaper                                        0.0\n",
       "Digital Advertisement                            0.0\n",
       "Through Recommendations                          0.0\n",
       "Receive More Updates About Our Courses           0.0\n",
       "Update me on Supply Chain Content                0.0\n",
       "Get updates on DM Content                        0.0\n",
       "Lead Profile                                     0.0\n",
       "City                                             0.0\n",
       "I agree to pay the amount through cheque         0.0\n",
       "A free copy of Mastering The Interview           0.0\n",
       "Last Notable Activity                            0.0\n",
       "dtype: float64"
      ]
     },
     "execution_count": 137,
     "metadata": {},
     "output_type": "execute_result"
    }
   ],
   "source": [
    "# Removing NaN Lead Source ,TotalVisits,Page Views Per Visit & Last Activity rows\n",
    "\n",
    "leadScore = leadScore[~leadScore['Lead Source'].isnull()]\n",
    "leadScore = leadScore[~np.isnan(leadScore['TotalVisits'])]\n",
    "leadScore = leadScore[~np.isnan(leadScore['Page Views Per Visit'])]\n",
    "\n",
    "# Filling 'Others' to below mentioned Columns\n",
    "\n",
    "leadScore[['Country','Specialization','How did you hear about X Education','What is your current occupation','What matters most to you in choosing a course','Lead Profile','City']] = leadScore[['Country','Specialization','How did you hear about X Education','What is your current occupation','What matters most to you in choosing a course','Lead Profile','City']].fillna(value='Others')\n",
    "round(100*(leadScore.isnull().sum()/len(leadScore.index)), 2)\n",
    "\n",
    "# Checking the percentage of missing values\n",
    "round(100*(leadScore.isnull().sum()/len(leadScore.index)), 2)"
   ]
  },
  {
   "cell_type": "markdown",
   "metadata": {},
   "source": [
    "#### Unique Categories in the Categorical Columns"
   ]
  },
  {
   "cell_type": "code",
   "execution_count": 138,
   "metadata": {},
   "outputs": [],
   "source": [
    "# Finding the object columns\n",
    "series_value= leadScore.columns.to_series().groupby(leadScore.dtypes).groups\n",
    "dic={k.name: v for k, v in series_value.items()}\n",
    "column_obj=list(dic['object'])\n",
    "len(column_obj)\n",
    "column_obj.remove('Prospect ID')"
   ]
  },
  {
   "cell_type": "code",
   "execution_count": 139,
   "metadata": {},
   "outputs": [
    {
     "data": {
      "image/png": "[encoded data removed]",
      "text/plain": [
       "<Figure size 1440x1440 with 11 Axes>"
      ]
     },
     "metadata": {
      "needs_background": "light"
     },
     "output_type": "display_data"
    }
   ],
   "source": [
    "## displaying top five value count for each variables\n",
    "plt.figure(figsize = (20, 20))\n",
    "for i in enumerate(column_obj):\n",
    "    plt.subplot(12,2,i[0]+1)\n",
    "    plt.subplots_adjust( hspace=1)\n",
    "    plt.xlabel(i[1])\n",
    "    sns.barplot(((leadScore[i[1]].value_counts()/leadScore[i[1]].count())*100)[:5,].index,\n",
    "                ((leadScore[i[1]].value_counts()/leadScore[i[1]].count())*100)[:5,].values)"
   ]
  },
  {
   "cell_type": "markdown",
   "metadata": {},
   "source": [
    "#### Based on the above graph,The treshold percentage is set and the value to be replaced is fixed in the dic"
   ]
  },
  {
   "cell_type": "code",
   "execution_count": 140,
   "metadata": {},
   "outputs": [],
   "source": [
    "# Creating Dic to replace the values after the threshold values\n",
    "dic_replace={\"Lead Origin\":[30,'Other Lead Origin'],\n",
    "\"Lead Source\":[10,'Other Source'],\n",
    "\"Last Activity\":[10,'Other Activity'],\n",
    "\"Country\":[20,'Other country'],\n",
    "\"Specialization\":[10,'Other Specialization'],\n",
    "\"How did you hear about X Education\":[10,'Other Resourses'],\n",
    "\"What is your current occupation\":[10,'Other occupation'],\n",
    "\"What matters most to you in choosing a course\":[10,'Other choosing'],\n",
    "\"Lead Profile\":[10,'Other Lead profile'],\n",
    "\"City\":[10,'Other city'],\n",
    "\"Last Notable Activity\":[10,'Other Notable Activity']}"
   ]
  },
  {
   "cell_type": "code",
   "execution_count": 141,
   "metadata": {},
   "outputs": [],
   "source": [
    "#  Function to replace all the catar variables\n",
    "for i in enumerate(column_obj):\n",
    "    Lead_replace=pd.DataFrame((((((leadScore[i[1]].value_counts()/leadScore[i[1]].count())*100)>dic_replace[i[1]][0])).reset_index()))\n",
    "    Lead_replace.columns=['Lead Origin','Result']\n",
    "    list_false=Lead_replace['Lead Origin'][Lead_replace['Result']==False].values\n",
    "    for j in enumerate(list_false):\n",
    "        leadScore[i[1]].replace([j[1]],[dic_replace[i[1]][1]],inplace=True)"
   ]
  },
  {
   "cell_type": "code",
   "execution_count": 142,
   "metadata": {},
   "outputs": [
    {
     "data": {
      "image/png": "[encoded data removed]",
      "text/plain": [
       "<Figure size 1440x1440 with 11 Axes>"
      ]
     },
     "metadata": {
      "needs_background": "light"
     },
     "output_type": "display_data"
    }
   ],
   "source": [
    "## displaying top five value count for each variables after the replacement\n",
    "plt.figure(figsize = (20, 20))\n",
    "for i in enumerate(column_obj):\n",
    "    plt.subplot(12,2,i[0]+1)\n",
    "    plt.subplots_adjust( hspace=1)\n",
    "    plt.xlabel(i[1])\n",
    "    sns.barplot(((leadScore[i[1]].value_counts()/leadScore[i[1]].count())*100)[:5,].index,\n",
    "                ((leadScore[i[1]].value_counts()/leadScore[i[1]].count())*100)[:5,].values)"
   ]
  },
  {
   "cell_type": "markdown",
   "metadata": {},
   "source": [
    "### Finding the outliers"
   ]
  },
  {
   "cell_type": "code",
   "execution_count": 143,
   "metadata": {},
   "outputs": [
    {
     "data": {
      "text/html": [
       "<div>\n",
       "<style scoped>\n",
       "    .dataframe tbody tr th:only-of-type {\n",
       "        vertical-align: middle;\n",
       "    }\n",
       "\n",
       "    .dataframe tbody tr th {\n",
       "        vertical-align: top;\n",
       "    }\n",
       "\n",
       "    .dataframe thead th {\n",
       "        text-align: right;\n",
       "    }\n",
       "</style>\n",
       "<table border=\"1\" class=\"dataframe\">\n",
       "  <thead>\n",
       "    <tr style=\"text-align: right;\">\n",
       "      <th></th>\n",
       "      <th>Lead Number</th>\n",
       "      <th>Do Not Email</th>\n",
       "      <th>Do Not Call</th>\n",
       "      <th>Converted</th>\n",
       "      <th>TotalVisits</th>\n",
       "      <th>Total Time Spent on Website</th>\n",
       "      <th>Page Views Per Visit</th>\n",
       "      <th>Search</th>\n",
       "      <th>Magazine</th>\n",
       "      <th>Newspaper Article</th>\n",
       "      <th>X Education Forums</th>\n",
       "      <th>Newspaper</th>\n",
       "      <th>Digital Advertisement</th>\n",
       "      <th>Through Recommendations</th>\n",
       "      <th>Receive More Updates About Our Courses</th>\n",
       "      <th>Update me on Supply Chain Content</th>\n",
       "      <th>Get updates on DM Content</th>\n",
       "      <th>I agree to pay the amount through cheque</th>\n",
       "      <th>A free copy of Mastering The Interview</th>\n",
       "    </tr>\n",
       "  </thead>\n",
       "  <tbody>\n",
       "    <tr>\n",
       "      <td>count</td>\n",
       "      <td>9074.000000</td>\n",
       "      <td>9074.000000</td>\n",
       "      <td>9074.000000</td>\n",
       "      <td>9074.000000</td>\n",
       "      <td>9074.000000</td>\n",
       "      <td>9074.000000</td>\n",
       "      <td>9074.000000</td>\n",
       "      <td>9074.000000</td>\n",
       "      <td>9074.0</td>\n",
       "      <td>9074.000000</td>\n",
       "      <td>9074.000000</td>\n",
       "      <td>9074.000000</td>\n",
       "      <td>9074.000000</td>\n",
       "      <td>9074.000000</td>\n",
       "      <td>9074.0</td>\n",
       "      <td>9074.0</td>\n",
       "      <td>9074.0</td>\n",
       "      <td>9074.0</td>\n",
       "      <td>9074.000000</td>\n",
       "    </tr>\n",
       "    <tr>\n",
       "      <td>mean</td>\n",
       "      <td>617032.619352</td>\n",
       "      <td>0.078907</td>\n",
       "      <td>0.000220</td>\n",
       "      <td>0.378554</td>\n",
       "      <td>3.456028</td>\n",
       "      <td>482.887481</td>\n",
       "      <td>2.370151</td>\n",
       "      <td>0.001543</td>\n",
       "      <td>0.0</td>\n",
       "      <td>0.000220</td>\n",
       "      <td>0.000110</td>\n",
       "      <td>0.000110</td>\n",
       "      <td>0.000441</td>\n",
       "      <td>0.000771</td>\n",
       "      <td>0.0</td>\n",
       "      <td>0.0</td>\n",
       "      <td>0.0</td>\n",
       "      <td>0.0</td>\n",
       "      <td>0.318272</td>\n",
       "    </tr>\n",
       "    <tr>\n",
       "      <td>std</td>\n",
       "      <td>23348.029512</td>\n",
       "      <td>0.269608</td>\n",
       "      <td>0.014845</td>\n",
       "      <td>0.485053</td>\n",
       "      <td>4.858802</td>\n",
       "      <td>545.256560</td>\n",
       "      <td>2.160871</td>\n",
       "      <td>0.039251</td>\n",
       "      <td>0.0</td>\n",
       "      <td>0.014845</td>\n",
       "      <td>0.010498</td>\n",
       "      <td>0.010498</td>\n",
       "      <td>0.020992</td>\n",
       "      <td>0.027766</td>\n",
       "      <td>0.0</td>\n",
       "      <td>0.0</td>\n",
       "      <td>0.0</td>\n",
       "      <td>0.0</td>\n",
       "      <td>0.465831</td>\n",
       "    </tr>\n",
       "    <tr>\n",
       "      <td>min</td>\n",
       "      <td>579533.000000</td>\n",
       "      <td>0.000000</td>\n",
       "      <td>0.000000</td>\n",
       "      <td>0.000000</td>\n",
       "      <td>0.000000</td>\n",
       "      <td>0.000000</td>\n",
       "      <td>0.000000</td>\n",
       "      <td>0.000000</td>\n",
       "      <td>0.0</td>\n",
       "      <td>0.000000</td>\n",
       "      <td>0.000000</td>\n",
       "      <td>0.000000</td>\n",
       "      <td>0.000000</td>\n",
       "      <td>0.000000</td>\n",
       "      <td>0.0</td>\n",
       "      <td>0.0</td>\n",
       "      <td>0.0</td>\n",
       "      <td>0.0</td>\n",
       "      <td>0.000000</td>\n",
       "    </tr>\n",
       "    <tr>\n",
       "      <td>25%</td>\n",
       "      <td>596406.000000</td>\n",
       "      <td>0.000000</td>\n",
       "      <td>0.000000</td>\n",
       "      <td>0.000000</td>\n",
       "      <td>1.000000</td>\n",
       "      <td>11.000000</td>\n",
       "      <td>1.000000</td>\n",
       "      <td>0.000000</td>\n",
       "      <td>0.0</td>\n",
       "      <td>0.000000</td>\n",
       "      <td>0.000000</td>\n",
       "      <td>0.000000</td>\n",
       "      <td>0.000000</td>\n",
       "      <td>0.000000</td>\n",
       "      <td>0.0</td>\n",
       "      <td>0.0</td>\n",
       "      <td>0.0</td>\n",
       "      <td>0.0</td>\n",
       "      <td>0.000000</td>\n",
       "    </tr>\n",
       "    <tr>\n",
       "      <td>50%</td>\n",
       "      <td>615278.500000</td>\n",
       "      <td>0.000000</td>\n",
       "      <td>0.000000</td>\n",
       "      <td>0.000000</td>\n",
       "      <td>3.000000</td>\n",
       "      <td>246.000000</td>\n",
       "      <td>2.000000</td>\n",
       "      <td>0.000000</td>\n",
       "      <td>0.0</td>\n",
       "      <td>0.000000</td>\n",
       "      <td>0.000000</td>\n",
       "      <td>0.000000</td>\n",
       "      <td>0.000000</td>\n",
       "      <td>0.000000</td>\n",
       "      <td>0.0</td>\n",
       "      <td>0.0</td>\n",
       "      <td>0.0</td>\n",
       "      <td>0.0</td>\n",
       "      <td>0.000000</td>\n",
       "    </tr>\n",
       "    <tr>\n",
       "      <td>75%</td>\n",
       "      <td>637176.500000</td>\n",
       "      <td>0.000000</td>\n",
       "      <td>0.000000</td>\n",
       "      <td>1.000000</td>\n",
       "      <td>5.000000</td>\n",
       "      <td>922.750000</td>\n",
       "      <td>3.200000</td>\n",
       "      <td>0.000000</td>\n",
       "      <td>0.0</td>\n",
       "      <td>0.000000</td>\n",
       "      <td>0.000000</td>\n",
       "      <td>0.000000</td>\n",
       "      <td>0.000000</td>\n",
       "      <td>0.000000</td>\n",
       "      <td>0.0</td>\n",
       "      <td>0.0</td>\n",
       "      <td>0.0</td>\n",
       "      <td>0.0</td>\n",
       "      <td>1.000000</td>\n",
       "    </tr>\n",
       "    <tr>\n",
       "      <td>95%</td>\n",
       "      <td>655344.450000</td>\n",
       "      <td>1.000000</td>\n",
       "      <td>0.000000</td>\n",
       "      <td>1.000000</td>\n",
       "      <td>10.000000</td>\n",
       "      <td>1557.000000</td>\n",
       "      <td>6.000000</td>\n",
       "      <td>0.000000</td>\n",
       "      <td>0.0</td>\n",
       "      <td>0.000000</td>\n",
       "      <td>0.000000</td>\n",
       "      <td>0.000000</td>\n",
       "      <td>0.000000</td>\n",
       "      <td>0.000000</td>\n",
       "      <td>0.0</td>\n",
       "      <td>0.0</td>\n",
       "      <td>0.0</td>\n",
       "      <td>0.0</td>\n",
       "      <td>1.000000</td>\n",
       "    </tr>\n",
       "    <tr>\n",
       "      <td>99%</td>\n",
       "      <td>659563.350000</td>\n",
       "      <td>1.000000</td>\n",
       "      <td>0.000000</td>\n",
       "      <td>1.000000</td>\n",
       "      <td>17.000000</td>\n",
       "      <td>1839.000000</td>\n",
       "      <td>9.000000</td>\n",
       "      <td>0.000000</td>\n",
       "      <td>0.0</td>\n",
       "      <td>0.000000</td>\n",
       "      <td>0.000000</td>\n",
       "      <td>0.000000</td>\n",
       "      <td>0.000000</td>\n",
       "      <td>0.000000</td>\n",
       "      <td>0.0</td>\n",
       "      <td>0.0</td>\n",
       "      <td>0.0</td>\n",
       "      <td>0.0</td>\n",
       "      <td>1.000000</td>\n",
       "    </tr>\n",
       "    <tr>\n",
       "      <td>max</td>\n",
       "      <td>660737.000000</td>\n",
       "      <td>1.000000</td>\n",
       "      <td>1.000000</td>\n",
       "      <td>1.000000</td>\n",
       "      <td>251.000000</td>\n",
       "      <td>2272.000000</td>\n",
       "      <td>55.000000</td>\n",
       "      <td>1.000000</td>\n",
       "      <td>0.0</td>\n",
       "      <td>1.000000</td>\n",
       "      <td>1.000000</td>\n",
       "      <td>1.000000</td>\n",
       "      <td>1.000000</td>\n",
       "      <td>1.000000</td>\n",
       "      <td>0.0</td>\n",
       "      <td>0.0</td>\n",
       "      <td>0.0</td>\n",
       "      <td>0.0</td>\n",
       "      <td>1.000000</td>\n",
       "    </tr>\n",
       "  </tbody>\n",
       "</table>\n",
       "</div>"
      ],
      "text/plain": [
       "         Lead Number  Do Not Email  Do Not Call    Converted  TotalVisits  \\\n",
       "count    9074.000000   9074.000000  9074.000000  9074.000000  9074.000000   \n",
       "mean   617032.619352      0.078907     0.000220     0.378554     3.456028   \n",
       "std     23348.029512      0.269608     0.014845     0.485053     4.858802   \n",
       "min    579533.000000      0.000000     0.000000     0.000000     0.000000   \n",
       "25%    596406.000000      0.000000     0.000000     0.000000     1.000000   \n",
       "50%    615278.500000      0.000000     0.000000     0.000000     3.000000   \n",
       "75%    637176.500000      0.000000     0.000000     1.000000     5.000000   \n",
       "95%    655344.450000      1.000000     0.000000     1.000000    10.000000   \n",
       "99%    659563.350000      1.000000     0.000000     1.000000    17.000000   \n",
       "max    660737.000000      1.000000     1.000000     1.000000   251.000000   \n",
       "\n",
       "       Total Time Spent on Website  Page Views Per Visit       Search  \\\n",
       "count                  9074.000000           9074.000000  9074.000000   \n",
       "mean                    482.887481              2.370151     0.001543   \n",
       "std                     545.256560              2.160871     0.039251   \n",
       "min                       0.000000              0.000000     0.000000   \n",
       "25%                      11.000000              1.000000     0.000000   \n",
       "50%                     246.000000              2.000000     0.000000   \n",
       "75%                     922.750000              3.200000     0.000000   \n",
       "95%                    1557.000000              6.000000     0.000000   \n",
       "99%                    1839.000000              9.000000     0.000000   \n",
       "max                    2272.000000             55.000000     1.000000   \n",
       "\n",
       "       Magazine  Newspaper Article  X Education Forums    Newspaper  \\\n",
       "count    9074.0        9074.000000         9074.000000  9074.000000   \n",
       "mean        0.0           0.000220            0.000110     0.000110   \n",
       "std         0.0           0.014845            0.010498     0.010498   \n",
       "min         0.0           0.000000            0.000000     0.000000   \n",
       "25%         0.0           0.000000            0.000000     0.000000   \n",
       "50%         0.0           0.000000            0.000000     0.000000   \n",
       "75%         0.0           0.000000            0.000000     0.000000   \n",
       "95%         0.0           0.000000            0.000000     0.000000   \n",
       "99%         0.0           0.000000            0.000000     0.000000   \n",
       "max         0.0           1.000000            1.000000     1.000000   \n",
       "\n",
       "       Digital Advertisement  Through Recommendations  \\\n",
       "count            9074.000000              9074.000000   \n",
       "mean                0.000441                 0.000771   \n",
       "std                 0.020992                 0.027766   \n",
       "min                 0.000000                 0.000000   \n",
       "25%                 0.000000                 0.000000   \n",
       "50%                 0.000000                 0.000000   \n",
       "75%                 0.000000                 0.000000   \n",
       "95%                 0.000000                 0.000000   \n",
       "99%                 0.000000                 0.000000   \n",
       "max                 1.000000                 1.000000   \n",
       "\n",
       "       Receive More Updates About Our Courses  \\\n",
       "count                                  9074.0   \n",
       "mean                                      0.0   \n",
       "std                                       0.0   \n",
       "min                                       0.0   \n",
       "25%                                       0.0   \n",
       "50%                                       0.0   \n",
       "75%                                       0.0   \n",
       "95%                                       0.0   \n",
       "99%                                       0.0   \n",
       "max                                       0.0   \n",
       "\n",
       "       Update me on Supply Chain Content  Get updates on DM Content  \\\n",
       "count                             9074.0                     9074.0   \n",
       "mean                                 0.0                        0.0   \n",
       "std                                  0.0                        0.0   \n",
       "min                                  0.0                        0.0   \n",
       "25%                                  0.0                        0.0   \n",
       "50%                                  0.0                        0.0   \n",
       "75%                                  0.0                        0.0   \n",
       "95%                                  0.0                        0.0   \n",
       "99%                                  0.0                        0.0   \n",
       "max                                  0.0                        0.0   \n",
       "\n",
       "       I agree to pay the amount through cheque  \\\n",
       "count                                    9074.0   \n",
       "mean                                        0.0   \n",
       "std                                         0.0   \n",
       "min                                         0.0   \n",
       "25%                                         0.0   \n",
       "50%                                         0.0   \n",
       "75%                                         0.0   \n",
       "95%                                         0.0   \n",
       "99%                                         0.0   \n",
       "max                                         0.0   \n",
       "\n",
       "       A free copy of Mastering The Interview  \n",
       "count                             9074.000000  \n",
       "mean                                 0.318272  \n",
       "std                                  0.465831  \n",
       "min                                  0.000000  \n",
       "25%                                  0.000000  \n",
       "50%                                  0.000000  \n",
       "75%                                  1.000000  \n",
       "95%                                  1.000000  \n",
       "99%                                  1.000000  \n",
       "max                                  1.000000  "
      ]
     },
     "execution_count": 143,
     "metadata": {},
     "output_type": "execute_result"
    }
   ],
   "source": [
    "leadScore.describe(percentiles=[0.25,0.5,0.75,0.95,0.99])"
   ]
  },
  {
   "cell_type": "code",
   "execution_count": 144,
   "metadata": {},
   "outputs": [
    {
     "data": {
      "image/png": "[encoded data removed]",
      "text/plain": [
       "<Figure size 1440x1440 with 4 Axes>"
      ]
     },
     "metadata": {
      "needs_background": "light"
     },
     "output_type": "display_data"
    }
   ],
   "source": [
    "## checking for the outliers\n",
    "plt.figure(figsize = (20, 20))\n",
    "feature = ['Lead Number', 'TotalVisits','Total Time Spent on Website',\n",
    "           'Page Views Per Visit']\n",
    "for i in enumerate(feature):\n",
    "    plt.subplot(9,4,i[0]+1)\n",
    "    plt.subplots_adjust( hspace=1)\n",
    "    sns.boxplot(leadScore[i[1]])"
   ]
  },
  {
   "cell_type": "markdown",
   "metadata": {},
   "source": [
    "### Treating Outlier : \n",
    "- Impact  : May give misleading results .\n",
    "- Decision  : We believe dropping data is always a harsh step and should be taken only in extreme conditions when    we’re very sure that the outlier is a measurement error, which we generally do not know.When we drop data, we lose information in terms of the variability in data. Hence we can Cap them.\n",
    "        \n",
    "    "
   ]
  },
  {
   "cell_type": "code",
   "execution_count": 145,
   "metadata": {},
   "outputs": [],
   "source": [
    "## Capping  : I have less outlier \n",
    "\n",
    "q1 = leadScore['TotalVisits'].quantile(0.01)\n",
    "q4 = leadScore['TotalVisits'].quantile(0.99)\n",
    "\n",
    "leadScore['TotalVisits'][leadScore['TotalVisits'] <= q1] = q1\n",
    "leadScore['TotalVisits'][leadScore['TotalVisits'] >= q4] = q4\n",
    "\n",
    "q1 = leadScore['Page Views Per Visit'].quantile(0.01)\n",
    "q4 = leadScore['Page Views Per Visit'].quantile(0.99)\n",
    "\n",
    "\n",
    "leadScore['Page Views Per Visit'][leadScore['Page Views Per Visit'] <= q1] = q1\n",
    "leadScore['Page Views Per Visit'][leadScore['Page Views Per Visit'] >= q4] = q4"
   ]
  },
  {
   "cell_type": "code",
   "execution_count": 146,
   "metadata": {},
   "outputs": [
    {
     "data": {
      "image/png": "[encoded data removed]",
      "text/plain": [
       "<Figure size 1440x1440 with 4 Axes>"
      ]
     },
     "metadata": {
      "needs_background": "light"
     },
     "output_type": "display_data"
    }
   ],
   "source": [
    "# Rechecking for the outliers\n",
    "plt.figure(figsize = (20, 20))\n",
    "feature = ['Lead Number', 'TotalVisits','Total Time Spent on Website',\n",
    "           'Page Views Per Visit']\n",
    "for i in enumerate(feature):\n",
    "    plt.subplot(9,4,i[0]+1)\n",
    "    plt.subplots_adjust( hspace=1)\n",
    "    sns.boxplot(leadScore[i[1]])"
   ]
  },
  {
   "cell_type": "markdown",
   "metadata": {},
   "source": [
    "##### Therefore, After treating the outlier using Capping Method, still we can see few more outliers. Now we need to take a call on whether to keep the outlier or remove the outliers. We already know  that  removing data's may lead to weaken the model and less outliers - hence we decided to keep the outlier without removing them from the dataset for my better Analysis/Model.\n"
   ]
  },
  {
   "cell_type": "code",
   "execution_count": 150,
   "metadata": {},
   "outputs": [
    {
     "data": {
      "text/plain": [
       "9074"
      ]
     },
     "execution_count": 150,
     "metadata": {},
     "output_type": "execute_result"
    }
   ],
   "source": [
    "## Row Count after Data Cleaning\n",
    "\n",
    "currentRowCount = leadScore.shape[0]\n",
    "currentRowCount"
   ]
  },
  {
   "cell_type": "code",
   "execution_count": 152,
   "metadata": {},
   "outputs": [
    {
     "name": "stdout",
     "output_type": "stream",
     "text": [
      "percenatge of row count after Data Clean : 98.2034632034632\n"
     ]
    }
   ],
   "source": [
    "## Percetageof row count after data cleaning\n",
    "\n",
    "PerRowCount = currentRowCount/rowCount * 100\n",
    "print('percenatge of row count after Data Clean :',PerRowCount)"
   ]
  },
  {
   "cell_type": "markdown",
   "metadata": {},
   "source": [
    "## Data Preparation\n",
    "    \n",
    "- For all categorical variables with multiple levels, create dummy features (one-hot encoded)\n",
    "- Perform train-test split\n",
    "- PerformScalling"
   ]
  },
  {
   "cell_type": "code",
   "execution_count": 153,
   "metadata": {},
   "outputs": [],
   "source": [
    "# Creating a dummy variable for some of the categorical variables and dropping the first one.\n",
    "dummy1 = pd.get_dummies(leadScore[['Lead Origin', 'Lead Source', 'Last Activity','Country',\n",
    "                                   'Specialization',\n",
    "                                   'How did you hear about X Education',\n",
    "                                   'What is your current occupation',\n",
    "                                   'What matters most to you in choosing a course','Lead Profile','City','Last Notable Activity']], drop_first=True)\n",
    "\n",
    "# Adding the results to the master dataframe\n",
    "leadScore = pd.concat([leadScore, dummy1], axis=1)"
   ]
  },
  {
   "cell_type": "code",
   "execution_count": 154,
   "metadata": {},
   "outputs": [
    {
     "data": {
      "text/plain": [
       "Index(['Prospect ID', 'Lead Number', 'Lead Origin', 'Lead Source',\n",
       "       'Do Not Email', 'Do Not Call', 'Converted', 'TotalVisits',\n",
       "       'Total Time Spent on Website', 'Page Views Per Visit', 'Last Activity',\n",
       "       'Country', 'Specialization', 'How did you hear about X Education',\n",
       "       'What is your current occupation',\n",
       "       'What matters most to you in choosing a course', 'Search', 'Magazine',\n",
       "       'Newspaper Article', 'X Education Forums', 'Newspaper',\n",
       "       'Digital Advertisement', 'Through Recommendations',\n",
       "       'Receive More Updates About Our Courses',\n",
       "       'Update me on Supply Chain Content', 'Get updates on DM Content',\n",
       "       'Lead Profile', 'City', 'I agree to pay the amount through cheque',\n",
       "       'A free copy of Mastering The Interview', 'Last Notable Activity',\n",
       "       'Lead Origin_Landing Page Submission', 'Lead Origin_Other Lead Origin',\n",
       "       'Lead Source_Google', 'Lead Source_Olark Chat',\n",
       "       'Lead Source_Organic Search', 'Lead Source_Other Source',\n",
       "       'Last Activity_Olark Chat Conversation', 'Last Activity_Other Activity',\n",
       "       'Last Activity_SMS Sent', 'Country_Other country', 'Country_Others',\n",
       "       'Specialization_Other Specialization', 'Specialization_Others',\n",
       "       'How did you hear about X Education_Others',\n",
       "       'How did you hear about X Education_X Education Forums',\n",
       "       'What is your current occupation_Others',\n",
       "       'What is your current occupation_Unemployed',\n",
       "       'What matters most to you in choosing a course_Other choosing',\n",
       "       'What matters most to you in choosing a course_Others',\n",
       "       'Lead Profile_Others', 'Lead Profile_Potential Lead',\n",
       "       'Lead Profile_SpecialLead', 'City_Mumbai', 'City_Other city',\n",
       "       'City_Others', 'Last Notable Activity_Modified',\n",
       "       'Last Notable Activity_Other Notable Activity',\n",
       "       'Last Notable Activity_SMS Sent'],\n",
       "      dtype='object')"
      ]
     },
     "execution_count": 154,
     "metadata": {},
     "output_type": "execute_result"
    }
   ],
   "source": [
    "leadScore.columns"
   ]
  },
  {
   "cell_type": "code",
   "execution_count": 155,
   "metadata": {},
   "outputs": [],
   "source": [
    "# We have created dummies for the below variables, so we can drop them\n",
    "\n",
    "leadScore.drop(columns=['Lead Origin', 'Lead Source', 'Last Activity','Country',\n",
    "                                   'Specialization',\n",
    "                                   'How did you hear about X Education',\n",
    "                                   'What is your current occupation',\n",
    "                                   'What matters most to you in choosing a course','Lead Profile','City','Last Notable Activity'],inplace=True)"
   ]
  },
  {
   "cell_type": "code",
   "execution_count": 156,
   "metadata": {},
   "outputs": [
    {
     "name": "stdout",
     "output_type": "stream",
     "text": [
      "<class 'pandas.core.frame.DataFrame'>\n",
      "Int64Index: 9074 entries, 0 to 9239\n",
      "Data columns (total 48 columns):\n",
      "Prospect ID                                                     9074 non-null object\n",
      "Lead Number                                                     9074 non-null int64\n",
      "Do Not Email                                                    9074 non-null int64\n",
      "Do Not Call                                                     9074 non-null int64\n",
      "Converted                                                       9074 non-null int64\n",
      "TotalVisits                                                     9074 non-null float64\n",
      "Total Time Spent on Website                                     9074 non-null int64\n",
      "Page Views Per Visit                                            9074 non-null float64\n",
      "Search                                                          9074 non-null int64\n",
      "Magazine                                                        9074 non-null int64\n",
      "Newspaper Article                                               9074 non-null int64\n",
      "X Education Forums                                              9074 non-null int64\n",
      "Newspaper                                                       9074 non-null int64\n",
      "Digital Advertisement                                           9074 non-null int64\n",
      "Through Recommendations                                         9074 non-null int64\n",
      "Receive More Updates About Our Courses                          9074 non-null int64\n",
      "Update me on Supply Chain Content                               9074 non-null int64\n",
      "Get updates on DM Content                                       9074 non-null int64\n",
      "I agree to pay the amount through cheque                        9074 non-null int64\n",
      "A free copy of Mastering The Interview                          9074 non-null int64\n",
      "Lead Origin_Landing Page Submission                             9074 non-null uint8\n",
      "Lead Origin_Other Lead Origin                                   9074 non-null uint8\n",
      "Lead Source_Google                                              9074 non-null uint8\n",
      "Lead Source_Olark Chat                                          9074 non-null uint8\n",
      "Lead Source_Organic Search                                      9074 non-null uint8\n",
      "Lead Source_Other Source                                        9074 non-null uint8\n",
      "Last Activity_Olark Chat Conversation                           9074 non-null uint8\n",
      "Last Activity_Other Activity                                    9074 non-null uint8\n",
      "Last Activity_SMS Sent                                          9074 non-null uint8\n",
      "Country_Other country                                           9074 non-null uint8\n",
      "Country_Others                                                  9074 non-null uint8\n",
      "Specialization_Other Specialization                             9074 non-null uint8\n",
      "Specialization_Others                                           9074 non-null uint8\n",
      "How did you hear about X Education_Others                       9074 non-null uint8\n",
      "How did you hear about X Education_X Education Forums           9074 non-null uint8\n",
      "What is your current occupation_Others                          9074 non-null uint8\n",
      "What is your current occupation_Unemployed                      9074 non-null uint8\n",
      "What matters most to you in choosing a course_Other choosing    9074 non-null uint8\n",
      "What matters most to you in choosing a course_Others            9074 non-null uint8\n",
      "Lead Profile_Others                                             9074 non-null uint8\n",
      "Lead Profile_Potential Lead                                     9074 non-null uint8\n",
      "Lead Profile_SpecialLead                                        9074 non-null uint8\n",
      "City_Mumbai                                                     9074 non-null uint8\n",
      "City_Other city                                                 9074 non-null uint8\n",
      "City_Others                                                     9074 non-null uint8\n",
      "Last Notable Activity_Modified                                  9074 non-null uint8\n",
      "Last Notable Activity_Other Notable Activity                    9074 non-null uint8\n",
      "Last Notable Activity_SMS Sent                                  9074 non-null uint8\n",
      "dtypes: float64(2), int64(17), object(1), uint8(28)\n",
      "memory usage: 1.7+ MB\n"
     ]
    }
   ],
   "source": [
    "leadScore.info()"
   ]
  },
  {
   "cell_type": "markdown",
   "metadata": {},
   "source": [
    "## Splitting the model"
   ]
  },
  {
   "cell_type": "code",
   "execution_count": 157,
   "metadata": {},
   "outputs": [
    {
     "data": {
      "text/html": [
       "<div>\n",
       "<style scoped>\n",
       "    .dataframe tbody tr th:only-of-type {\n",
       "        vertical-align: middle;\n",
       "    }\n",
       "\n",
       "    .dataframe tbody tr th {\n",
       "        vertical-align: top;\n",
       "    }\n",
       "\n",
       "    .dataframe thead th {\n",
       "        text-align: right;\n",
       "    }\n",
       "</style>\n",
       "<table border=\"1\" class=\"dataframe\">\n",
       "  <thead>\n",
       "    <tr style=\"text-align: right;\">\n",
       "      <th></th>\n",
       "      <th>Do Not Email</th>\n",
       "      <th>Do Not Call</th>\n",
       "      <th>TotalVisits</th>\n",
       "      <th>Total Time Spent on Website</th>\n",
       "      <th>Page Views Per Visit</th>\n",
       "      <th>Search</th>\n",
       "      <th>Magazine</th>\n",
       "      <th>Newspaper Article</th>\n",
       "      <th>X Education Forums</th>\n",
       "      <th>Newspaper</th>\n",
       "      <th>...</th>\n",
       "      <th>What matters most to you in choosing a course_Others</th>\n",
       "      <th>Lead Profile_Others</th>\n",
       "      <th>Lead Profile_Potential Lead</th>\n",
       "      <th>Lead Profile_SpecialLead</th>\n",
       "      <th>City_Mumbai</th>\n",
       "      <th>City_Other city</th>\n",
       "      <th>City_Others</th>\n",
       "      <th>Last Notable Activity_Modified</th>\n",
       "      <th>Last Notable Activity_Other Notable Activity</th>\n",
       "      <th>Last Notable Activity_SMS Sent</th>\n",
       "    </tr>\n",
       "  </thead>\n",
       "  <tbody>\n",
       "    <tr>\n",
       "      <td>0</td>\n",
       "      <td>0</td>\n",
       "      <td>0</td>\n",
       "      <td>0.0</td>\n",
       "      <td>0</td>\n",
       "      <td>0.0</td>\n",
       "      <td>0</td>\n",
       "      <td>0</td>\n",
       "      <td>0</td>\n",
       "      <td>0</td>\n",
       "      <td>0</td>\n",
       "      <td>...</td>\n",
       "      <td>0</td>\n",
       "      <td>0</td>\n",
       "      <td>0</td>\n",
       "      <td>1</td>\n",
       "      <td>0</td>\n",
       "      <td>0</td>\n",
       "      <td>0</td>\n",
       "      <td>1</td>\n",
       "      <td>0</td>\n",
       "      <td>0</td>\n",
       "    </tr>\n",
       "    <tr>\n",
       "      <td>1</td>\n",
       "      <td>0</td>\n",
       "      <td>0</td>\n",
       "      <td>5.0</td>\n",
       "      <td>674</td>\n",
       "      <td>2.5</td>\n",
       "      <td>0</td>\n",
       "      <td>0</td>\n",
       "      <td>0</td>\n",
       "      <td>0</td>\n",
       "      <td>0</td>\n",
       "      <td>...</td>\n",
       "      <td>0</td>\n",
       "      <td>0</td>\n",
       "      <td>0</td>\n",
       "      <td>1</td>\n",
       "      <td>0</td>\n",
       "      <td>0</td>\n",
       "      <td>0</td>\n",
       "      <td>0</td>\n",
       "      <td>0</td>\n",
       "      <td>0</td>\n",
       "    </tr>\n",
       "    <tr>\n",
       "      <td>2</td>\n",
       "      <td>0</td>\n",
       "      <td>0</td>\n",
       "      <td>2.0</td>\n",
       "      <td>1532</td>\n",
       "      <td>2.0</td>\n",
       "      <td>0</td>\n",
       "      <td>0</td>\n",
       "      <td>0</td>\n",
       "      <td>0</td>\n",
       "      <td>0</td>\n",
       "      <td>...</td>\n",
       "      <td>0</td>\n",
       "      <td>0</td>\n",
       "      <td>1</td>\n",
       "      <td>0</td>\n",
       "      <td>1</td>\n",
       "      <td>0</td>\n",
       "      <td>0</td>\n",
       "      <td>0</td>\n",
       "      <td>0</td>\n",
       "      <td>0</td>\n",
       "    </tr>\n",
       "    <tr>\n",
       "      <td>3</td>\n",
       "      <td>0</td>\n",
       "      <td>0</td>\n",
       "      <td>1.0</td>\n",
       "      <td>305</td>\n",
       "      <td>1.0</td>\n",
       "      <td>0</td>\n",
       "      <td>0</td>\n",
       "      <td>0</td>\n",
       "      <td>0</td>\n",
       "      <td>0</td>\n",
       "      <td>...</td>\n",
       "      <td>0</td>\n",
       "      <td>0</td>\n",
       "      <td>0</td>\n",
       "      <td>1</td>\n",
       "      <td>1</td>\n",
       "      <td>0</td>\n",
       "      <td>0</td>\n",
       "      <td>1</td>\n",
       "      <td>0</td>\n",
       "      <td>0</td>\n",
       "    </tr>\n",
       "    <tr>\n",
       "      <td>4</td>\n",
       "      <td>0</td>\n",
       "      <td>0</td>\n",
       "      <td>2.0</td>\n",
       "      <td>1428</td>\n",
       "      <td>1.0</td>\n",
       "      <td>0</td>\n",
       "      <td>0</td>\n",
       "      <td>0</td>\n",
       "      <td>0</td>\n",
       "      <td>0</td>\n",
       "      <td>...</td>\n",
       "      <td>0</td>\n",
       "      <td>0</td>\n",
       "      <td>0</td>\n",
       "      <td>1</td>\n",
       "      <td>1</td>\n",
       "      <td>0</td>\n",
       "      <td>0</td>\n",
       "      <td>1</td>\n",
       "      <td>0</td>\n",
       "      <td>0</td>\n",
       "    </tr>\n",
       "  </tbody>\n",
       "</table>\n",
       "<p>5 rows × 45 columns</p>\n",
       "</div>"
      ],
      "text/plain": [
       "   Do Not Email  Do Not Call  TotalVisits  Total Time Spent on Website  \\\n",
       "0             0            0          0.0                            0   \n",
       "1             0            0          5.0                          674   \n",
       "2             0            0          2.0                         1532   \n",
       "3             0            0          1.0                          305   \n",
       "4             0            0          2.0                         1428   \n",
       "\n",
       "   Page Views Per Visit  Search  Magazine  Newspaper Article  \\\n",
       "0                   0.0       0         0                  0   \n",
       "1                   2.5       0         0                  0   \n",
       "2                   2.0       0         0                  0   \n",
       "3                   1.0       0         0                  0   \n",
       "4                   1.0       0         0                  0   \n",
       "\n",
       "   X Education Forums  Newspaper  ...  \\\n",
       "0                   0          0  ...   \n",
       "1                   0          0  ...   \n",
       "2                   0          0  ...   \n",
       "3                   0          0  ...   \n",
       "4                   0          0  ...   \n",
       "\n",
       "   What matters most to you in choosing a course_Others  Lead Profile_Others  \\\n",
       "0                                                  0                       0   \n",
       "1                                                  0                       0   \n",
       "2                                                  0                       0   \n",
       "3                                                  0                       0   \n",
       "4                                                  0                       0   \n",
       "\n",
       "   Lead Profile_Potential Lead  Lead Profile_SpecialLead  City_Mumbai  \\\n",
       "0                            0                         1            0   \n",
       "1                            0                         1            0   \n",
       "2                            1                         0            1   \n",
       "3                            0                         1            1   \n",
       "4                            0                         1            1   \n",
       "\n",
       "   City_Other city  City_Others  Last Notable Activity_Modified  \\\n",
       "0                0            0                               1   \n",
       "1                0            0                               0   \n",
       "2                0            0                               0   \n",
       "3                0            0                               1   \n",
       "4                0            0                               1   \n",
       "\n",
       "   Last Notable Activity_Other Notable Activity  \\\n",
       "0                                             0   \n",
       "1                                             0   \n",
       "2                                             0   \n",
       "3                                             0   \n",
       "4                                             0   \n",
       "\n",
       "   Last Notable Activity_SMS Sent  \n",
       "0                               0  \n",
       "1                               0  \n",
       "2                               0  \n",
       "3                               0  \n",
       "4                               0  \n",
       "\n",
       "[5 rows x 45 columns]"
      ]
     },
     "execution_count": 157,
     "metadata": {},
     "output_type": "execute_result"
    }
   ],
   "source": [
    "# Putting feature variable to X\n",
    "X = leadScore.drop(['Prospect ID','Lead Number','Converted'], axis=1)\n",
    "X.head()"
   ]
  },
  {
   "cell_type": "code",
   "execution_count": 158,
   "metadata": {},
   "outputs": [
    {
     "data": {
      "text/plain": [
       "0    0\n",
       "1    0\n",
       "2    1\n",
       "3    0\n",
       "4    1\n",
       "Name: Converted, dtype: int64"
      ]
     },
     "execution_count": 158,
     "metadata": {},
     "output_type": "execute_result"
    }
   ],
   "source": [
    "# Putting response variable to y\n",
    "y = leadScore['Converted']\n",
    "y.head()"
   ]
  },
  {
   "cell_type": "code",
   "execution_count": 159,
   "metadata": {},
   "outputs": [
    {
     "data": {
      "text/plain": [
       "['TotalVisits', 'Total Time Spent on Website', 'Page Views Per Visit']"
      ]
     },
     "execution_count": 159,
     "metadata": {},
     "output_type": "execute_result"
    }
   ],
   "source": [
    "a=X.columns\n",
    "a\n",
    "standard_columns=[]\n",
    "for i in enumerate(a):\n",
    "    if X[i[1]].max()>1:\n",
    "        standard_columns.append(i[1])\n",
    "standard_columns"
   ]
  },
  {
   "cell_type": "code",
   "execution_count": 160,
   "metadata": {},
   "outputs": [],
   "source": [
    "# Splitting the data into train and test\n",
    "X_train, X_test, y_train, y_test = train_test_split(X, y, train_size=0.7, test_size=0.3, random_state=100)\n",
    "train_columns=X_train.columns"
   ]
  },
  {
   "cell_type": "markdown",
   "metadata": {},
   "source": [
    "### Feature selection"
   ]
  },
  {
   "cell_type": "code",
   "execution_count": 161,
   "metadata": {},
   "outputs": [
    {
     "data": {
      "text/plain": [
       "(6351,)"
      ]
     },
     "execution_count": 161,
     "metadata": {},
     "output_type": "execute_result"
    }
   ],
   "source": [
    "# Scaling the variables\n",
    "scaler = StandardScaler()\n",
    "X_train[['TotalVisits', 'Total Time Spent on Website', 'Page Views Per Visit']] = scaler.fit_transform(X_train[['TotalVisits', 'Total Time Spent on Website', 'Page Views Per Visit']])\n",
    "X_train.head()\n",
    "y_train.shape"
   ]
  },
  {
   "cell_type": "markdown",
   "metadata": {},
   "source": [
    "### Model Building\n",
    "Let's start by splitting our data into a training set and a test set."
   ]
  },
  {
   "cell_type": "code",
   "execution_count": 162,
   "metadata": {},
   "outputs": [
    {
     "data": {
      "text/html": [
       "<table class=\"simpletable\">\n",
       "<caption>Generalized Linear Model Regression Results</caption>\n",
       "<tr>\n",
       "  <th>Dep. Variable:</th>       <td>Converted</td>    <th>  No. Observations:  </th>  <td>  6351</td> \n",
       "</tr>\n",
       "<tr>\n",
       "  <th>Model:</th>                  <td>GLM</td>       <th>  Df Residuals:      </th>  <td>  6311</td> \n",
       "</tr>\n",
       "<tr>\n",
       "  <th>Model Family:</th>        <td>Binomial</td>     <th>  Df Model:          </th>  <td>    39</td> \n",
       "</tr>\n",
       "<tr>\n",
       "  <th>Link Function:</th>         <td>logit</td>      <th>  Scale:             </th> <td>  1.0000</td>\n",
       "</tr>\n",
       "<tr>\n",
       "  <th>Method:</th>                <td>IRLS</td>       <th>  Log-Likelihood:    </th> <td> -2426.4</td>\n",
       "</tr>\n",
       "<tr>\n",
       "  <th>Date:</th>            <td>Mon, 20 Jul 2020</td> <th>  Deviance:          </th> <td>  4852.8</td>\n",
       "</tr>\n",
       "<tr>\n",
       "  <th>Time:</th>                <td>11:18:50</td>     <th>  Pearson chi2:      </th> <td>6.08e+03</td>\n",
       "</tr>\n",
       "<tr>\n",
       "  <th>No. Iterations:</th>         <td>22</td>        <th>                     </th>     <td> </td>   \n",
       "</tr>\n",
       "<tr>\n",
       "  <th>Covariance Type:</th>     <td>nonrobust</td>    <th>                     </th>     <td> </td>   \n",
       "</tr>\n",
       "</table>\n",
       "<table class=\"simpletable\">\n",
       "<tr>\n",
       "                                <td></td>                                  <th>coef</th>     <th>std err</th>      <th>z</th>      <th>P>|z|</th>  <th>[0.025</th>    <th>0.975]</th>  \n",
       "</tr>\n",
       "<tr>\n",
       "  <th>const</th>                                                        <td>    0.8240</td> <td>    0.334</td> <td>    2.465</td> <td> 0.014</td> <td>    0.169</td> <td>    1.479</td>\n",
       "</tr>\n",
       "<tr>\n",
       "  <th>Do Not Email</th>                                                 <td>   -1.2873</td> <td>    0.183</td> <td>   -7.040</td> <td> 0.000</td> <td>   -1.646</td> <td>   -0.929</td>\n",
       "</tr>\n",
       "<tr>\n",
       "  <th>Do Not Call</th>                                                  <td>   22.1964</td> <td>  5.6e+04</td> <td>    0.000</td> <td> 1.000</td> <td> -1.1e+05</td> <td>  1.1e+05</td>\n",
       "</tr>\n",
       "<tr>\n",
       "  <th>TotalVisits</th>                                                  <td>    0.2415</td> <td>    0.052</td> <td>    4.674</td> <td> 0.000</td> <td>    0.140</td> <td>    0.343</td>\n",
       "</tr>\n",
       "<tr>\n",
       "  <th>Total Time Spent on Website</th>                                  <td>    1.1134</td> <td>    0.043</td> <td>   26.064</td> <td> 0.000</td> <td>    1.030</td> <td>    1.197</td>\n",
       "</tr>\n",
       "<tr>\n",
       "  <th>Page Views Per Visit</th>                                         <td>   -0.2067</td> <td>    0.059</td> <td>   -3.515</td> <td> 0.000</td> <td>   -0.322</td> <td>   -0.091</td>\n",
       "</tr>\n",
       "<tr>\n",
       "  <th>Search</th>                                                       <td>    0.1824</td> <td>    1.025</td> <td>    0.178</td> <td> 0.859</td> <td>   -1.826</td> <td>    2.191</td>\n",
       "</tr>\n",
       "<tr>\n",
       "  <th>Magazine</th>                                                     <td>-1.642e-08</td> <td> 3.08e-05</td> <td>   -0.001</td> <td> 1.000</td> <td>-6.03e-05</td> <td> 6.03e-05</td>\n",
       "</tr>\n",
       "<tr>\n",
       "  <th>Newspaper Article</th>                                            <td>   25.1313</td> <td> 7.95e+04</td> <td>    0.000</td> <td> 1.000</td> <td>-1.56e+05</td> <td> 1.56e+05</td>\n",
       "</tr>\n",
       "<tr>\n",
       "  <th>X Education Forums</th>                                           <td>  -47.8363</td> <td> 1.12e+05</td> <td>   -0.000</td> <td> 1.000</td> <td> -2.2e+05</td> <td>  2.2e+05</td>\n",
       "</tr>\n",
       "<tr>\n",
       "  <th>Newspaper</th>                                                    <td>  -25.2777</td> <td> 7.95e+04</td> <td>   -0.000</td> <td> 1.000</td> <td>-1.56e+05</td> <td> 1.56e+05</td>\n",
       "</tr>\n",
       "<tr>\n",
       "  <th>Digital Advertisement</th>                                        <td>   -0.3646</td> <td>    1.738</td> <td>   -0.210</td> <td> 0.834</td> <td>   -3.770</td> <td>    3.041</td>\n",
       "</tr>\n",
       "<tr>\n",
       "  <th>Through Recommendations</th>                                      <td>    0.9219</td> <td>    1.664</td> <td>    0.554</td> <td> 0.580</td> <td>   -2.340</td> <td>    4.184</td>\n",
       "</tr>\n",
       "<tr>\n",
       "  <th>Receive More Updates About Our Courses</th>                       <td>  1.17e-08</td> <td> 3.69e-05</td> <td>    0.000</td> <td> 1.000</td> <td>-7.24e-05</td> <td> 7.24e-05</td>\n",
       "</tr>\n",
       "<tr>\n",
       "  <th>Update me on Supply Chain Content</th>                            <td> 7.147e-09</td> <td> 3.57e-05</td> <td>    0.000</td> <td> 1.000</td> <td>   -7e-05</td> <td>    7e-05</td>\n",
       "</tr>\n",
       "<tr>\n",
       "  <th>Get updates on DM Content</th>                                    <td>-1.535e-09</td> <td> 1.07e-05</td> <td>   -0.000</td> <td> 1.000</td> <td> -2.1e-05</td> <td>  2.1e-05</td>\n",
       "</tr>\n",
       "<tr>\n",
       "  <th>I agree to pay the amount through cheque</th>                     <td>-1.045e-09</td> <td> 2.46e-05</td> <td>-4.24e-05</td> <td> 1.000</td> <td>-4.83e-05</td> <td> 4.83e-05</td>\n",
       "</tr>\n",
       "<tr>\n",
       "  <th>A free copy of Mastering The Interview</th>                       <td>   -0.0911</td> <td>    0.147</td> <td>   -0.620</td> <td> 0.535</td> <td>   -0.379</td> <td>    0.197</td>\n",
       "</tr>\n",
       "<tr>\n",
       "  <th>Lead Origin_Landing Page Submission</th>                          <td>   -0.6715</td> <td>    0.173</td> <td>   -3.881</td> <td> 0.000</td> <td>   -1.011</td> <td>   -0.332</td>\n",
       "</tr>\n",
       "<tr>\n",
       "  <th>Lead Origin_Other Lead Origin</th>                                <td>    2.4821</td> <td>    0.448</td> <td>    5.541</td> <td> 0.000</td> <td>    1.604</td> <td>    3.360</td>\n",
       "</tr>\n",
       "<tr>\n",
       "  <th>Lead Source_Google</th>                                           <td>    0.2397</td> <td>    0.129</td> <td>    1.861</td> <td> 0.063</td> <td>   -0.013</td> <td>    0.492</td>\n",
       "</tr>\n",
       "<tr>\n",
       "  <th>Lead Source_Olark Chat</th>                                       <td>    0.8472</td> <td>    0.302</td> <td>    2.801</td> <td> 0.005</td> <td>    0.254</td> <td>    1.440</td>\n",
       "</tr>\n",
       "<tr>\n",
       "  <th>Lead Source_Organic Search</th>                                   <td>    0.0307</td> <td>    0.135</td> <td>    0.227</td> <td> 0.820</td> <td>   -0.234</td> <td>    0.295</td>\n",
       "</tr>\n",
       "<tr>\n",
       "  <th>Lead Source_Other Source</th>                                     <td>    0.2413</td> <td>    0.323</td> <td>    0.746</td> <td> 0.455</td> <td>   -0.392</td> <td>    0.875</td>\n",
       "</tr>\n",
       "<tr>\n",
       "  <th>Last Activity_Olark Chat Conversation</th>                        <td>   -1.3366</td> <td>    0.219</td> <td>   -6.108</td> <td> 0.000</td> <td>   -1.765</td> <td>   -0.908</td>\n",
       "</tr>\n",
       "<tr>\n",
       "  <th>Last Activity_Other Activity</th>                                 <td>   -0.3858</td> <td>    0.179</td> <td>   -2.159</td> <td> 0.031</td> <td>   -0.736</td> <td>   -0.036</td>\n",
       "</tr>\n",
       "<tr>\n",
       "  <th>Last Activity_SMS Sent</th>                                       <td>    0.6621</td> <td>    0.196</td> <td>    3.386</td> <td> 0.001</td> <td>    0.279</td> <td>    1.045</td>\n",
       "</tr>\n",
       "<tr>\n",
       "  <th>Country_Other country</th>                                        <td>    0.0571</td> <td>    0.213</td> <td>    0.268</td> <td> 0.788</td> <td>   -0.360</td> <td>    0.474</td>\n",
       "</tr>\n",
       "<tr>\n",
       "  <th>Country_Others</th>                                               <td>    0.5773</td> <td>    0.286</td> <td>    2.021</td> <td> 0.043</td> <td>    0.018</td> <td>    1.137</td>\n",
       "</tr>\n",
       "<tr>\n",
       "  <th>Specialization_Other Specialization</th>                          <td>   -0.0523</td> <td>    0.123</td> <td>   -0.427</td> <td> 0.670</td> <td>   -0.292</td> <td>    0.188</td>\n",
       "</tr>\n",
       "<tr>\n",
       "  <th>Specialization_Others</th>                                        <td>   -0.5953</td> <td>    0.211</td> <td>   -2.821</td> <td> 0.005</td> <td>   -1.009</td> <td>   -0.182</td>\n",
       "</tr>\n",
       "<tr>\n",
       "  <th>How did you hear about X Education_Others</th>                    <td>    0.2367</td> <td>    0.254</td> <td>    0.932</td> <td> 0.351</td> <td>   -0.261</td> <td>    0.735</td>\n",
       "</tr>\n",
       "<tr>\n",
       "  <th>How did you hear about X Education_X Education Forums</th>        <td>   -0.2207</td> <td>    0.165</td> <td>   -1.337</td> <td> 0.181</td> <td>   -0.544</td> <td>    0.103</td>\n",
       "</tr>\n",
       "<tr>\n",
       "  <th>What is your current occupation_Others</th>                       <td>   19.7267</td> <td> 1.92e+04</td> <td>    0.001</td> <td> 0.999</td> <td>-3.76e+04</td> <td> 3.76e+04</td>\n",
       "</tr>\n",
       "<tr>\n",
       "  <th>What is your current occupation_Unemployed</th>                   <td>   -1.5762</td> <td>    0.143</td> <td>  -11.054</td> <td> 0.000</td> <td>   -1.856</td> <td>   -1.297</td>\n",
       "</tr>\n",
       "<tr>\n",
       "  <th>What matters most to you in choosing a course_Other choosing</th> <td>  -21.1004</td> <td> 7.95e+04</td> <td>   -0.000</td> <td> 1.000</td> <td>-1.56e+05</td> <td> 1.56e+05</td>\n",
       "</tr>\n",
       "<tr>\n",
       "  <th>What matters most to you in choosing a course_Others</th>         <td>  -11.0538</td> <td> 9589.194</td> <td>   -0.001</td> <td> 0.999</td> <td>-1.88e+04</td> <td> 1.88e+04</td>\n",
       "</tr>\n",
       "<tr>\n",
       "  <th>Lead Profile_Others</th>                                          <td>  -11.0538</td> <td> 9589.194</td> <td>   -0.001</td> <td> 0.999</td> <td>-1.88e+04</td> <td> 1.88e+04</td>\n",
       "</tr>\n",
       "<tr>\n",
       "  <th>Lead Profile_Potential Lead</th>                                  <td>    1.7504</td> <td>    0.159</td> <td>   11.021</td> <td> 0.000</td> <td>    1.439</td> <td>    2.062</td>\n",
       "</tr>\n",
       "<tr>\n",
       "  <th>Lead Profile_SpecialLead</th>                                     <td>    0.2501</td> <td>    0.143</td> <td>    1.752</td> <td> 0.080</td> <td>   -0.030</td> <td>    0.530</td>\n",
       "</tr>\n",
       "<tr>\n",
       "  <th>City_Mumbai</th>                                                  <td>   -0.1041</td> <td>    0.197</td> <td>   -0.528</td> <td> 0.597</td> <td>   -0.490</td> <td>    0.282</td>\n",
       "</tr>\n",
       "<tr>\n",
       "  <th>City_Other city</th>                                              <td>   -0.1186</td> <td>    0.196</td> <td>   -0.605</td> <td> 0.545</td> <td>   -0.503</td> <td>    0.266</td>\n",
       "</tr>\n",
       "<tr>\n",
       "  <th>City_Others</th>                                                  <td>   -0.4058</td> <td>    0.212</td> <td>   -1.916</td> <td> 0.055</td> <td>   -0.821</td> <td>    0.009</td>\n",
       "</tr>\n",
       "<tr>\n",
       "  <th>Last Notable Activity_Modified</th>                               <td>   -0.3997</td> <td>    0.149</td> <td>   -2.677</td> <td> 0.007</td> <td>   -0.692</td> <td>   -0.107</td>\n",
       "</tr>\n",
       "<tr>\n",
       "  <th>Last Notable Activity_Other Notable Activity</th>                 <td>    0.3029</td> <td>    0.221</td> <td>    1.370</td> <td> 0.171</td> <td>   -0.130</td> <td>    0.736</td>\n",
       "</tr>\n",
       "<tr>\n",
       "  <th>Last Notable Activity_SMS Sent</th>                               <td>    0.8152</td> <td>    0.216</td> <td>    3.780</td> <td> 0.000</td> <td>    0.393</td> <td>    1.238</td>\n",
       "</tr>\n",
       "</table>"
      ],
      "text/plain": [
       "<class 'statsmodels.iolib.summary.Summary'>\n",
       "\"\"\"\n",
       "                 Generalized Linear Model Regression Results                  \n",
       "==============================================================================\n",
       "Dep. Variable:              Converted   No. Observations:                 6351\n",
       "Model:                            GLM   Df Residuals:                     6311\n",
       "Model Family:                Binomial   Df Model:                           39\n",
       "Link Function:                  logit   Scale:                          1.0000\n",
       "Method:                          IRLS   Log-Likelihood:                -2426.4\n",
       "Date:                Mon, 20 Jul 2020   Deviance:                       4852.8\n",
       "Time:                        11:18:50   Pearson chi2:                 6.08e+03\n",
       "No. Iterations:                    22                                         \n",
       "Covariance Type:            nonrobust                                         \n",
       "================================================================================================================================\n",
       "                                                                   coef    std err          z      P>|z|      [0.025      0.975]\n",
       "--------------------------------------------------------------------------------------------------------------------------------\n",
       "const                                                            0.8240      0.334      2.465      0.014       0.169       1.479\n",
       "Do Not Email                                                    -1.2873      0.183     -7.040      0.000      -1.646      -0.929\n",
       "Do Not Call                                                     22.1964    5.6e+04      0.000      1.000    -1.1e+05     1.1e+05\n",
       "TotalVisits                                                      0.2415      0.052      4.674      0.000       0.140       0.343\n",
       "Total Time Spent on Website                                      1.1134      0.043     26.064      0.000       1.030       1.197\n",
       "Page Views Per Visit                                            -0.2067      0.059     -3.515      0.000      -0.322      -0.091\n",
       "Search                                                           0.1824      1.025      0.178      0.859      -1.826       2.191\n",
       "Magazine                                                     -1.642e-08   3.08e-05     -0.001      1.000   -6.03e-05    6.03e-05\n",
       "Newspaper Article                                               25.1313   7.95e+04      0.000      1.000   -1.56e+05    1.56e+05\n",
       "X Education Forums                                             -47.8363   1.12e+05     -0.000      1.000    -2.2e+05     2.2e+05\n",
       "Newspaper                                                      -25.2777   7.95e+04     -0.000      1.000   -1.56e+05    1.56e+05\n",
       "Digital Advertisement                                           -0.3646      1.738     -0.210      0.834      -3.770       3.041\n",
       "Through Recommendations                                          0.9219      1.664      0.554      0.580      -2.340       4.184\n",
       "Receive More Updates About Our Courses                         1.17e-08   3.69e-05      0.000      1.000   -7.24e-05    7.24e-05\n",
       "Update me on Supply Chain Content                             7.147e-09   3.57e-05      0.000      1.000      -7e-05       7e-05\n",
       "Get updates on DM Content                                    -1.535e-09   1.07e-05     -0.000      1.000    -2.1e-05     2.1e-05\n",
       "I agree to pay the amount through cheque                     -1.045e-09   2.46e-05  -4.24e-05      1.000   -4.83e-05    4.83e-05\n",
       "A free copy of Mastering The Interview                          -0.0911      0.147     -0.620      0.535      -0.379       0.197\n",
       "Lead Origin_Landing Page Submission                             -0.6715      0.173     -3.881      0.000      -1.011      -0.332\n",
       "Lead Origin_Other Lead Origin                                    2.4821      0.448      5.541      0.000       1.604       3.360\n",
       "Lead Source_Google                                               0.2397      0.129      1.861      0.063      -0.013       0.492\n",
       "Lead Source_Olark Chat                                           0.8472      0.302      2.801      0.005       0.254       1.440\n",
       "Lead Source_Organic Search                                       0.0307      0.135      0.227      0.820      -0.234       0.295\n",
       "Lead Source_Other Source                                         0.2413      0.323      0.746      0.455      -0.392       0.875\n",
       "Last Activity_Olark Chat Conversation                           -1.3366      0.219     -6.108      0.000      -1.765      -0.908\n",
       "Last Activity_Other Activity                                    -0.3858      0.179     -2.159      0.031      -0.736      -0.036\n",
       "Last Activity_SMS Sent                                           0.6621      0.196      3.386      0.001       0.279       1.045\n",
       "Country_Other country                                            0.0571      0.213      0.268      0.788      -0.360       0.474\n",
       "Country_Others                                                   0.5773      0.286      2.021      0.043       0.018       1.137\n",
       "Specialization_Other Specialization                             -0.0523      0.123     -0.427      0.670      -0.292       0.188\n",
       "Specialization_Others                                           -0.5953      0.211     -2.821      0.005      -1.009      -0.182\n",
       "How did you hear about X Education_Others                        0.2367      0.254      0.932      0.351      -0.261       0.735\n",
       "How did you hear about X Education_X Education Forums           -0.2207      0.165     -1.337      0.181      -0.544       0.103\n",
       "What is your current occupation_Others                          19.7267   1.92e+04      0.001      0.999   -3.76e+04    3.76e+04\n",
       "What is your current occupation_Unemployed                      -1.5762      0.143    -11.054      0.000      -1.856      -1.297\n",
       "What matters most to you in choosing a course_Other choosing   -21.1004   7.95e+04     -0.000      1.000   -1.56e+05    1.56e+05\n",
       "What matters most to you in choosing a course_Others           -11.0538   9589.194     -0.001      0.999   -1.88e+04    1.88e+04\n",
       "Lead Profile_Others                                            -11.0538   9589.194     -0.001      0.999   -1.88e+04    1.88e+04\n",
       "Lead Profile_Potential Lead                                      1.7504      0.159     11.021      0.000       1.439       2.062\n",
       "Lead Profile_SpecialLead                                         0.2501      0.143      1.752      0.080      -0.030       0.530\n",
       "City_Mumbai                                                     -0.1041      0.197     -0.528      0.597      -0.490       0.282\n",
       "City_Other city                                                 -0.1186      0.196     -0.605      0.545      -0.503       0.266\n",
       "City_Others                                                     -0.4058      0.212     -1.916      0.055      -0.821       0.009\n",
       "Last Notable Activity_Modified                                  -0.3997      0.149     -2.677      0.007      -0.692      -0.107\n",
       "Last Notable Activity_Other Notable Activity                     0.3029      0.221      1.370      0.171      -0.130       0.736\n",
       "Last Notable Activity_SMS Sent                                   0.8152      0.216      3.780      0.000       0.393       1.238\n",
       "================================================================================================================================\n",
       "\"\"\""
      ]
     },
     "execution_count": 162,
     "metadata": {},
     "output_type": "execute_result"
    }
   ],
   "source": [
    "# running our 1st training Model\n",
    "# Logistic regression model\n",
    "\n",
    "logm1 = sm.GLM(y_train,(sm.add_constant(X_train)), family = sm.families.Binomial())\n",
    "logm1.fit().summary()"
   ]
  },
  {
   "cell_type": "markdown",
   "metadata": {},
   "source": [
    "## Feature Selection Using RFE"
   ]
  },
  {
   "cell_type": "code",
   "execution_count": 163,
   "metadata": {},
   "outputs": [
    {
     "data": {
      "text/plain": [
       "array([ True, False, False,  True, False, False, False,  True, False,\n",
       "        True, False, False, False, False, False, False, False,  True,\n",
       "        True, False,  True, False, False,  True, False,  True, False,\n",
       "        True, False, False, False, False, False,  True, False,  True,\n",
       "        True,  True, False, False, False, False,  True, False, False])"
      ]
     },
     "execution_count": 163,
     "metadata": {},
     "output_type": "execute_result"
    }
   ],
   "source": [
    "logreg = LogisticRegression()\n",
    "rfe = RFE(logreg, 15)             \n",
    "rfe = rfe.fit(X_train, y_train)\n",
    "\n",
    "rfe.support_"
   ]
  },
  {
   "cell_type": "code",
   "execution_count": 164,
   "metadata": {},
   "outputs": [
    {
     "data": {
      "text/plain": [
       "[('Do Not Email', True, 1),\n",
       " ('Do Not Call', False, 9),\n",
       " ('TotalVisits', False, 14),\n",
       " ('Total Time Spent on Website', True, 1),\n",
       " ('Page Views Per Visit', False, 16),\n",
       " ('Search', False, 21),\n",
       " ('Magazine', False, 30),\n",
       " ('Newspaper Article', True, 1),\n",
       " ('X Education Forums', False, 15),\n",
       " ('Newspaper', True, 1),\n",
       " ('Digital Advertisement', False, 13),\n",
       " ('Through Recommendations', False, 17),\n",
       " ('Receive More Updates About Our Courses', False, 31),\n",
       " ('Update me on Supply Chain Content', False, 27),\n",
       " ('Get updates on DM Content', False, 29),\n",
       " ('I agree to pay the amount through cheque', False, 28),\n",
       " ('A free copy of Mastering The Interview', False, 19),\n",
       " ('Lead Origin_Landing Page Submission', True, 1),\n",
       " ('Lead Origin_Other Lead Origin', True, 1),\n",
       " ('Lead Source_Google', False, 12),\n",
       " ('Lead Source_Olark Chat', True, 1),\n",
       " ('Lead Source_Organic Search', False, 23),\n",
       " ('Lead Source_Other Source', False, 10),\n",
       " ('Last Activity_Olark Chat Conversation', True, 1),\n",
       " ('Last Activity_Other Activity', False, 8),\n",
       " ('Last Activity_SMS Sent', True, 1),\n",
       " ('Country_Other country', False, 22),\n",
       " ('Country_Others', True, 1),\n",
       " ('Specialization_Other Specialization', False, 26),\n",
       " ('Specialization_Others', False, 2),\n",
       " ('How did you hear about X Education_Others', False, 18),\n",
       " ('How did you hear about X Education_X Education Forums', False, 5),\n",
       " ('What is your current occupation_Others', False, 4),\n",
       " ('What is your current occupation_Unemployed', True, 1),\n",
       " ('What matters most to you in choosing a course_Other choosing', False, 20),\n",
       " ('What matters most to you in choosing a course_Others', True, 1),\n",
       " ('Lead Profile_Others', True, 1),\n",
       " ('Lead Profile_Potential Lead', True, 1),\n",
       " ('Lead Profile_SpecialLead', False, 11),\n",
       " ('City_Mumbai', False, 25),\n",
       " ('City_Other city', False, 24),\n",
       " ('City_Others', False, 6),\n",
       " ('Last Notable Activity_Modified', True, 1),\n",
       " ('Last Notable Activity_Other Notable Activity', False, 7),\n",
       " ('Last Notable Activity_SMS Sent', False, 3)]"
      ]
     },
     "execution_count": 164,
     "metadata": {},
     "output_type": "execute_result"
    }
   ],
   "source": [
    "list(zip(X_train.columns, rfe.support_, rfe.ranking_))"
   ]
  },
  {
   "cell_type": "code",
   "execution_count": 165,
   "metadata": {},
   "outputs": [],
   "source": [
    "col = X_train.columns[rfe.support_]"
   ]
  },
  {
   "cell_type": "code",
   "execution_count": 166,
   "metadata": {},
   "outputs": [
    {
     "data": {
      "text/plain": [
       "Index(['Do Not Call', 'TotalVisits', 'Page Views Per Visit', 'Search',\n",
       "       'Magazine', 'X Education Forums', 'Digital Advertisement',\n",
       "       'Through Recommendations', 'Receive More Updates About Our Courses',\n",
       "       'Update me on Supply Chain Content', 'Get updates on DM Content',\n",
       "       'I agree to pay the amount through cheque',\n",
       "       'A free copy of Mastering The Interview', 'Lead Source_Google',\n",
       "       'Lead Source_Organic Search', 'Lead Source_Other Source',\n",
       "       'Last Activity_Other Activity', 'Country_Other country',\n",
       "       'Specialization_Other Specialization', 'Specialization_Others',\n",
       "       'How did you hear about X Education_Others',\n",
       "       'How did you hear about X Education_X Education Forums',\n",
       "       'What is your current occupation_Others',\n",
       "       'What matters most to you in choosing a course_Other choosing',\n",
       "       'Lead Profile_SpecialLead', 'City_Mumbai', 'City_Other city',\n",
       "       'City_Others', 'Last Notable Activity_Other Notable Activity',\n",
       "       'Last Notable Activity_SMS Sent'],\n",
       "      dtype='object')"
      ]
     },
     "execution_count": 166,
     "metadata": {},
     "output_type": "execute_result"
    }
   ],
   "source": [
    "X_train.columns[~rfe.support_]"
   ]
  },
  {
   "cell_type": "markdown",
   "metadata": {},
   "source": [
    "## Finding Correlation of the variables"
   ]
  },
  {
   "cell_type": "code",
   "execution_count": 167,
   "metadata": {},
   "outputs": [
    {
     "data": {
      "image/png": "[encoded data removed]",
      "text/plain": [
       "<Figure size 1440x720 with 2 Axes>"
      ]
     },
     "metadata": {
      "needs_background": "light"
     },
     "output_type": "display_data"
    }
   ],
   "source": [
    "plt.figure(figsize = (20,10))        # Size of the figure\n",
    "sns.heatmap((X_train[col]).corr().mul(100).astype(int),annot = True,fmt='d',annot_kws={\"size\": 10})\n",
    "plt.show()"
   ]
  },
  {
   "cell_type": "markdown",
   "metadata": {},
   "source": [
    "##### Assessing the model with StatsModels"
   ]
  },
  {
   "cell_type": "code",
   "execution_count": 168,
   "metadata": {},
   "outputs": [
    {
     "data": {
      "text/html": [
       "<table class=\"simpletable\">\n",
       "<caption>Generalized Linear Model Regression Results</caption>\n",
       "<tr>\n",
       "  <th>Dep. Variable:</th>       <td>Converted</td>    <th>  No. Observations:  </th>  <td>  6351</td> \n",
       "</tr>\n",
       "<tr>\n",
       "  <th>Model:</th>                  <td>GLM</td>       <th>  Df Residuals:      </th>  <td>  6336</td> \n",
       "</tr>\n",
       "<tr>\n",
       "  <th>Model Family:</th>        <td>Binomial</td>     <th>  Df Model:          </th>  <td>    14</td> \n",
       "</tr>\n",
       "<tr>\n",
       "  <th>Link Function:</th>         <td>logit</td>      <th>  Scale:             </th> <td>  1.0000</td>\n",
       "</tr>\n",
       "<tr>\n",
       "  <th>Method:</th>                <td>IRLS</td>       <th>  Log-Likelihood:    </th> <td> -2469.8</td>\n",
       "</tr>\n",
       "<tr>\n",
       "  <th>Date:</th>            <td>Mon, 20 Jul 2020</td> <th>  Deviance:          </th> <td>  4939.6</td>\n",
       "</tr>\n",
       "<tr>\n",
       "  <th>Time:</th>                <td>11:19:02</td>     <th>  Pearson chi2:      </th> <td>6.19e+03</td>\n",
       "</tr>\n",
       "<tr>\n",
       "  <th>No. Iterations:</th>         <td>19</td>        <th>                     </th>     <td> </td>   \n",
       "</tr>\n",
       "<tr>\n",
       "  <th>Covariance Type:</th>     <td>nonrobust</td>    <th>                     </th>     <td> </td>   \n",
       "</tr>\n",
       "</table>\n",
       "<table class=\"simpletable\">\n",
       "<tr>\n",
       "                            <td></td>                              <th>coef</th>     <th>std err</th>      <th>z</th>      <th>P>|z|</th>  <th>[0.025</th>    <th>0.975]</th>  \n",
       "</tr>\n",
       "<tr>\n",
       "  <th>const</th>                                                <td>    0.5335</td> <td>    0.151</td> <td>    3.536</td> <td> 0.000</td> <td>    0.238</td> <td>    0.829</td>\n",
       "</tr>\n",
       "<tr>\n",
       "  <th>Do Not Email</th>                                         <td>   -1.3886</td> <td>    0.176</td> <td>   -7.894</td> <td> 0.000</td> <td>   -1.733</td> <td>   -1.044</td>\n",
       "</tr>\n",
       "<tr>\n",
       "  <th>Total Time Spent on Website</th>                          <td>    1.1286</td> <td>    0.042</td> <td>   26.630</td> <td> 0.000</td> <td>    1.046</td> <td>    1.212</td>\n",
       "</tr>\n",
       "<tr>\n",
       "  <th>Newspaper Article</th>                                    <td>    1.7859</td> <td>    1.492</td> <td>    1.197</td> <td> 0.231</td> <td>   -1.139</td> <td>    4.711</td>\n",
       "</tr>\n",
       "<tr>\n",
       "  <th>Newspaper</th>                                            <td>  -21.9238</td> <td> 1.77e+04</td> <td>   -0.001</td> <td> 0.999</td> <td>-3.48e+04</td> <td> 3.47e+04</td>\n",
       "</tr>\n",
       "<tr>\n",
       "  <th>Lead Origin_Landing Page Submission</th>                  <td>   -0.3840</td> <td>    0.093</td> <td>   -4.147</td> <td> 0.000</td> <td>   -0.565</td> <td>   -0.202</td>\n",
       "</tr>\n",
       "<tr>\n",
       "  <th>Lead Origin_Other Lead Origin</th>                        <td>    2.9806</td> <td>    0.313</td> <td>    9.532</td> <td> 0.000</td> <td>    2.368</td> <td>    3.593</td>\n",
       "</tr>\n",
       "<tr>\n",
       "  <th>Lead Source_Olark Chat</th>                               <td>    1.0203</td> <td>    0.269</td> <td>    3.800</td> <td> 0.000</td> <td>    0.494</td> <td>    1.547</td>\n",
       "</tr>\n",
       "<tr>\n",
       "  <th>Last Activity_Olark Chat Conversation</th>                <td>   -1.0162</td> <td>    0.175</td> <td>   -5.816</td> <td> 0.000</td> <td>   -1.359</td> <td>   -0.674</td>\n",
       "</tr>\n",
       "<tr>\n",
       "  <th>Last Activity_SMS Sent</th>                               <td>    1.3306</td> <td>    0.078</td> <td>   17.124</td> <td> 0.000</td> <td>    1.178</td> <td>    1.483</td>\n",
       "</tr>\n",
       "<tr>\n",
       "  <th>Country_Others</th>                                       <td>    0.1724</td> <td>    0.264</td> <td>    0.653</td> <td> 0.514</td> <td>   -0.345</td> <td>    0.689</td>\n",
       "</tr>\n",
       "<tr>\n",
       "  <th>What is your current occupation_Unemployed</th>           <td>   -1.5409</td> <td>    0.134</td> <td>  -11.516</td> <td> 0.000</td> <td>   -1.803</td> <td>   -1.279</td>\n",
       "</tr>\n",
       "<tr>\n",
       "  <th>What matters most to you in choosing a course_Others</th> <td>   -1.2225</td> <td>    0.076</td> <td>  -16.187</td> <td> 0.000</td> <td>   -1.371</td> <td>   -1.074</td>\n",
       "</tr>\n",
       "<tr>\n",
       "  <th>Lead Profile_Others</th>                                  <td>   -1.2225</td> <td>    0.076</td> <td>  -16.187</td> <td> 0.000</td> <td>   -1.371</td> <td>   -1.074</td>\n",
       "</tr>\n",
       "<tr>\n",
       "  <th>Lead Profile_Potential Lead</th>                          <td>    1.6233</td> <td>    0.103</td> <td>   15.791</td> <td> 0.000</td> <td>    1.422</td> <td>    1.825</td>\n",
       "</tr>\n",
       "<tr>\n",
       "  <th>Last Notable Activity_Modified</th>                       <td>   -0.8228</td> <td>    0.084</td> <td>   -9.809</td> <td> 0.000</td> <td>   -0.987</td> <td>   -0.658</td>\n",
       "</tr>\n",
       "</table>"
      ],
      "text/plain": [
       "<class 'statsmodels.iolib.summary.Summary'>\n",
       "\"\"\"\n",
       "                 Generalized Linear Model Regression Results                  \n",
       "==============================================================================\n",
       "Dep. Variable:              Converted   No. Observations:                 6351\n",
       "Model:                            GLM   Df Residuals:                     6336\n",
       "Model Family:                Binomial   Df Model:                           14\n",
       "Link Function:                  logit   Scale:                          1.0000\n",
       "Method:                          IRLS   Log-Likelihood:                -2469.8\n",
       "Date:                Mon, 20 Jul 2020   Deviance:                       4939.6\n",
       "Time:                        11:19:02   Pearson chi2:                 6.19e+03\n",
       "No. Iterations:                    19                                         \n",
       "Covariance Type:            nonrobust                                         \n",
       "========================================================================================================================\n",
       "                                                           coef    std err          z      P>|z|      [0.025      0.975]\n",
       "------------------------------------------------------------------------------------------------------------------------\n",
       "const                                                    0.5335      0.151      3.536      0.000       0.238       0.829\n",
       "Do Not Email                                            -1.3886      0.176     -7.894      0.000      -1.733      -1.044\n",
       "Total Time Spent on Website                              1.1286      0.042     26.630      0.000       1.046       1.212\n",
       "Newspaper Article                                        1.7859      1.492      1.197      0.231      -1.139       4.711\n",
       "Newspaper                                              -21.9238   1.77e+04     -0.001      0.999   -3.48e+04    3.47e+04\n",
       "Lead Origin_Landing Page Submission                     -0.3840      0.093     -4.147      0.000      -0.565      -0.202\n",
       "Lead Origin_Other Lead Origin                            2.9806      0.313      9.532      0.000       2.368       3.593\n",
       "Lead Source_Olark Chat                                   1.0203      0.269      3.800      0.000       0.494       1.547\n",
       "Last Activity_Olark Chat Conversation                   -1.0162      0.175     -5.816      0.000      -1.359      -0.674\n",
       "Last Activity_SMS Sent                                   1.3306      0.078     17.124      0.000       1.178       1.483\n",
       "Country_Others                                           0.1724      0.264      0.653      0.514      -0.345       0.689\n",
       "What is your current occupation_Unemployed              -1.5409      0.134    -11.516      0.000      -1.803      -1.279\n",
       "What matters most to you in choosing a course_Others    -1.2225      0.076    -16.187      0.000      -1.371      -1.074\n",
       "Lead Profile_Others                                     -1.2225      0.076    -16.187      0.000      -1.371      -1.074\n",
       "Lead Profile_Potential Lead                              1.6233      0.103     15.791      0.000       1.422       1.825\n",
       "Last Notable Activity_Modified                          -0.8228      0.084     -9.809      0.000      -0.987      -0.658\n",
       "========================================================================================================================\n",
       "\"\"\""
      ]
     },
     "execution_count": 168,
     "metadata": {},
     "output_type": "execute_result"
    }
   ],
   "source": [
    "X_train_sm = sm.add_constant(X_train[col])\n",
    "logm2 = sm.GLM(y_train,X_train_sm, family = sm.families.Binomial())\n",
    "res = logm2.fit()\n",
    "res.summary()"
   ]
  },
  {
   "cell_type": "code",
   "execution_count": 169,
   "metadata": {},
   "outputs": [
    {
     "data": {
      "text/plain": [
       "3009    0.077534\n",
       "1012    0.013473\n",
       "9226    0.423124\n",
       "4750    0.708838\n",
       "7987    0.801135\n",
       "1281    0.725882\n",
       "2880    0.035912\n",
       "4971    0.922144\n",
       "7536    0.845731\n",
       "1248    0.770875\n",
       "dtype: float64"
      ]
     },
     "execution_count": 169,
     "metadata": {},
     "output_type": "execute_result"
    }
   ],
   "source": [
    "# Getting the predicted values on the train set\n",
    "y_train_pred = res.predict(X_train_sm)\n",
    "y_train_pred[:10]"
   ]
  },
  {
   "cell_type": "code",
   "execution_count": 170,
   "metadata": {},
   "outputs": [
    {
     "data": {
      "text/plain": [
       "array([0.07753367, 0.01347266, 0.42312443, 0.70883764, 0.80113546,\n",
       "       0.72588166, 0.03591163, 0.9221437 , 0.84573141, 0.7708745 ])"
      ]
     },
     "execution_count": 170,
     "metadata": {},
     "output_type": "execute_result"
    }
   ],
   "source": [
    "y_train_pred = y_train_pred.values.reshape(-1)\n",
    "y_train_pred[:10]"
   ]
  },
  {
   "cell_type": "markdown",
   "metadata": {},
   "source": [
    "##### Creating a dataframe with the actual Converted flag and the predicted probabilities"
   ]
  },
  {
   "cell_type": "code",
   "execution_count": 171,
   "metadata": {},
   "outputs": [
    {
     "data": {
      "text/html": [
       "<div>\n",
       "<style scoped>\n",
       "    .dataframe tbody tr th:only-of-type {\n",
       "        vertical-align: middle;\n",
       "    }\n",
       "\n",
       "    .dataframe tbody tr th {\n",
       "        vertical-align: top;\n",
       "    }\n",
       "\n",
       "    .dataframe thead th {\n",
       "        text-align: right;\n",
       "    }\n",
       "</style>\n",
       "<table border=\"1\" class=\"dataframe\">\n",
       "  <thead>\n",
       "    <tr style=\"text-align: right;\">\n",
       "      <th></th>\n",
       "      <th>Converted</th>\n",
       "      <th>Converted_Prob</th>\n",
       "      <th>Prospect ID</th>\n",
       "    </tr>\n",
       "  </thead>\n",
       "  <tbody>\n",
       "    <tr>\n",
       "      <td>3009</td>\n",
       "      <td>0</td>\n",
       "      <td>0.077534</td>\n",
       "      <td>3009</td>\n",
       "    </tr>\n",
       "    <tr>\n",
       "      <td>1012</td>\n",
       "      <td>0</td>\n",
       "      <td>0.013473</td>\n",
       "      <td>1012</td>\n",
       "    </tr>\n",
       "    <tr>\n",
       "      <td>9226</td>\n",
       "      <td>0</td>\n",
       "      <td>0.423124</td>\n",
       "      <td>9226</td>\n",
       "    </tr>\n",
       "    <tr>\n",
       "      <td>4750</td>\n",
       "      <td>1</td>\n",
       "      <td>0.708838</td>\n",
       "      <td>4750</td>\n",
       "    </tr>\n",
       "    <tr>\n",
       "      <td>7987</td>\n",
       "      <td>1</td>\n",
       "      <td>0.801135</td>\n",
       "      <td>7987</td>\n",
       "    </tr>\n",
       "  </tbody>\n",
       "</table>\n",
       "</div>"
      ],
      "text/plain": [
       "      Converted  Converted_Prob  Prospect ID\n",
       "3009          0        0.077534         3009\n",
       "1012          0        0.013473         1012\n",
       "9226          0        0.423124         9226\n",
       "4750          1        0.708838         4750\n",
       "7987          1        0.801135         7987"
      ]
     },
     "execution_count": 171,
     "metadata": {},
     "output_type": "execute_result"
    }
   ],
   "source": [
    "y_train_pred_final = pd.DataFrame({'Converted':y_train, 'Converted_Prob':y_train_pred})\n",
    "y_train_pred_final['Prospect ID'] = y_train.index\n",
    "y_train_pred_final.head()"
   ]
  },
  {
   "cell_type": "markdown",
   "metadata": {},
   "source": [
    "##### Creating new column 'predicted' with 1 if Converted_Prob > 0.5 else 0"
   ]
  },
  {
   "cell_type": "code",
   "execution_count": 172,
   "metadata": {},
   "outputs": [
    {
     "data": {
      "text/html": [
       "<div>\n",
       "<style scoped>\n",
       "    .dataframe tbody tr th:only-of-type {\n",
       "        vertical-align: middle;\n",
       "    }\n",
       "\n",
       "    .dataframe tbody tr th {\n",
       "        vertical-align: top;\n",
       "    }\n",
       "\n",
       "    .dataframe thead th {\n",
       "        text-align: right;\n",
       "    }\n",
       "</style>\n",
       "<table border=\"1\" class=\"dataframe\">\n",
       "  <thead>\n",
       "    <tr style=\"text-align: right;\">\n",
       "      <th></th>\n",
       "      <th>Converted</th>\n",
       "      <th>Converted_Prob</th>\n",
       "      <th>Prospect ID</th>\n",
       "      <th>predicted</th>\n",
       "    </tr>\n",
       "  </thead>\n",
       "  <tbody>\n",
       "    <tr>\n",
       "      <td>3009</td>\n",
       "      <td>0</td>\n",
       "      <td>0.077534</td>\n",
       "      <td>3009</td>\n",
       "      <td>0</td>\n",
       "    </tr>\n",
       "    <tr>\n",
       "      <td>1012</td>\n",
       "      <td>0</td>\n",
       "      <td>0.013473</td>\n",
       "      <td>1012</td>\n",
       "      <td>0</td>\n",
       "    </tr>\n",
       "    <tr>\n",
       "      <td>9226</td>\n",
       "      <td>0</td>\n",
       "      <td>0.423124</td>\n",
       "      <td>9226</td>\n",
       "      <td>0</td>\n",
       "    </tr>\n",
       "    <tr>\n",
       "      <td>4750</td>\n",
       "      <td>1</td>\n",
       "      <td>0.708838</td>\n",
       "      <td>4750</td>\n",
       "      <td>1</td>\n",
       "    </tr>\n",
       "    <tr>\n",
       "      <td>7987</td>\n",
       "      <td>1</td>\n",
       "      <td>0.801135</td>\n",
       "      <td>7987</td>\n",
       "      <td>1</td>\n",
       "    </tr>\n",
       "  </tbody>\n",
       "</table>\n",
       "</div>"
      ],
      "text/plain": [
       "      Converted  Converted_Prob  Prospect ID  predicted\n",
       "3009          0        0.077534         3009          0\n",
       "1012          0        0.013473         1012          0\n",
       "9226          0        0.423124         9226          0\n",
       "4750          1        0.708838         4750          1\n",
       "7987          1        0.801135         7987          1"
      ]
     },
     "execution_count": 172,
     "metadata": {},
     "output_type": "execute_result"
    }
   ],
   "source": [
    "y_train_pred_final['predicted'] = y_train_pred_final.Converted_Prob.map(lambda x: 1 if x > 0.5 else 0)\n",
    "y_train_pred_final.head()"
   ]
  },
  {
   "cell_type": "code",
   "execution_count": 173,
   "metadata": {},
   "outputs": [
    {
     "name": "stdout",
     "output_type": "stream",
     "text": [
      "[[3459  446]\n",
      " [ 675 1771]]\n"
     ]
    }
   ],
   "source": [
    "# Confusion matrix \n",
    "cm1 = metrics.confusion_matrix(y_train_pred_final.Converted, y_train_pred_final.predicted )\n",
    "print(cm1)"
   ]
  },
  {
   "cell_type": "code",
   "execution_count": 174,
   "metadata": {},
   "outputs": [],
   "source": [
    "#Confusion Matrix\n",
    "\n",
    "# Actual/Predicted     not_Converted    Converted\n",
    "#  not_Converted       3459                446\n",
    "# Converted             675               1771  "
   ]
  },
  {
   "cell_type": "code",
   "execution_count": 175,
   "metadata": {},
   "outputs": [
    {
     "name": "stdout",
     "output_type": "stream",
     "text": [
      "Accuracy           :  0.8234923634073374\n",
      "Sensitivity/Recall :  0.7240392477514309\n",
      "Precision          :  0.7988272440234552\n",
      "F1Score            :  0.7595968260776325\n"
     ]
    }
   ],
   "source": [
    "# Let's check the overall Logis Regression Model evaluaion\n",
    "print('Accuracy           : ',metrics.accuracy_score(y_train_pred_final.Converted, y_train_pred_final.predicted))\n",
    "print('Sensitivity/Recall : ',metrics.recall_score(y_train_pred_final.Converted, y_train_pred_final.predicted))\n",
    "print('Precision          : ',metrics.precision_score(y_train_pred_final.Converted, y_train_pred_final.predicted))\n",
    "print('F1Score            : ',metrics.f1_score(y_train_pred_final.Converted, y_train_pred_final.predicted))"
   ]
  },
  {
   "cell_type": "markdown",
   "metadata": {},
   "source": [
    "#### Checking VIFs"
   ]
  },
  {
   "cell_type": "code",
   "execution_count": 176,
   "metadata": {},
   "outputs": [
    {
     "data": {
      "text/html": [
       "<div>\n",
       "<style scoped>\n",
       "    .dataframe tbody tr th:only-of-type {\n",
       "        vertical-align: middle;\n",
       "    }\n",
       "\n",
       "    .dataframe tbody tr th {\n",
       "        vertical-align: top;\n",
       "    }\n",
       "\n",
       "    .dataframe thead th {\n",
       "        text-align: right;\n",
       "    }\n",
       "</style>\n",
       "<table border=\"1\" class=\"dataframe\">\n",
       "  <thead>\n",
       "    <tr style=\"text-align: right;\">\n",
       "      <th></th>\n",
       "      <th>Features</th>\n",
       "      <th>VIF</th>\n",
       "    </tr>\n",
       "  </thead>\n",
       "  <tbody>\n",
       "    <tr>\n",
       "      <td>11</td>\n",
       "      <td>What matters most to you in choosing a course_...</td>\n",
       "      <td>inf</td>\n",
       "    </tr>\n",
       "    <tr>\n",
       "      <td>12</td>\n",
       "      <td>Lead Profile_Others</td>\n",
       "      <td>inf</td>\n",
       "    </tr>\n",
       "    <tr>\n",
       "      <td>9</td>\n",
       "      <td>Country_Others</td>\n",
       "      <td>14.66</td>\n",
       "    </tr>\n",
       "    <tr>\n",
       "      <td>6</td>\n",
       "      <td>Lead Source_Olark Chat</td>\n",
       "      <td>10.97</td>\n",
       "    </tr>\n",
       "    <tr>\n",
       "      <td>5</td>\n",
       "      <td>Lead Origin_Other Lead Origin</td>\n",
       "      <td>5.02</td>\n",
       "    </tr>\n",
       "    <tr>\n",
       "      <td>10</td>\n",
       "      <td>What is your current occupation_Unemployed</td>\n",
       "      <td>3.08</td>\n",
       "    </tr>\n",
       "    <tr>\n",
       "      <td>4</td>\n",
       "      <td>Lead Origin_Landing Page Submission</td>\n",
       "      <td>2.91</td>\n",
       "    </tr>\n",
       "    <tr>\n",
       "      <td>14</td>\n",
       "      <td>Last Notable Activity_Modified</td>\n",
       "      <td>1.83</td>\n",
       "    </tr>\n",
       "    <tr>\n",
       "      <td>7</td>\n",
       "      <td>Last Activity_Olark Chat Conversation</td>\n",
       "      <td>1.58</td>\n",
       "    </tr>\n",
       "    <tr>\n",
       "      <td>8</td>\n",
       "      <td>Last Activity_SMS Sent</td>\n",
       "      <td>1.54</td>\n",
       "    </tr>\n",
       "    <tr>\n",
       "      <td>1</td>\n",
       "      <td>Total Time Spent on Website</td>\n",
       "      <td>1.35</td>\n",
       "    </tr>\n",
       "    <tr>\n",
       "      <td>13</td>\n",
       "      <td>Lead Profile_Potential Lead</td>\n",
       "      <td>1.35</td>\n",
       "    </tr>\n",
       "    <tr>\n",
       "      <td>0</td>\n",
       "      <td>Do Not Email</td>\n",
       "      <td>1.14</td>\n",
       "    </tr>\n",
       "    <tr>\n",
       "      <td>2</td>\n",
       "      <td>Newspaper Article</td>\n",
       "      <td>1.00</td>\n",
       "    </tr>\n",
       "    <tr>\n",
       "      <td>3</td>\n",
       "      <td>Newspaper</td>\n",
       "      <td>1.00</td>\n",
       "    </tr>\n",
       "  </tbody>\n",
       "</table>\n",
       "</div>"
      ],
      "text/plain": [
       "                                             Features    VIF\n",
       "11  What matters most to you in choosing a course_...    inf\n",
       "12                                Lead Profile_Others    inf\n",
       "9                                      Country_Others  14.66\n",
       "6                              Lead Source_Olark Chat  10.97\n",
       "5                       Lead Origin_Other Lead Origin   5.02\n",
       "10         What is your current occupation_Unemployed   3.08\n",
       "4                 Lead Origin_Landing Page Submission   2.91\n",
       "14                     Last Notable Activity_Modified   1.83\n",
       "7               Last Activity_Olark Chat Conversation   1.58\n",
       "8                              Last Activity_SMS Sent   1.54\n",
       "1                         Total Time Spent on Website   1.35\n",
       "13                        Lead Profile_Potential Lead   1.35\n",
       "0                                        Do Not Email   1.14\n",
       "2                                   Newspaper Article   1.00\n",
       "3                                           Newspaper   1.00"
      ]
     },
     "execution_count": 176,
     "metadata": {},
     "output_type": "execute_result"
    }
   ],
   "source": [
    "# Create a dataframe that will contain the names of all the feature variables and their respective VIFs\n",
    "vif = pd.DataFrame()\n",
    "vif['Features'] = X_train[col].columns\n",
    "vif['VIF'] = [variance_inflation_factor(X_train[col].values, i) for i in range(X_train[col].shape[1])]\n",
    "vif['VIF'] = round(vif['VIF'], 2)\n",
    "vif = vif.sort_values(by = \"VIF\", ascending = False)\n",
    "vif"
   ]
  },
  {
   "cell_type": "markdown",
   "metadata": {},
   "source": [
    "#### There are a few variables with high VIF. It's best to drop these variables as they aren't helping much with prediction and unnecessarily making the model complex. \n",
    "- The variable 'What matters most to you in choosing a course' & 'Lead Profile_Others' has the Infinity VIF  which is insignifacant .\n",
    "- The variable 'Country_others ,Lead Source_Clark Chat & Lead Origin_other Lead Origin have the hughest VIF > 5 which is insignifacant .\n",
    "- So let's start dropping the varibale one by one and rerun the model for betterment."
   ]
  },
  {
   "cell_type": "code",
   "execution_count": 177,
   "metadata": {},
   "outputs": [
    {
     "data": {
      "text/plain": [
       "Index(['Do Not Email', 'Total Time Spent on Website', 'Newspaper Article',\n",
       "       'Newspaper', 'Lead Origin_Landing Page Submission',\n",
       "       'Lead Origin_Other Lead Origin', 'Lead Source_Olark Chat',\n",
       "       'Last Activity_Olark Chat Conversation', 'Last Activity_SMS Sent',\n",
       "       'Country_Others', 'What is your current occupation_Unemployed',\n",
       "       'Lead Profile_Others', 'Lead Profile_Potential Lead',\n",
       "       'Last Notable Activity_Modified'],\n",
       "      dtype='object')"
      ]
     },
     "execution_count": 177,
     "metadata": {},
     "output_type": "execute_result"
    }
   ],
   "source": [
    "col = col.drop('What matters most to you in choosing a course_Others', 1)\n",
    "col"
   ]
  },
  {
   "cell_type": "code",
   "execution_count": 178,
   "metadata": {},
   "outputs": [
    {
     "data": {
      "text/html": [
       "<table class=\"simpletable\">\n",
       "<caption>Generalized Linear Model Regression Results</caption>\n",
       "<tr>\n",
       "  <th>Dep. Variable:</th>       <td>Converted</td>    <th>  No. Observations:  </th>  <td>  6351</td> \n",
       "</tr>\n",
       "<tr>\n",
       "  <th>Model:</th>                  <td>GLM</td>       <th>  Df Residuals:      </th>  <td>  6336</td> \n",
       "</tr>\n",
       "<tr>\n",
       "  <th>Model Family:</th>        <td>Binomial</td>     <th>  Df Model:          </th>  <td>    14</td> \n",
       "</tr>\n",
       "<tr>\n",
       "  <th>Link Function:</th>         <td>logit</td>      <th>  Scale:             </th> <td>  1.0000</td>\n",
       "</tr>\n",
       "<tr>\n",
       "  <th>Method:</th>                <td>IRLS</td>       <th>  Log-Likelihood:    </th> <td> -2469.8</td>\n",
       "</tr>\n",
       "<tr>\n",
       "  <th>Date:</th>            <td>Mon, 20 Jul 2020</td> <th>  Deviance:          </th> <td>  4939.6</td>\n",
       "</tr>\n",
       "<tr>\n",
       "  <th>Time:</th>                <td>11:19:23</td>     <th>  Pearson chi2:      </th> <td>6.19e+03</td>\n",
       "</tr>\n",
       "<tr>\n",
       "  <th>No. Iterations:</th>         <td>19</td>        <th>                     </th>     <td> </td>   \n",
       "</tr>\n",
       "<tr>\n",
       "  <th>Covariance Type:</th>     <td>nonrobust</td>    <th>                     </th>     <td> </td>   \n",
       "</tr>\n",
       "</table>\n",
       "<table class=\"simpletable\">\n",
       "<tr>\n",
       "                       <td></td>                         <th>coef</th>     <th>std err</th>      <th>z</th>      <th>P>|z|</th>  <th>[0.025</th>    <th>0.975]</th>  \n",
       "</tr>\n",
       "<tr>\n",
       "  <th>const</th>                                      <td>    0.5335</td> <td>    0.151</td> <td>    3.536</td> <td> 0.000</td> <td>    0.238</td> <td>    0.829</td>\n",
       "</tr>\n",
       "<tr>\n",
       "  <th>Do Not Email</th>                               <td>   -1.3886</td> <td>    0.176</td> <td>   -7.894</td> <td> 0.000</td> <td>   -1.733</td> <td>   -1.044</td>\n",
       "</tr>\n",
       "<tr>\n",
       "  <th>Total Time Spent on Website</th>                <td>    1.1286</td> <td>    0.042</td> <td>   26.630</td> <td> 0.000</td> <td>    1.046</td> <td>    1.212</td>\n",
       "</tr>\n",
       "<tr>\n",
       "  <th>Newspaper Article</th>                          <td>    1.7859</td> <td>    1.492</td> <td>    1.197</td> <td> 0.231</td> <td>   -1.139</td> <td>    4.711</td>\n",
       "</tr>\n",
       "<tr>\n",
       "  <th>Newspaper</th>                                  <td>  -21.9238</td> <td> 1.77e+04</td> <td>   -0.001</td> <td> 0.999</td> <td>-3.48e+04</td> <td> 3.47e+04</td>\n",
       "</tr>\n",
       "<tr>\n",
       "  <th>Lead Origin_Landing Page Submission</th>        <td>   -0.3840</td> <td>    0.093</td> <td>   -4.147</td> <td> 0.000</td> <td>   -0.565</td> <td>   -0.202</td>\n",
       "</tr>\n",
       "<tr>\n",
       "  <th>Lead Origin_Other Lead Origin</th>              <td>    2.9806</td> <td>    0.313</td> <td>    9.532</td> <td> 0.000</td> <td>    2.368</td> <td>    3.593</td>\n",
       "</tr>\n",
       "<tr>\n",
       "  <th>Lead Source_Olark Chat</th>                     <td>    1.0203</td> <td>    0.269</td> <td>    3.800</td> <td> 0.000</td> <td>    0.494</td> <td>    1.547</td>\n",
       "</tr>\n",
       "<tr>\n",
       "  <th>Last Activity_Olark Chat Conversation</th>      <td>   -1.0162</td> <td>    0.175</td> <td>   -5.816</td> <td> 0.000</td> <td>   -1.359</td> <td>   -0.674</td>\n",
       "</tr>\n",
       "<tr>\n",
       "  <th>Last Activity_SMS Sent</th>                     <td>    1.3306</td> <td>    0.078</td> <td>   17.124</td> <td> 0.000</td> <td>    1.178</td> <td>    1.483</td>\n",
       "</tr>\n",
       "<tr>\n",
       "  <th>Country_Others</th>                             <td>    0.1724</td> <td>    0.264</td> <td>    0.653</td> <td> 0.514</td> <td>   -0.345</td> <td>    0.689</td>\n",
       "</tr>\n",
       "<tr>\n",
       "  <th>What is your current occupation_Unemployed</th> <td>   -1.5409</td> <td>    0.134</td> <td>  -11.516</td> <td> 0.000</td> <td>   -1.803</td> <td>   -1.279</td>\n",
       "</tr>\n",
       "<tr>\n",
       "  <th>Lead Profile_Others</th>                        <td>   -2.4450</td> <td>    0.151</td> <td>  -16.187</td> <td> 0.000</td> <td>   -2.741</td> <td>   -2.149</td>\n",
       "</tr>\n",
       "<tr>\n",
       "  <th>Lead Profile_Potential Lead</th>                <td>    1.6233</td> <td>    0.103</td> <td>   15.791</td> <td> 0.000</td> <td>    1.422</td> <td>    1.825</td>\n",
       "</tr>\n",
       "<tr>\n",
       "  <th>Last Notable Activity_Modified</th>             <td>   -0.8228</td> <td>    0.084</td> <td>   -9.809</td> <td> 0.000</td> <td>   -0.987</td> <td>   -0.658</td>\n",
       "</tr>\n",
       "</table>"
      ],
      "text/plain": [
       "<class 'statsmodels.iolib.summary.Summary'>\n",
       "\"\"\"\n",
       "                 Generalized Linear Model Regression Results                  \n",
       "==============================================================================\n",
       "Dep. Variable:              Converted   No. Observations:                 6351\n",
       "Model:                            GLM   Df Residuals:                     6336\n",
       "Model Family:                Binomial   Df Model:                           14\n",
       "Link Function:                  logit   Scale:                          1.0000\n",
       "Method:                          IRLS   Log-Likelihood:                -2469.8\n",
       "Date:                Mon, 20 Jul 2020   Deviance:                       4939.6\n",
       "Time:                        11:19:23   Pearson chi2:                 6.19e+03\n",
       "No. Iterations:                    19                                         \n",
       "Covariance Type:            nonrobust                                         \n",
       "==============================================================================================================\n",
       "                                                 coef    std err          z      P>|z|      [0.025      0.975]\n",
       "--------------------------------------------------------------------------------------------------------------\n",
       "const                                          0.5335      0.151      3.536      0.000       0.238       0.829\n",
       "Do Not Email                                  -1.3886      0.176     -7.894      0.000      -1.733      -1.044\n",
       "Total Time Spent on Website                    1.1286      0.042     26.630      0.000       1.046       1.212\n",
       "Newspaper Article                              1.7859      1.492      1.197      0.231      -1.139       4.711\n",
       "Newspaper                                    -21.9238   1.77e+04     -0.001      0.999   -3.48e+04    3.47e+04\n",
       "Lead Origin_Landing Page Submission           -0.3840      0.093     -4.147      0.000      -0.565      -0.202\n",
       "Lead Origin_Other Lead Origin                  2.9806      0.313      9.532      0.000       2.368       3.593\n",
       "Lead Source_Olark Chat                         1.0203      0.269      3.800      0.000       0.494       1.547\n",
       "Last Activity_Olark Chat Conversation         -1.0162      0.175     -5.816      0.000      -1.359      -0.674\n",
       "Last Activity_SMS Sent                         1.3306      0.078     17.124      0.000       1.178       1.483\n",
       "Country_Others                                 0.1724      0.264      0.653      0.514      -0.345       0.689\n",
       "What is your current occupation_Unemployed    -1.5409      0.134    -11.516      0.000      -1.803      -1.279\n",
       "Lead Profile_Others                           -2.4450      0.151    -16.187      0.000      -2.741      -2.149\n",
       "Lead Profile_Potential Lead                    1.6233      0.103     15.791      0.000       1.422       1.825\n",
       "Last Notable Activity_Modified                -0.8228      0.084     -9.809      0.000      -0.987      -0.658\n",
       "==============================================================================================================\n",
       "\"\"\""
      ]
     },
     "execution_count": 178,
     "metadata": {},
     "output_type": "execute_result"
    }
   ],
   "source": [
    "X_train_sm = sm.add_constant(X_train[col])\n",
    "logm3 = sm.GLM(y_train,X_train_sm, family = sm.families.Binomial())\n",
    "res = logm3.fit()\n",
    "res.summary()"
   ]
  },
  {
   "cell_type": "code",
   "execution_count": 179,
   "metadata": {},
   "outputs": [
    {
     "data": {
      "text/plain": [
       "array([0.07753367, 0.01347266, 0.42312443, 0.70883764, 0.80113546,\n",
       "       0.72588166, 0.03591163, 0.9221437 , 0.84573141, 0.7708745 ])"
      ]
     },
     "execution_count": 179,
     "metadata": {},
     "output_type": "execute_result"
    }
   ],
   "source": [
    "# Getting the predicted values on the train set\n",
    "y_train_pred = res.predict(X_train_sm)\n",
    "y_train_pred[:10]\n",
    "\n",
    "y_train_pred = y_train_pred.values.reshape(-1)\n",
    "y_train_pred[:10]"
   ]
  },
  {
   "cell_type": "code",
   "execution_count": 180,
   "metadata": {},
   "outputs": [
    {
     "data": {
      "text/html": [
       "<div>\n",
       "<style scoped>\n",
       "    .dataframe tbody tr th:only-of-type {\n",
       "        vertical-align: middle;\n",
       "    }\n",
       "\n",
       "    .dataframe tbody tr th {\n",
       "        vertical-align: top;\n",
       "    }\n",
       "\n",
       "    .dataframe thead th {\n",
       "        text-align: right;\n",
       "    }\n",
       "</style>\n",
       "<table border=\"1\" class=\"dataframe\">\n",
       "  <thead>\n",
       "    <tr style=\"text-align: right;\">\n",
       "      <th></th>\n",
       "      <th>Converted</th>\n",
       "      <th>Converted_Prob</th>\n",
       "      <th>Prospect ID</th>\n",
       "      <th>predicted</th>\n",
       "    </tr>\n",
       "  </thead>\n",
       "  <tbody>\n",
       "    <tr>\n",
       "      <td>3009</td>\n",
       "      <td>0</td>\n",
       "      <td>0.077534</td>\n",
       "      <td>3009</td>\n",
       "      <td>0</td>\n",
       "    </tr>\n",
       "    <tr>\n",
       "      <td>1012</td>\n",
       "      <td>0</td>\n",
       "      <td>0.013473</td>\n",
       "      <td>1012</td>\n",
       "      <td>0</td>\n",
       "    </tr>\n",
       "    <tr>\n",
       "      <td>9226</td>\n",
       "      <td>0</td>\n",
       "      <td>0.423124</td>\n",
       "      <td>9226</td>\n",
       "      <td>0</td>\n",
       "    </tr>\n",
       "    <tr>\n",
       "      <td>4750</td>\n",
       "      <td>1</td>\n",
       "      <td>0.708838</td>\n",
       "      <td>4750</td>\n",
       "      <td>1</td>\n",
       "    </tr>\n",
       "    <tr>\n",
       "      <td>7987</td>\n",
       "      <td>1</td>\n",
       "      <td>0.801135</td>\n",
       "      <td>7987</td>\n",
       "      <td>1</td>\n",
       "    </tr>\n",
       "  </tbody>\n",
       "</table>\n",
       "</div>"
      ],
      "text/plain": [
       "      Converted  Converted_Prob  Prospect ID  predicted\n",
       "3009          0        0.077534         3009          0\n",
       "1012          0        0.013473         1012          0\n",
       "9226          0        0.423124         9226          0\n",
       "4750          1        0.708838         4750          1\n",
       "7987          1        0.801135         7987          1"
      ]
     },
     "execution_count": 180,
     "metadata": {},
     "output_type": "execute_result"
    }
   ],
   "source": [
    "y_train_pred_final['Converted_Prob'] = y_train_pred\n",
    "y_train_pred_final['predicted'] = y_train_pred_final.Converted_Prob.map(lambda x: 1 if x > 0.5 else 0)\n",
    "y_train_pred_final.head()"
   ]
  },
  {
   "cell_type": "code",
   "execution_count": 181,
   "metadata": {},
   "outputs": [
    {
     "name": "stdout",
     "output_type": "stream",
     "text": [
      "Accuracy           :  0.8234923634073374\n",
      "Sensitivity/Recall :  0.7240392477514309\n",
      "Precision          :  0.7988272440234552\n",
      "F1Score            :  0.7595968260776325\n"
     ]
    }
   ],
   "source": [
    "# Let's check the overall Logis Regression Model evaluaion\n",
    "print('Accuracy           : ',metrics.accuracy_score(y_train_pred_final.Converted, y_train_pred_final.predicted))\n",
    "print('Sensitivity/Recall : ',metrics.recall_score(y_train_pred_final.Converted, y_train_pred_final.predicted))\n",
    "print('Precision          : ',metrics.precision_score(y_train_pred_final.Converted, y_train_pred_final.predicted))\n",
    "print('F1Score            : ',metrics.f1_score(y_train_pred_final.Converted, y_train_pred_final.predicted))"
   ]
  },
  {
   "cell_type": "markdown",
   "metadata": {},
   "source": [
    "#### So overall the performance model remain unchanged ."
   ]
  },
  {
   "cell_type": "code",
   "execution_count": 182,
   "metadata": {},
   "outputs": [
    {
     "data": {
      "text/html": [
       "<div>\n",
       "<style scoped>\n",
       "    .dataframe tbody tr th:only-of-type {\n",
       "        vertical-align: middle;\n",
       "    }\n",
       "\n",
       "    .dataframe tbody tr th {\n",
       "        vertical-align: top;\n",
       "    }\n",
       "\n",
       "    .dataframe thead th {\n",
       "        text-align: right;\n",
       "    }\n",
       "</style>\n",
       "<table border=\"1\" class=\"dataframe\">\n",
       "  <thead>\n",
       "    <tr style=\"text-align: right;\">\n",
       "      <th></th>\n",
       "      <th>Features</th>\n",
       "      <th>VIF</th>\n",
       "    </tr>\n",
       "  </thead>\n",
       "  <tbody>\n",
       "    <tr>\n",
       "      <td>9</td>\n",
       "      <td>Country_Others</td>\n",
       "      <td>14.66</td>\n",
       "    </tr>\n",
       "    <tr>\n",
       "      <td>6</td>\n",
       "      <td>Lead Source_Olark Chat</td>\n",
       "      <td>10.97</td>\n",
       "    </tr>\n",
       "    <tr>\n",
       "      <td>5</td>\n",
       "      <td>Lead Origin_Other Lead Origin</td>\n",
       "      <td>5.02</td>\n",
       "    </tr>\n",
       "    <tr>\n",
       "      <td>10</td>\n",
       "      <td>What is your current occupation_Unemployed</td>\n",
       "      <td>3.08</td>\n",
       "    </tr>\n",
       "    <tr>\n",
       "      <td>4</td>\n",
       "      <td>Lead Origin_Landing Page Submission</td>\n",
       "      <td>2.91</td>\n",
       "    </tr>\n",
       "    <tr>\n",
       "      <td>11</td>\n",
       "      <td>Lead Profile_Others</td>\n",
       "      <td>2.25</td>\n",
       "    </tr>\n",
       "    <tr>\n",
       "      <td>13</td>\n",
       "      <td>Last Notable Activity_Modified</td>\n",
       "      <td>1.83</td>\n",
       "    </tr>\n",
       "    <tr>\n",
       "      <td>7</td>\n",
       "      <td>Last Activity_Olark Chat Conversation</td>\n",
       "      <td>1.58</td>\n",
       "    </tr>\n",
       "    <tr>\n",
       "      <td>8</td>\n",
       "      <td>Last Activity_SMS Sent</td>\n",
       "      <td>1.54</td>\n",
       "    </tr>\n",
       "    <tr>\n",
       "      <td>1</td>\n",
       "      <td>Total Time Spent on Website</td>\n",
       "      <td>1.35</td>\n",
       "    </tr>\n",
       "    <tr>\n",
       "      <td>12</td>\n",
       "      <td>Lead Profile_Potential Lead</td>\n",
       "      <td>1.35</td>\n",
       "    </tr>\n",
       "    <tr>\n",
       "      <td>0</td>\n",
       "      <td>Do Not Email</td>\n",
       "      <td>1.14</td>\n",
       "    </tr>\n",
       "    <tr>\n",
       "      <td>2</td>\n",
       "      <td>Newspaper Article</td>\n",
       "      <td>1.00</td>\n",
       "    </tr>\n",
       "    <tr>\n",
       "      <td>3</td>\n",
       "      <td>Newspaper</td>\n",
       "      <td>1.00</td>\n",
       "    </tr>\n",
       "  </tbody>\n",
       "</table>\n",
       "</div>"
      ],
      "text/plain": [
       "                                      Features    VIF\n",
       "9                               Country_Others  14.66\n",
       "6                       Lead Source_Olark Chat  10.97\n",
       "5                Lead Origin_Other Lead Origin   5.02\n",
       "10  What is your current occupation_Unemployed   3.08\n",
       "4          Lead Origin_Landing Page Submission   2.91\n",
       "11                         Lead Profile_Others   2.25\n",
       "13              Last Notable Activity_Modified   1.83\n",
       "7        Last Activity_Olark Chat Conversation   1.58\n",
       "8                       Last Activity_SMS Sent   1.54\n",
       "1                  Total Time Spent on Website   1.35\n",
       "12                 Lead Profile_Potential Lead   1.35\n",
       "0                                 Do Not Email   1.14\n",
       "2                            Newspaper Article   1.00\n",
       "3                                    Newspaper   1.00"
      ]
     },
     "execution_count": 182,
     "metadata": {},
     "output_type": "execute_result"
    }
   ],
   "source": [
    "## Lets check VIF again\n",
    "\n",
    "# Create a dataframe that will contain the names of all the feature variables and their respective VIFs\n",
    "vif = pd.DataFrame()\n",
    "vif['Features'] = X_train[col].columns\n",
    "vif['VIF'] = [variance_inflation_factor(X_train[col].values, i) for i in range(X_train[col].shape[1])]\n",
    "vif['VIF'] = round(vif['VIF'], 2)\n",
    "vif = vif.sort_values(by = \"VIF\", ascending = False)\n",
    "vif"
   ]
  },
  {
   "cell_type": "markdown",
   "metadata": {},
   "source": [
    "#### There are a few variables with high VIF. It's best to drop these variables as they aren't helping much with prediction and unnecessarily making the model complex. \n",
    "\n",
    "- The variable 'Country_others ,Lead Source_Clark Chat & Lead Origin_other Lead Origin have the hughest VIF > 5 which is insignifacant .\n",
    "- So let's start dropping the varibale one by one and rerun the model for betterment."
   ]
  },
  {
   "cell_type": "code",
   "execution_count": 183,
   "metadata": {},
   "outputs": [
    {
     "data": {
      "text/plain": [
       "Index(['Do Not Email', 'Total Time Spent on Website', 'Newspaper Article',\n",
       "       'Newspaper', 'Lead Origin_Landing Page Submission',\n",
       "       'Lead Origin_Other Lead Origin', 'Lead Source_Olark Chat',\n",
       "       'Last Activity_Olark Chat Conversation', 'Last Activity_SMS Sent',\n",
       "       'What is your current occupation_Unemployed', 'Lead Profile_Others',\n",
       "       'Lead Profile_Potential Lead', 'Last Notable Activity_Modified'],\n",
       "      dtype='object')"
      ]
     },
     "execution_count": 183,
     "metadata": {},
     "output_type": "execute_result"
    }
   ],
   "source": [
    "# dropping Country_others Varibales becos having of High VIF values\n",
    "col = col.drop('Country_Others', 1)\n",
    "col"
   ]
  },
  {
   "cell_type": "code",
   "execution_count": 184,
   "metadata": {},
   "outputs": [
    {
     "data": {
      "text/html": [
       "<table class=\"simpletable\">\n",
       "<caption>Generalized Linear Model Regression Results</caption>\n",
       "<tr>\n",
       "  <th>Dep. Variable:</th>       <td>Converted</td>    <th>  No. Observations:  </th>  <td>  6351</td> \n",
       "</tr>\n",
       "<tr>\n",
       "  <th>Model:</th>                  <td>GLM</td>       <th>  Df Residuals:      </th>  <td>  6337</td> \n",
       "</tr>\n",
       "<tr>\n",
       "  <th>Model Family:</th>        <td>Binomial</td>     <th>  Df Model:          </th>  <td>    13</td> \n",
       "</tr>\n",
       "<tr>\n",
       "  <th>Link Function:</th>         <td>logit</td>      <th>  Scale:             </th> <td>  1.0000</td>\n",
       "</tr>\n",
       "<tr>\n",
       "  <th>Method:</th>                <td>IRLS</td>       <th>  Log-Likelihood:    </th> <td> -2470.0</td>\n",
       "</tr>\n",
       "<tr>\n",
       "  <th>Date:</th>            <td>Mon, 20 Jul 2020</td> <th>  Deviance:          </th> <td>  4940.0</td>\n",
       "</tr>\n",
       "<tr>\n",
       "  <th>Time:</th>                <td>11:19:33</td>     <th>  Pearson chi2:      </th> <td>6.19e+03</td>\n",
       "</tr>\n",
       "<tr>\n",
       "  <th>No. Iterations:</th>         <td>19</td>        <th>                     </th>     <td> </td>   \n",
       "</tr>\n",
       "<tr>\n",
       "  <th>Covariance Type:</th>     <td>nonrobust</td>    <th>                     </th>     <td> </td>   \n",
       "</tr>\n",
       "</table>\n",
       "<table class=\"simpletable\">\n",
       "<tr>\n",
       "                       <td></td>                         <th>coef</th>     <th>std err</th>      <th>z</th>      <th>P>|z|</th>  <th>[0.025</th>    <th>0.975]</th>  \n",
       "</tr>\n",
       "<tr>\n",
       "  <th>const</th>                                      <td>    0.5388</td> <td>    0.151</td> <td>    3.577</td> <td> 0.000</td> <td>    0.244</td> <td>    0.834</td>\n",
       "</tr>\n",
       "<tr>\n",
       "  <th>Do Not Email</th>                               <td>   -1.3871</td> <td>    0.176</td> <td>   -7.889</td> <td> 0.000</td> <td>   -1.732</td> <td>   -1.043</td>\n",
       "</tr>\n",
       "<tr>\n",
       "  <th>Total Time Spent on Website</th>                <td>    1.1253</td> <td>    0.042</td> <td>   26.749</td> <td> 0.000</td> <td>    1.043</td> <td>    1.208</td>\n",
       "</tr>\n",
       "<tr>\n",
       "  <th>Newspaper Article</th>                          <td>    1.7865</td> <td>    1.492</td> <td>    1.197</td> <td> 0.231</td> <td>   -1.138</td> <td>    4.711</td>\n",
       "</tr>\n",
       "<tr>\n",
       "  <th>Newspaper</th>                                  <td>  -21.9165</td> <td> 1.77e+04</td> <td>   -0.001</td> <td> 0.999</td> <td>-3.48e+04</td> <td> 3.47e+04</td>\n",
       "</tr>\n",
       "<tr>\n",
       "  <th>Lead Origin_Landing Page Submission</th>        <td>   -0.3855</td> <td>    0.093</td> <td>   -4.166</td> <td> 0.000</td> <td>   -0.567</td> <td>   -0.204</td>\n",
       "</tr>\n",
       "<tr>\n",
       "  <th>Lead Origin_Other Lead Origin</th>              <td>    3.1409</td> <td>    0.195</td> <td>   16.138</td> <td> 0.000</td> <td>    2.759</td> <td>    3.522</td>\n",
       "</tr>\n",
       "<tr>\n",
       "  <th>Lead Source_Olark Chat</th>                     <td>    1.1752</td> <td>    0.126</td> <td>    9.301</td> <td> 0.000</td> <td>    0.928</td> <td>    1.423</td>\n",
       "</tr>\n",
       "<tr>\n",
       "  <th>Last Activity_Olark Chat Conversation</th>      <td>   -1.0132</td> <td>    0.175</td> <td>   -5.794</td> <td> 0.000</td> <td>   -1.356</td> <td>   -0.670</td>\n",
       "</tr>\n",
       "<tr>\n",
       "  <th>Last Activity_SMS Sent</th>                     <td>    1.3322</td> <td>    0.078</td> <td>   17.157</td> <td> 0.000</td> <td>    1.180</td> <td>    1.484</td>\n",
       "</tr>\n",
       "<tr>\n",
       "  <th>What is your current occupation_Unemployed</th> <td>   -1.5440</td> <td>    0.134</td> <td>  -11.545</td> <td> 0.000</td> <td>   -1.806</td> <td>   -1.282</td>\n",
       "</tr>\n",
       "<tr>\n",
       "  <th>Lead Profile_Others</th>                        <td>   -2.4467</td> <td>    0.151</td> <td>  -16.199</td> <td> 0.000</td> <td>   -2.743</td> <td>   -2.151</td>\n",
       "</tr>\n",
       "<tr>\n",
       "  <th>Lead Profile_Potential Lead</th>                <td>    1.6258</td> <td>    0.103</td> <td>   15.826</td> <td> 0.000</td> <td>    1.424</td> <td>    1.827</td>\n",
       "</tr>\n",
       "<tr>\n",
       "  <th>Last Notable Activity_Modified</th>             <td>   -0.8222</td> <td>    0.084</td> <td>   -9.803</td> <td> 0.000</td> <td>   -0.987</td> <td>   -0.658</td>\n",
       "</tr>\n",
       "</table>"
      ],
      "text/plain": [
       "<class 'statsmodels.iolib.summary.Summary'>\n",
       "\"\"\"\n",
       "                 Generalized Linear Model Regression Results                  \n",
       "==============================================================================\n",
       "Dep. Variable:              Converted   No. Observations:                 6351\n",
       "Model:                            GLM   Df Residuals:                     6337\n",
       "Model Family:                Binomial   Df Model:                           13\n",
       "Link Function:                  logit   Scale:                          1.0000\n",
       "Method:                          IRLS   Log-Likelihood:                -2470.0\n",
       "Date:                Mon, 20 Jul 2020   Deviance:                       4940.0\n",
       "Time:                        11:19:33   Pearson chi2:                 6.19e+03\n",
       "No. Iterations:                    19                                         \n",
       "Covariance Type:            nonrobust                                         \n",
       "==============================================================================================================\n",
       "                                                 coef    std err          z      P>|z|      [0.025      0.975]\n",
       "--------------------------------------------------------------------------------------------------------------\n",
       "const                                          0.5388      0.151      3.577      0.000       0.244       0.834\n",
       "Do Not Email                                  -1.3871      0.176     -7.889      0.000      -1.732      -1.043\n",
       "Total Time Spent on Website                    1.1253      0.042     26.749      0.000       1.043       1.208\n",
       "Newspaper Article                              1.7865      1.492      1.197      0.231      -1.138       4.711\n",
       "Newspaper                                    -21.9165   1.77e+04     -0.001      0.999   -3.48e+04    3.47e+04\n",
       "Lead Origin_Landing Page Submission           -0.3855      0.093     -4.166      0.000      -0.567      -0.204\n",
       "Lead Origin_Other Lead Origin                  3.1409      0.195     16.138      0.000       2.759       3.522\n",
       "Lead Source_Olark Chat                         1.1752      0.126      9.301      0.000       0.928       1.423\n",
       "Last Activity_Olark Chat Conversation         -1.0132      0.175     -5.794      0.000      -1.356      -0.670\n",
       "Last Activity_SMS Sent                         1.3322      0.078     17.157      0.000       1.180       1.484\n",
       "What is your current occupation_Unemployed    -1.5440      0.134    -11.545      0.000      -1.806      -1.282\n",
       "Lead Profile_Others                           -2.4467      0.151    -16.199      0.000      -2.743      -2.151\n",
       "Lead Profile_Potential Lead                    1.6258      0.103     15.826      0.000       1.424       1.827\n",
       "Last Notable Activity_Modified                -0.8222      0.084     -9.803      0.000      -0.987      -0.658\n",
       "==============================================================================================================\n",
       "\"\"\""
      ]
     },
     "execution_count": 184,
     "metadata": {},
     "output_type": "execute_result"
    }
   ],
   "source": [
    "X_train_sm = sm.add_constant(X_train[col])\n",
    "logm4 = sm.GLM(y_train,X_train_sm, family = sm.families.Binomial())\n",
    "res = logm4.fit()\n",
    "res.summary()"
   ]
  },
  {
   "cell_type": "code",
   "execution_count": 185,
   "metadata": {},
   "outputs": [
    {
     "data": {
      "text/html": [
       "<div>\n",
       "<style scoped>\n",
       "    .dataframe tbody tr th:only-of-type {\n",
       "        vertical-align: middle;\n",
       "    }\n",
       "\n",
       "    .dataframe tbody tr th {\n",
       "        vertical-align: top;\n",
       "    }\n",
       "\n",
       "    .dataframe thead th {\n",
       "        text-align: right;\n",
       "    }\n",
       "</style>\n",
       "<table border=\"1\" class=\"dataframe\">\n",
       "  <thead>\n",
       "    <tr style=\"text-align: right;\">\n",
       "      <th></th>\n",
       "      <th>Converted</th>\n",
       "      <th>Converted_Prob</th>\n",
       "      <th>Prospect ID</th>\n",
       "      <th>predicted</th>\n",
       "    </tr>\n",
       "  </thead>\n",
       "  <tbody>\n",
       "    <tr>\n",
       "      <td>3009</td>\n",
       "      <td>0</td>\n",
       "      <td>0.077719</td>\n",
       "      <td>3009</td>\n",
       "      <td>0</td>\n",
       "    </tr>\n",
       "    <tr>\n",
       "      <td>1012</td>\n",
       "      <td>0</td>\n",
       "      <td>0.013543</td>\n",
       "      <td>1012</td>\n",
       "      <td>0</td>\n",
       "    </tr>\n",
       "    <tr>\n",
       "      <td>9226</td>\n",
       "      <td>0</td>\n",
       "      <td>0.420681</td>\n",
       "      <td>9226</td>\n",
       "      <td>0</td>\n",
       "    </tr>\n",
       "    <tr>\n",
       "      <td>4750</td>\n",
       "      <td>1</td>\n",
       "      <td>0.708472</td>\n",
       "      <td>4750</td>\n",
       "      <td>1</td>\n",
       "    </tr>\n",
       "    <tr>\n",
       "      <td>7987</td>\n",
       "      <td>1</td>\n",
       "      <td>0.800536</td>\n",
       "      <td>7987</td>\n",
       "      <td>1</td>\n",
       "    </tr>\n",
       "  </tbody>\n",
       "</table>\n",
       "</div>"
      ],
      "text/plain": [
       "      Converted  Converted_Prob  Prospect ID  predicted\n",
       "3009          0        0.077719         3009          0\n",
       "1012          0        0.013543         1012          0\n",
       "9226          0        0.420681         9226          0\n",
       "4750          1        0.708472         4750          1\n",
       "7987          1        0.800536         7987          1"
      ]
     },
     "execution_count": 185,
     "metadata": {},
     "output_type": "execute_result"
    }
   ],
   "source": [
    "# Getting the predicted values on the train set\n",
    "y_train_pred = res.predict(X_train_sm).values.reshape(-1)\n",
    "\n",
    "y_train_pred_final['Converted_Prob'] = y_train_pred\n",
    "y_train_pred_final['predicted'] = y_train_pred_final.Converted_Prob.map(lambda x: 1 if x > 0.5 else 0)\n",
    "y_train_pred_final.head()"
   ]
  },
  {
   "cell_type": "code",
   "execution_count": 186,
   "metadata": {},
   "outputs": [
    {
     "name": "stdout",
     "output_type": "stream",
     "text": [
      "Accuracy           :  0.8233349078885215\n",
      "Sensitivity/Recall :  0.7244480784955029\n",
      "Precision          :  0.7981981981981981\n",
      "F1Score            :  0.7595370767252465\n"
     ]
    }
   ],
   "source": [
    "# Let's check the overall Logis Regression Model evaluaion\n",
    "print('Accuracy           : ',metrics.accuracy_score(y_train_pred_final.Converted, y_train_pred_final.predicted))\n",
    "print('Sensitivity/Recall : ',metrics.recall_score(y_train_pred_final.Converted, y_train_pred_final.predicted))\n",
    "print('Precision          : ',metrics.precision_score(y_train_pred_final.Converted, y_train_pred_final.predicted))\n",
    "print('F1Score            : ',metrics.f1_score(y_train_pred_final.Converted, y_train_pred_final.predicted))"
   ]
  },
  {
   "cell_type": "markdown",
   "metadata": {},
   "source": [
    "#### So overall the performance model :\n",
    "- Sensitivity has slight improvement and  other factor remain unchanged ."
   ]
  },
  {
   "cell_type": "code",
   "execution_count": 187,
   "metadata": {},
   "outputs": [
    {
     "data": {
      "text/html": [
       "<div>\n",
       "<style scoped>\n",
       "    .dataframe tbody tr th:only-of-type {\n",
       "        vertical-align: middle;\n",
       "    }\n",
       "\n",
       "    .dataframe tbody tr th {\n",
       "        vertical-align: top;\n",
       "    }\n",
       "\n",
       "    .dataframe thead th {\n",
       "        text-align: right;\n",
       "    }\n",
       "</style>\n",
       "<table border=\"1\" class=\"dataframe\">\n",
       "  <thead>\n",
       "    <tr style=\"text-align: right;\">\n",
       "      <th></th>\n",
       "      <th>Features</th>\n",
       "      <th>VIF</th>\n",
       "    </tr>\n",
       "  </thead>\n",
       "  <tbody>\n",
       "    <tr>\n",
       "      <td>9</td>\n",
       "      <td>What is your current occupation_Unemployed</td>\n",
       "      <td>3.08</td>\n",
       "    </tr>\n",
       "    <tr>\n",
       "      <td>4</td>\n",
       "      <td>Lead Origin_Landing Page Submission</td>\n",
       "      <td>2.91</td>\n",
       "    </tr>\n",
       "    <tr>\n",
       "      <td>10</td>\n",
       "      <td>Lead Profile_Others</td>\n",
       "      <td>2.25</td>\n",
       "    </tr>\n",
       "    <tr>\n",
       "      <td>6</td>\n",
       "      <td>Lead Source_Olark Chat</td>\n",
       "      <td>2.06</td>\n",
       "    </tr>\n",
       "    <tr>\n",
       "      <td>12</td>\n",
       "      <td>Last Notable Activity_Modified</td>\n",
       "      <td>1.83</td>\n",
       "    </tr>\n",
       "    <tr>\n",
       "      <td>7</td>\n",
       "      <td>Last Activity_Olark Chat Conversation</td>\n",
       "      <td>1.58</td>\n",
       "    </tr>\n",
       "    <tr>\n",
       "      <td>8</td>\n",
       "      <td>Last Activity_SMS Sent</td>\n",
       "      <td>1.54</td>\n",
       "    </tr>\n",
       "    <tr>\n",
       "      <td>5</td>\n",
       "      <td>Lead Origin_Other Lead Origin</td>\n",
       "      <td>1.42</td>\n",
       "    </tr>\n",
       "    <tr>\n",
       "      <td>11</td>\n",
       "      <td>Lead Profile_Potential Lead</td>\n",
       "      <td>1.35</td>\n",
       "    </tr>\n",
       "    <tr>\n",
       "      <td>1</td>\n",
       "      <td>Total Time Spent on Website</td>\n",
       "      <td>1.32</td>\n",
       "    </tr>\n",
       "    <tr>\n",
       "      <td>0</td>\n",
       "      <td>Do Not Email</td>\n",
       "      <td>1.14</td>\n",
       "    </tr>\n",
       "    <tr>\n",
       "      <td>2</td>\n",
       "      <td>Newspaper Article</td>\n",
       "      <td>1.00</td>\n",
       "    </tr>\n",
       "    <tr>\n",
       "      <td>3</td>\n",
       "      <td>Newspaper</td>\n",
       "      <td>1.00</td>\n",
       "    </tr>\n",
       "  </tbody>\n",
       "</table>\n",
       "</div>"
      ],
      "text/plain": [
       "                                      Features   VIF\n",
       "9   What is your current occupation_Unemployed  3.08\n",
       "4          Lead Origin_Landing Page Submission  2.91\n",
       "10                         Lead Profile_Others  2.25\n",
       "6                       Lead Source_Olark Chat  2.06\n",
       "12              Last Notable Activity_Modified  1.83\n",
       "7        Last Activity_Olark Chat Conversation  1.58\n",
       "8                       Last Activity_SMS Sent  1.54\n",
       "5                Lead Origin_Other Lead Origin  1.42\n",
       "11                 Lead Profile_Potential Lead  1.35\n",
       "1                  Total Time Spent on Website  1.32\n",
       "0                                 Do Not Email  1.14\n",
       "2                            Newspaper Article  1.00\n",
       "3                                    Newspaper  1.00"
      ]
     },
     "execution_count": 187,
     "metadata": {},
     "output_type": "execute_result"
    }
   ],
   "source": [
    "## Lets check VIF again\n",
    "\n",
    "# Create a dataframe that will contain the names of all the feature variables and their respective VIFs\n",
    "vif = pd.DataFrame()\n",
    "vif['Features'] = X_train[col].columns\n",
    "vif['VIF'] = [variance_inflation_factor(X_train[col].values, i) for i in range(X_train[col].shape[1])]\n",
    "vif['VIF'] = round(vif['VIF'], 2)\n",
    "vif = vif.sort_values(by = \"VIF\", ascending = False)\n",
    "vif"
   ]
  },
  {
   "cell_type": "markdown",
   "metadata": {},
   "source": [
    "#### All the variables have  VIF less than 5."
   ]
  },
  {
   "cell_type": "markdown",
   "metadata": {},
   "source": [
    "#### So overall the performance model :\n",
    "- Sensitivity has slight improvement and  other factors."
   ]
  },
  {
   "cell_type": "code",
   "execution_count": 188,
   "metadata": {},
   "outputs": [
    {
     "data": {
      "text/plain": [
       "Text(0.5, 0, 'Errors')"
      ]
     },
     "execution_count": 188,
     "metadata": {},
     "output_type": "execute_result"
    },
    {
     "data": {
      "image/png": "[encoded data removed]",
      "text/plain": [
       "<Figure size 432x288 with 1 Axes>"
      ]
     },
     "metadata": {
      "needs_background": "light"
     },
     "output_type": "display_data"
    }
   ],
   "source": [
    "## Performig Residual Analysis\n",
    "# Plot the histogram of the error terms\n",
    "fig = plt.figure()\n",
    "sns.distplot((y_train - y_train_pred), bins = 20)\n",
    "fig.suptitle('Error Terms', fontsize = 20)                  # Plot heading \n",
    "plt.xlabel('Errors', fontsize = 18)                         # X-label"
   ]
  },
  {
   "cell_type": "markdown",
   "metadata": {},
   "source": [
    "#  Train Model Observation :\n",
    "- VIF of all features are < 5 cut off - which means a the features are significant\n",
    "- PValues of all Features are = 0 whichis <0.5 cut off - which means all the features are significant.\n",
    "- From the plot we can infer that mean = 0 - which is normally distributed.\n",
    "- Model accuracy is 82%\n",
    "- Model Sensitvity is 72%\n",
    "- Model Precision is 79%"
   ]
  },
  {
   "cell_type": "markdown",
   "metadata": {},
   "source": [
    "## ROC Curve"
   ]
  },
  {
   "cell_type": "markdown",
   "metadata": {},
   "source": [
    "#### An ROC curve demonstrates several things:\n",
    "\n",
    "- It shows the tradeoff between sensitivity and specificity (any increase in sensitivity will be accompanied by a decrease in specificity).\n",
    "- The closer the curve follows the left-hand border and then the top border of the ROC space, the more accurate the test.\n",
    "- The closer the curve comes to the 45-degree diagonal of the ROC space, the less accurate the test."
   ]
  },
  {
   "cell_type": "code",
   "execution_count": 189,
   "metadata": {},
   "outputs": [],
   "source": [
    "def draw_roc( actual, probs ):\n",
    "    fpr, tpr, thresholds = metrics.roc_curve( actual, probs,\n",
    "                                              drop_intermediate = False )\n",
    "    auc_score = metrics.roc_auc_score( actual, probs )\n",
    "    plt.figure(figsize=(5, 5))\n",
    "    plt.plot( fpr, tpr, label='ROC curve (area = %0.2f)' % auc_score )\n",
    "    plt.plot([0, 1], [0, 1], 'k--')\n",
    "    plt.xlim([0.0, 1.0])\n",
    "    plt.ylim([0.0, 1.05])\n",
    "    plt.xlabel('False Positive Rate or [1 - True Negative Rate]')\n",
    "    plt.ylabel('True Positive Rate')\n",
    "    plt.title('Receiver operating characteristic example')\n",
    "    plt.legend(loc=\"lower right\")\n",
    "    plt.show()\n",
    "\n",
    "    return None"
   ]
  },
  {
   "cell_type": "code",
   "execution_count": 190,
   "metadata": {},
   "outputs": [],
   "source": [
    "fpr, tpr, thresholds = metrics.roc_curve( y_train_pred_final.Converted, y_train_pred_final.Converted_Prob, drop_intermediate = False )"
   ]
  },
  {
   "cell_type": "code",
   "execution_count": 191,
   "metadata": {},
   "outputs": [
    {
     "data": {
      "image/png": "[encoded data removed]",
      "text/plain": [
       "<Figure size 360x360 with 1 Axes>"
      ]
     },
     "metadata": {
      "needs_background": "light"
     },
     "output_type": "display_data"
    }
   ],
   "source": [
    "draw_roc(y_train_pred_final.Converted, y_train_pred_final.Converted_Prob)"
   ]
  },
  {
   "cell_type": "markdown",
   "metadata": {},
   "source": [
    "### Step 10: Finding Optimal Cutoff Point"
   ]
  },
  {
   "cell_type": "code",
   "execution_count": 192,
   "metadata": {},
   "outputs": [
    {
     "data": {
      "text/html": [
       "<div>\n",
       "<style scoped>\n",
       "    .dataframe tbody tr th:only-of-type {\n",
       "        vertical-align: middle;\n",
       "    }\n",
       "\n",
       "    .dataframe tbody tr th {\n",
       "        vertical-align: top;\n",
       "    }\n",
       "\n",
       "    .dataframe thead th {\n",
       "        text-align: right;\n",
       "    }\n",
       "</style>\n",
       "<table border=\"1\" class=\"dataframe\">\n",
       "  <thead>\n",
       "    <tr style=\"text-align: right;\">\n",
       "      <th></th>\n",
       "      <th>Converted</th>\n",
       "      <th>Converted_Prob</th>\n",
       "      <th>Prospect ID</th>\n",
       "      <th>predicted</th>\n",
       "      <th>0.0</th>\n",
       "      <th>0.1</th>\n",
       "      <th>0.2</th>\n",
       "      <th>0.3</th>\n",
       "      <th>0.4</th>\n",
       "      <th>0.5</th>\n",
       "      <th>0.6</th>\n",
       "      <th>0.7</th>\n",
       "      <th>0.8</th>\n",
       "      <th>0.9</th>\n",
       "    </tr>\n",
       "  </thead>\n",
       "  <tbody>\n",
       "    <tr>\n",
       "      <td>3009</td>\n",
       "      <td>0</td>\n",
       "      <td>0.077719</td>\n",
       "      <td>3009</td>\n",
       "      <td>0</td>\n",
       "      <td>1</td>\n",
       "      <td>0</td>\n",
       "      <td>0</td>\n",
       "      <td>0</td>\n",
       "      <td>0</td>\n",
       "      <td>0</td>\n",
       "      <td>0</td>\n",
       "      <td>0</td>\n",
       "      <td>0</td>\n",
       "      <td>0</td>\n",
       "    </tr>\n",
       "    <tr>\n",
       "      <td>1012</td>\n",
       "      <td>0</td>\n",
       "      <td>0.013543</td>\n",
       "      <td>1012</td>\n",
       "      <td>0</td>\n",
       "      <td>1</td>\n",
       "      <td>0</td>\n",
       "      <td>0</td>\n",
       "      <td>0</td>\n",
       "      <td>0</td>\n",
       "      <td>0</td>\n",
       "      <td>0</td>\n",
       "      <td>0</td>\n",
       "      <td>0</td>\n",
       "      <td>0</td>\n",
       "    </tr>\n",
       "    <tr>\n",
       "      <td>9226</td>\n",
       "      <td>0</td>\n",
       "      <td>0.420681</td>\n",
       "      <td>9226</td>\n",
       "      <td>0</td>\n",
       "      <td>1</td>\n",
       "      <td>1</td>\n",
       "      <td>1</td>\n",
       "      <td>1</td>\n",
       "      <td>1</td>\n",
       "      <td>0</td>\n",
       "      <td>0</td>\n",
       "      <td>0</td>\n",
       "      <td>0</td>\n",
       "      <td>0</td>\n",
       "    </tr>\n",
       "    <tr>\n",
       "      <td>4750</td>\n",
       "      <td>1</td>\n",
       "      <td>0.708472</td>\n",
       "      <td>4750</td>\n",
       "      <td>1</td>\n",
       "      <td>1</td>\n",
       "      <td>1</td>\n",
       "      <td>1</td>\n",
       "      <td>1</td>\n",
       "      <td>1</td>\n",
       "      <td>1</td>\n",
       "      <td>1</td>\n",
       "      <td>1</td>\n",
       "      <td>0</td>\n",
       "      <td>0</td>\n",
       "    </tr>\n",
       "    <tr>\n",
       "      <td>7987</td>\n",
       "      <td>1</td>\n",
       "      <td>0.800536</td>\n",
       "      <td>7987</td>\n",
       "      <td>1</td>\n",
       "      <td>1</td>\n",
       "      <td>1</td>\n",
       "      <td>1</td>\n",
       "      <td>1</td>\n",
       "      <td>1</td>\n",
       "      <td>1</td>\n",
       "      <td>1</td>\n",
       "      <td>1</td>\n",
       "      <td>1</td>\n",
       "      <td>0</td>\n",
       "    </tr>\n",
       "  </tbody>\n",
       "</table>\n",
       "</div>"
      ],
      "text/plain": [
       "      Converted  Converted_Prob  Prospect ID  predicted  0.0  0.1  0.2  0.3  \\\n",
       "3009          0        0.077719         3009          0    1    0    0    0   \n",
       "1012          0        0.013543         1012          0    1    0    0    0   \n",
       "9226          0        0.420681         9226          0    1    1    1    1   \n",
       "4750          1        0.708472         4750          1    1    1    1    1   \n",
       "7987          1        0.800536         7987          1    1    1    1    1   \n",
       "\n",
       "      0.4  0.5  0.6  0.7  0.8  0.9  \n",
       "3009    0    0    0    0    0    0  \n",
       "1012    0    0    0    0    0    0  \n",
       "9226    1    0    0    0    0    0  \n",
       "4750    1    1    1    1    0    0  \n",
       "7987    1    1    1    1    1    0  "
      ]
     },
     "execution_count": 192,
     "metadata": {},
     "output_type": "execute_result"
    }
   ],
   "source": [
    "# Let's create columns with different probability cutoffs \n",
    "numbers = [float(x)/10 for x in range(10)]\n",
    "for i in numbers:\n",
    "    y_train_pred_final[i]= y_train_pred_final.Converted_Prob.map(lambda x: 1 if x > i else 0)\n",
    "y_train_pred_final.head()"
   ]
  },
  {
   "cell_type": "code",
   "execution_count": 193,
   "metadata": {},
   "outputs": [
    {
     "name": "stdout",
     "output_type": "stream",
     "text": [
      "     prob  accuracy     sensi     speci\n",
      "0.0   0.0  0.385136  1.000000  0.000000\n",
      "0.1   0.1  0.670288  0.975061  0.479385\n",
      "0.2   0.2  0.780507  0.922322  0.691677\n",
      "0.3   0.3  0.804755  0.879804  0.757746\n",
      "0.4   0.4  0.819399  0.795176  0.834571\n",
      "0.5   0.5  0.823335  0.724448  0.885275\n",
      "0.6   0.6  0.817824  0.668029  0.911652\n",
      "0.7   0.7  0.797985  0.566231  0.943150\n",
      "0.8   0.8  0.766179  0.443581  0.968246\n",
      "0.9   0.9  0.722091  0.302535  0.984891\n"
     ]
    }
   ],
   "source": [
    "# Now let's calculate accuracy sensitivity and specificity for various probability cutoffs.\n",
    "cutoff_df = pd.DataFrame( columns = ['prob','accuracy','sensi','speci'])\n",
    "from sklearn.metrics import confusion_matrix\n",
    "num = [0.0,0.1,0.2,0.3,0.4,0.5,0.6,0.7,0.8,0.9]\n",
    "for i in num:\n",
    "    cm1 = metrics.confusion_matrix(y_train_pred_final.Converted, y_train_pred_final[i] )\n",
    "    \n",
    "    total1=sum(sum(cm1))\n",
    "    accuracy = (cm1[0,0]+cm1[1,1])/total1\n",
    "   \n",
    "    speci = cm1[0,0]/(cm1[0,0]+cm1[0,1])\n",
    "    sensi = cm1[1,1]/(cm1[1,0]+cm1[1,1])\n",
    "    cutoff_df.loc[i] =[ i ,accuracy,sensi,speci]\n",
    "print(cutoff_df)"
   ]
  },
  {
   "cell_type": "code",
   "execution_count": 194,
   "metadata": {},
   "outputs": [
    {
     "data": {
      "image/png": "[encoded data removed]",
      "text/plain": [
       "<Figure size 432x288 with 1 Axes>"
      ]
     },
     "metadata": {
      "needs_background": "light"
     },
     "output_type": "display_data"
    }
   ],
   "source": [
    "cutoff_df.plot.line(x='prob', y=['accuracy','sensi','speci'])\n",
    "plt.show()"
   ]
  },
  {
   "cell_type": "markdown",
   "metadata": {},
   "source": [
    "#### From the curve above, 0.4 is the optimum point to take it as a cutoff probability."
   ]
  },
  {
   "cell_type": "code",
   "execution_count": 195,
   "metadata": {},
   "outputs": [
    {
     "data": {
      "text/html": [
       "<div>\n",
       "<style scoped>\n",
       "    .dataframe tbody tr th:only-of-type {\n",
       "        vertical-align: middle;\n",
       "    }\n",
       "\n",
       "    .dataframe tbody tr th {\n",
       "        vertical-align: top;\n",
       "    }\n",
       "\n",
       "    .dataframe thead th {\n",
       "        text-align: right;\n",
       "    }\n",
       "</style>\n",
       "<table border=\"1\" class=\"dataframe\">\n",
       "  <thead>\n",
       "    <tr style=\"text-align: right;\">\n",
       "      <th></th>\n",
       "      <th>Converted</th>\n",
       "      <th>Converted_Prob</th>\n",
       "      <th>Prospect ID</th>\n",
       "      <th>predicted</th>\n",
       "      <th>0.0</th>\n",
       "      <th>0.1</th>\n",
       "      <th>0.2</th>\n",
       "      <th>0.3</th>\n",
       "      <th>0.4</th>\n",
       "      <th>0.5</th>\n",
       "      <th>0.6</th>\n",
       "      <th>0.7</th>\n",
       "      <th>0.8</th>\n",
       "      <th>0.9</th>\n",
       "      <th>final_predicted</th>\n",
       "    </tr>\n",
       "  </thead>\n",
       "  <tbody>\n",
       "    <tr>\n",
       "      <td>3009</td>\n",
       "      <td>0</td>\n",
       "      <td>0.077719</td>\n",
       "      <td>3009</td>\n",
       "      <td>0</td>\n",
       "      <td>1</td>\n",
       "      <td>0</td>\n",
       "      <td>0</td>\n",
       "      <td>0</td>\n",
       "      <td>0</td>\n",
       "      <td>0</td>\n",
       "      <td>0</td>\n",
       "      <td>0</td>\n",
       "      <td>0</td>\n",
       "      <td>0</td>\n",
       "      <td>0</td>\n",
       "    </tr>\n",
       "    <tr>\n",
       "      <td>1012</td>\n",
       "      <td>0</td>\n",
       "      <td>0.013543</td>\n",
       "      <td>1012</td>\n",
       "      <td>0</td>\n",
       "      <td>1</td>\n",
       "      <td>0</td>\n",
       "      <td>0</td>\n",
       "      <td>0</td>\n",
       "      <td>0</td>\n",
       "      <td>0</td>\n",
       "      <td>0</td>\n",
       "      <td>0</td>\n",
       "      <td>0</td>\n",
       "      <td>0</td>\n",
       "      <td>0</td>\n",
       "    </tr>\n",
       "    <tr>\n",
       "      <td>9226</td>\n",
       "      <td>0</td>\n",
       "      <td>0.420681</td>\n",
       "      <td>9226</td>\n",
       "      <td>0</td>\n",
       "      <td>1</td>\n",
       "      <td>1</td>\n",
       "      <td>1</td>\n",
       "      <td>1</td>\n",
       "      <td>1</td>\n",
       "      <td>0</td>\n",
       "      <td>0</td>\n",
       "      <td>0</td>\n",
       "      <td>0</td>\n",
       "      <td>0</td>\n",
       "      <td>1</td>\n",
       "    </tr>\n",
       "    <tr>\n",
       "      <td>4750</td>\n",
       "      <td>1</td>\n",
       "      <td>0.708472</td>\n",
       "      <td>4750</td>\n",
       "      <td>1</td>\n",
       "      <td>1</td>\n",
       "      <td>1</td>\n",
       "      <td>1</td>\n",
       "      <td>1</td>\n",
       "      <td>1</td>\n",
       "      <td>1</td>\n",
       "      <td>1</td>\n",
       "      <td>1</td>\n",
       "      <td>0</td>\n",
       "      <td>0</td>\n",
       "      <td>1</td>\n",
       "    </tr>\n",
       "    <tr>\n",
       "      <td>7987</td>\n",
       "      <td>1</td>\n",
       "      <td>0.800536</td>\n",
       "      <td>7987</td>\n",
       "      <td>1</td>\n",
       "      <td>1</td>\n",
       "      <td>1</td>\n",
       "      <td>1</td>\n",
       "      <td>1</td>\n",
       "      <td>1</td>\n",
       "      <td>1</td>\n",
       "      <td>1</td>\n",
       "      <td>1</td>\n",
       "      <td>1</td>\n",
       "      <td>0</td>\n",
       "      <td>1</td>\n",
       "    </tr>\n",
       "  </tbody>\n",
       "</table>\n",
       "</div>"
      ],
      "text/plain": [
       "      Converted  Converted_Prob  Prospect ID  predicted  0.0  0.1  0.2  0.3  \\\n",
       "3009          0        0.077719         3009          0    1    0    0    0   \n",
       "1012          0        0.013543         1012          0    1    0    0    0   \n",
       "9226          0        0.420681         9226          0    1    1    1    1   \n",
       "4750          1        0.708472         4750          1    1    1    1    1   \n",
       "7987          1        0.800536         7987          1    1    1    1    1   \n",
       "\n",
       "      0.4  0.5  0.6  0.7  0.8  0.9  final_predicted  \n",
       "3009    0    0    0    0    0    0                0  \n",
       "1012    0    0    0    0    0    0                0  \n",
       "9226    1    0    0    0    0    0                1  \n",
       "4750    1    1    1    1    0    0                1  \n",
       "7987    1    1    1    1    1    0                1  "
      ]
     },
     "execution_count": 195,
     "metadata": {},
     "output_type": "execute_result"
    }
   ],
   "source": [
    "y_train_pred_final['final_predicted'] = y_train_pred_final.Converted_Prob.map( lambda x: 1 if x > 0.4 else 0)\n",
    "\n",
    "y_train_pred_final.head()"
   ]
  },
  {
   "cell_type": "code",
   "execution_count": 196,
   "metadata": {},
   "outputs": [
    {
     "data": {
      "text/plain": [
       "0.8193985199181232"
      ]
     },
     "execution_count": 196,
     "metadata": {},
     "output_type": "execute_result"
    }
   ],
   "source": [
    "# overall accuracy.\n",
    "metrics.accuracy_score(y_train_pred_final.Converted, y_train_pred_final.final_predicted)"
   ]
  },
  {
   "cell_type": "code",
   "execution_count": 197,
   "metadata": {},
   "outputs": [
    {
     "data": {
      "text/plain": [
       "array([[3259,  646],\n",
       "       [ 501, 1945]], dtype=int64)"
      ]
     },
     "execution_count": 197,
     "metadata": {},
     "output_type": "execute_result"
    }
   ],
   "source": [
    "confusion2 = metrics.confusion_matrix(y_train_pred_final.Converted, y_train_pred_final.final_predicted )\n",
    "confusion2"
   ]
  },
  {
   "cell_type": "code",
   "execution_count": 198,
   "metadata": {},
   "outputs": [],
   "source": [
    "TP = confusion2[1,1]\n",
    "TN = confusion2[0,0] \n",
    "FP = confusion2[0,1]\n",
    "FN = confusion2[1,0]"
   ]
  },
  {
   "cell_type": "code",
   "execution_count": 199,
   "metadata": {},
   "outputs": [
    {
     "data": {
      "text/plain": [
       "0.7951757972199509"
      ]
     },
     "execution_count": 199,
     "metadata": {},
     "output_type": "execute_result"
    }
   ],
   "source": [
    "# Let's see the sensitivity of our logistic regression model\n",
    "TP / float(TP+FN)"
   ]
  },
  {
   "cell_type": "code",
   "execution_count": 200,
   "metadata": {},
   "outputs": [
    {
     "data": {
      "text/plain": [
       "0.8345710627400769"
      ]
     },
     "execution_count": 200,
     "metadata": {},
     "output_type": "execute_result"
    }
   ],
   "source": [
    "# Let us calculate specificity\n",
    "TN / float(TN+FP)"
   ]
  },
  {
   "cell_type": "code",
   "execution_count": 201,
   "metadata": {},
   "outputs": [
    {
     "name": "stdout",
     "output_type": "stream",
     "text": [
      "0.16542893725992316\n"
     ]
    }
   ],
   "source": [
    "# Calculate false postive rate - \n",
    "print(FP/ float(TN+FP))"
   ]
  },
  {
   "cell_type": "code",
   "execution_count": 202,
   "metadata": {},
   "outputs": [
    {
     "name": "stdout",
     "output_type": "stream",
     "text": [
      "0.7506754148977229\n"
     ]
    }
   ],
   "source": [
    "# Positive predictive value \n",
    "print (TP / float(TP+FP))"
   ]
  },
  {
   "cell_type": "code",
   "execution_count": 203,
   "metadata": {},
   "outputs": [
    {
     "name": "stdout",
     "output_type": "stream",
     "text": [
      "0.8667553191489362\n"
     ]
    }
   ],
   "source": [
    "# Negative predictive value\n",
    "print (TN / float(TN+ FN))"
   ]
  },
  {
   "cell_type": "code",
   "execution_count": 204,
   "metadata": {},
   "outputs": [
    {
     "data": {
      "text/plain": [
       "0.7506754148977229"
      ]
     },
     "execution_count": 204,
     "metadata": {},
     "output_type": "execute_result"
    }
   ],
   "source": [
    "#Precision\n",
    "TP/float(TP+FP)"
   ]
  },
  {
   "cell_type": "code",
   "execution_count": 205,
   "metadata": {},
   "outputs": [
    {
     "data": {
      "text/plain": [
       "0.7951757972199509"
      ]
     },
     "execution_count": 205,
     "metadata": {},
     "output_type": "execute_result"
    }
   ],
   "source": [
    "#Recall\n",
    "TP/float(TP+FN)"
   ]
  },
  {
   "cell_type": "markdown",
   "metadata": {},
   "source": [
    "### Summary of the train modal\n",
    " ### Evaluation Result\n",
    "   ##### Accuracy :-82 %\n",
    "   ##### Sensitivity :- 79%\n",
    "   ##### Specificity :-83 %\n",
    "   ##### Precision :-75 %\n",
    "   ##### Recall :-79 %"
   ]
  },
  {
   "cell_type": "markdown",
   "metadata": {},
   "source": [
    "### Precision and Recall curve"
   ]
  },
  {
   "cell_type": "code",
   "execution_count": 206,
   "metadata": {},
   "outputs": [
    {
     "data": {
      "text/plain": [
       "(3009    0\n",
       " 1012    0\n",
       " 9226    0\n",
       " 4750    1\n",
       " 7987    1\n",
       "        ..\n",
       " 367     0\n",
       " 82      1\n",
       " 8199    0\n",
       " 7077    0\n",
       " 5754    0\n",
       " Name: Converted, Length: 6351, dtype: int64, 3009    0\n",
       " 1012    0\n",
       " 9226    0\n",
       " 4750    1\n",
       " 7987    1\n",
       "        ..\n",
       " 367     0\n",
       " 82      1\n",
       " 8199    1\n",
       " 7077    1\n",
       " 5754    0\n",
       " Name: predicted, Length: 6351, dtype: int64)"
      ]
     },
     "execution_count": 206,
     "metadata": {},
     "output_type": "execute_result"
    }
   ],
   "source": [
    "y_train_pred_final.Converted, y_train_pred_final.predicted"
   ]
  },
  {
   "cell_type": "code",
   "execution_count": 207,
   "metadata": {},
   "outputs": [],
   "source": [
    "p, r, thresholds = precision_recall_curve(y_train_pred_final.Converted, y_train_pred_final.Converted_Prob)"
   ]
  },
  {
   "cell_type": "code",
   "execution_count": 208,
   "metadata": {},
   "outputs": [
    {
     "data": {
      "image/png": "[encoded data removed]",
      "text/plain": [
       "<Figure size 432x288 with 1 Axes>"
      ]
     },
     "metadata": {
      "needs_background": "light"
     },
     "output_type": "display_data"
    }
   ],
   "source": [
    "plt.plot(thresholds, p[:-1], \"g-\")\n",
    "plt.plot(thresholds, r[:-1], \"r-\")\n",
    "plt.show()"
   ]
  },
  {
   "cell_type": "markdown",
   "metadata": {},
   "source": [
    "### Step 11: Making predictions on the test set"
   ]
  },
  {
   "cell_type": "code",
   "execution_count": 209,
   "metadata": {},
   "outputs": [],
   "source": [
    "X_test[['TotalVisits', 'Total Time Spent on Website', 'Page Views Per Visit']] = scaler.fit_transform(X_test[['TotalVisits', 'Total Time Spent on Website', 'Page Views Per Visit']])"
   ]
  },
  {
   "cell_type": "code",
   "execution_count": 210,
   "metadata": {},
   "outputs": [
    {
     "data": {
      "text/html": [
       "<div>\n",
       "<style scoped>\n",
       "    .dataframe tbody tr th:only-of-type {\n",
       "        vertical-align: middle;\n",
       "    }\n",
       "\n",
       "    .dataframe tbody tr th {\n",
       "        vertical-align: top;\n",
       "    }\n",
       "\n",
       "    .dataframe thead th {\n",
       "        text-align: right;\n",
       "    }\n",
       "</style>\n",
       "<table border=\"1\" class=\"dataframe\">\n",
       "  <thead>\n",
       "    <tr style=\"text-align: right;\">\n",
       "      <th></th>\n",
       "      <th>Do Not Email</th>\n",
       "      <th>Total Time Spent on Website</th>\n",
       "      <th>Newspaper Article</th>\n",
       "      <th>Newspaper</th>\n",
       "      <th>Lead Origin_Landing Page Submission</th>\n",
       "      <th>Lead Origin_Other Lead Origin</th>\n",
       "      <th>Lead Source_Olark Chat</th>\n",
       "      <th>Last Activity_Olark Chat Conversation</th>\n",
       "      <th>Last Activity_SMS Sent</th>\n",
       "      <th>What is your current occupation_Unemployed</th>\n",
       "      <th>Lead Profile_Others</th>\n",
       "      <th>Lead Profile_Potential Lead</th>\n",
       "      <th>Last Notable Activity_Modified</th>\n",
       "    </tr>\n",
       "  </thead>\n",
       "  <tbody>\n",
       "    <tr>\n",
       "      <td>3271</td>\n",
       "      <td>0</td>\n",
       "      <td>-0.591008</td>\n",
       "      <td>0</td>\n",
       "      <td>0</td>\n",
       "      <td>0</td>\n",
       "      <td>0</td>\n",
       "      <td>0</td>\n",
       "      <td>0</td>\n",
       "      <td>0</td>\n",
       "      <td>0</td>\n",
       "      <td>1</td>\n",
       "      <td>0</td>\n",
       "      <td>0</td>\n",
       "    </tr>\n",
       "    <tr>\n",
       "      <td>1490</td>\n",
       "      <td>0</td>\n",
       "      <td>1.894051</td>\n",
       "      <td>0</td>\n",
       "      <td>0</td>\n",
       "      <td>1</td>\n",
       "      <td>0</td>\n",
       "      <td>0</td>\n",
       "      <td>0</td>\n",
       "      <td>0</td>\n",
       "      <td>0</td>\n",
       "      <td>0</td>\n",
       "      <td>1</td>\n",
       "      <td>0</td>\n",
       "    </tr>\n",
       "    <tr>\n",
       "      <td>7936</td>\n",
       "      <td>0</td>\n",
       "      <td>-0.743117</td>\n",
       "      <td>0</td>\n",
       "      <td>0</td>\n",
       "      <td>0</td>\n",
       "      <td>0</td>\n",
       "      <td>0</td>\n",
       "      <td>0</td>\n",
       "      <td>0</td>\n",
       "      <td>0</td>\n",
       "      <td>1</td>\n",
       "      <td>0</td>\n",
       "      <td>0</td>\n",
       "    </tr>\n",
       "    <tr>\n",
       "      <td>4216</td>\n",
       "      <td>0</td>\n",
       "      <td>-0.878732</td>\n",
       "      <td>0</td>\n",
       "      <td>0</td>\n",
       "      <td>0</td>\n",
       "      <td>1</td>\n",
       "      <td>0</td>\n",
       "      <td>0</td>\n",
       "      <td>0</td>\n",
       "      <td>0</td>\n",
       "      <td>0</td>\n",
       "      <td>0</td>\n",
       "      <td>1</td>\n",
       "    </tr>\n",
       "    <tr>\n",
       "      <td>3830</td>\n",
       "      <td>0</td>\n",
       "      <td>-0.578179</td>\n",
       "      <td>0</td>\n",
       "      <td>0</td>\n",
       "      <td>1</td>\n",
       "      <td>0</td>\n",
       "      <td>0</td>\n",
       "      <td>0</td>\n",
       "      <td>0</td>\n",
       "      <td>0</td>\n",
       "      <td>1</td>\n",
       "      <td>0</td>\n",
       "      <td>0</td>\n",
       "    </tr>\n",
       "  </tbody>\n",
       "</table>\n",
       "</div>"
      ],
      "text/plain": [
       "      Do Not Email  Total Time Spent on Website  Newspaper Article  Newspaper  \\\n",
       "3271             0                    -0.591008                  0          0   \n",
       "1490             0                     1.894051                  0          0   \n",
       "7936             0                    -0.743117                  0          0   \n",
       "4216             0                    -0.878732                  0          0   \n",
       "3830             0                    -0.578179                  0          0   \n",
       "\n",
       "      Lead Origin_Landing Page Submission  Lead Origin_Other Lead Origin  \\\n",
       "3271                                    0                              0   \n",
       "1490                                    1                              0   \n",
       "7936                                    0                              0   \n",
       "4216                                    0                              1   \n",
       "3830                                    1                              0   \n",
       "\n",
       "      Lead Source_Olark Chat  Last Activity_Olark Chat Conversation  \\\n",
       "3271                       0                                      0   \n",
       "1490                       0                                      0   \n",
       "7936                       0                                      0   \n",
       "4216                       0                                      0   \n",
       "3830                       0                                      0   \n",
       "\n",
       "      Last Activity_SMS Sent  What is your current occupation_Unemployed  \\\n",
       "3271                       0                                           0   \n",
       "1490                       0                                           0   \n",
       "7936                       0                                           0   \n",
       "4216                       0                                           0   \n",
       "3830                       0                                           0   \n",
       "\n",
       "      Lead Profile_Others  Lead Profile_Potential Lead  \\\n",
       "3271                    1                            0   \n",
       "1490                    0                            1   \n",
       "7936                    1                            0   \n",
       "4216                    0                            0   \n",
       "3830                    1                            0   \n",
       "\n",
       "      Last Notable Activity_Modified  \n",
       "3271                               0  \n",
       "1490                               0  \n",
       "7936                               0  \n",
       "4216                               1  \n",
       "3830                               0  "
      ]
     },
     "execution_count": 210,
     "metadata": {},
     "output_type": "execute_result"
    }
   ],
   "source": [
    "X_test=X_test[col]\n",
    "X_test.head()"
   ]
  },
  {
   "cell_type": "code",
   "execution_count": 211,
   "metadata": {},
   "outputs": [
    {
     "data": {
      "text/plain": [
       "(2723, 14)"
      ]
     },
     "execution_count": 211,
     "metadata": {},
     "output_type": "execute_result"
    }
   ],
   "source": [
    "X_test_sm = sm.add_constant(X_test)\n",
    "X_test_sm.shape"
   ]
  },
  {
   "cell_type": "code",
   "execution_count": 212,
   "metadata": {},
   "outputs": [],
   "source": [
    "y_test_pred = res.predict(X_test_sm)"
   ]
  },
  {
   "cell_type": "code",
   "execution_count": 213,
   "metadata": {},
   "outputs": [
    {
     "data": {
      "text/html": [
       "<table class=\"simpletable\">\n",
       "<caption>Generalized Linear Model Regression Results</caption>\n",
       "<tr>\n",
       "  <th>Dep. Variable:</th>       <td>Converted</td>    <th>  No. Observations:  </th>  <td>  6351</td> \n",
       "</tr>\n",
       "<tr>\n",
       "  <th>Model:</th>                  <td>GLM</td>       <th>  Df Residuals:      </th>  <td>  6337</td> \n",
       "</tr>\n",
       "<tr>\n",
       "  <th>Model Family:</th>        <td>Binomial</td>     <th>  Df Model:          </th>  <td>    13</td> \n",
       "</tr>\n",
       "<tr>\n",
       "  <th>Link Function:</th>         <td>logit</td>      <th>  Scale:             </th> <td>  1.0000</td>\n",
       "</tr>\n",
       "<tr>\n",
       "  <th>Method:</th>                <td>IRLS</td>       <th>  Log-Likelihood:    </th> <td> -2470.0</td>\n",
       "</tr>\n",
       "<tr>\n",
       "  <th>Date:</th>            <td>Mon, 20 Jul 2020</td> <th>  Deviance:          </th> <td>  4940.0</td>\n",
       "</tr>\n",
       "<tr>\n",
       "  <th>Time:</th>                <td>11:20:17</td>     <th>  Pearson chi2:      </th> <td>6.19e+03</td>\n",
       "</tr>\n",
       "<tr>\n",
       "  <th>No. Iterations:</th>         <td>19</td>        <th>                     </th>     <td> </td>   \n",
       "</tr>\n",
       "<tr>\n",
       "  <th>Covariance Type:</th>     <td>nonrobust</td>    <th>                     </th>     <td> </td>   \n",
       "</tr>\n",
       "</table>\n",
       "<table class=\"simpletable\">\n",
       "<tr>\n",
       "                       <td></td>                         <th>coef</th>     <th>std err</th>      <th>z</th>      <th>P>|z|</th>  <th>[0.025</th>    <th>0.975]</th>  \n",
       "</tr>\n",
       "<tr>\n",
       "  <th>const</th>                                      <td>    0.5388</td> <td>    0.151</td> <td>    3.577</td> <td> 0.000</td> <td>    0.244</td> <td>    0.834</td>\n",
       "</tr>\n",
       "<tr>\n",
       "  <th>Do Not Email</th>                               <td>   -1.3871</td> <td>    0.176</td> <td>   -7.889</td> <td> 0.000</td> <td>   -1.732</td> <td>   -1.043</td>\n",
       "</tr>\n",
       "<tr>\n",
       "  <th>Total Time Spent on Website</th>                <td>    1.1253</td> <td>    0.042</td> <td>   26.749</td> <td> 0.000</td> <td>    1.043</td> <td>    1.208</td>\n",
       "</tr>\n",
       "<tr>\n",
       "  <th>Newspaper Article</th>                          <td>    1.7865</td> <td>    1.492</td> <td>    1.197</td> <td> 0.231</td> <td>   -1.138</td> <td>    4.711</td>\n",
       "</tr>\n",
       "<tr>\n",
       "  <th>Newspaper</th>                                  <td>  -21.9165</td> <td> 1.77e+04</td> <td>   -0.001</td> <td> 0.999</td> <td>-3.48e+04</td> <td> 3.47e+04</td>\n",
       "</tr>\n",
       "<tr>\n",
       "  <th>Lead Origin_Landing Page Submission</th>        <td>   -0.3855</td> <td>    0.093</td> <td>   -4.166</td> <td> 0.000</td> <td>   -0.567</td> <td>   -0.204</td>\n",
       "</tr>\n",
       "<tr>\n",
       "  <th>Lead Origin_Other Lead Origin</th>              <td>    3.1409</td> <td>    0.195</td> <td>   16.138</td> <td> 0.000</td> <td>    2.759</td> <td>    3.522</td>\n",
       "</tr>\n",
       "<tr>\n",
       "  <th>Lead Source_Olark Chat</th>                     <td>    1.1752</td> <td>    0.126</td> <td>    9.301</td> <td> 0.000</td> <td>    0.928</td> <td>    1.423</td>\n",
       "</tr>\n",
       "<tr>\n",
       "  <th>Last Activity_Olark Chat Conversation</th>      <td>   -1.0132</td> <td>    0.175</td> <td>   -5.794</td> <td> 0.000</td> <td>   -1.356</td> <td>   -0.670</td>\n",
       "</tr>\n",
       "<tr>\n",
       "  <th>Last Activity_SMS Sent</th>                     <td>    1.3322</td> <td>    0.078</td> <td>   17.157</td> <td> 0.000</td> <td>    1.180</td> <td>    1.484</td>\n",
       "</tr>\n",
       "<tr>\n",
       "  <th>What is your current occupation_Unemployed</th> <td>   -1.5440</td> <td>    0.134</td> <td>  -11.545</td> <td> 0.000</td> <td>   -1.806</td> <td>   -1.282</td>\n",
       "</tr>\n",
       "<tr>\n",
       "  <th>Lead Profile_Others</th>                        <td>   -2.4467</td> <td>    0.151</td> <td>  -16.199</td> <td> 0.000</td> <td>   -2.743</td> <td>   -2.151</td>\n",
       "</tr>\n",
       "<tr>\n",
       "  <th>Lead Profile_Potential Lead</th>                <td>    1.6258</td> <td>    0.103</td> <td>   15.826</td> <td> 0.000</td> <td>    1.424</td> <td>    1.827</td>\n",
       "</tr>\n",
       "<tr>\n",
       "  <th>Last Notable Activity_Modified</th>             <td>   -0.8222</td> <td>    0.084</td> <td>   -9.803</td> <td> 0.000</td> <td>   -0.987</td> <td>   -0.658</td>\n",
       "</tr>\n",
       "</table>"
      ],
      "text/plain": [
       "<class 'statsmodels.iolib.summary.Summary'>\n",
       "\"\"\"\n",
       "                 Generalized Linear Model Regression Results                  \n",
       "==============================================================================\n",
       "Dep. Variable:              Converted   No. Observations:                 6351\n",
       "Model:                            GLM   Df Residuals:                     6337\n",
       "Model Family:                Binomial   Df Model:                           13\n",
       "Link Function:                  logit   Scale:                          1.0000\n",
       "Method:                          IRLS   Log-Likelihood:                -2470.0\n",
       "Date:                Mon, 20 Jul 2020   Deviance:                       4940.0\n",
       "Time:                        11:20:17   Pearson chi2:                 6.19e+03\n",
       "No. Iterations:                    19                                         \n",
       "Covariance Type:            nonrobust                                         \n",
       "==============================================================================================================\n",
       "                                                 coef    std err          z      P>|z|      [0.025      0.975]\n",
       "--------------------------------------------------------------------------------------------------------------\n",
       "const                                          0.5388      0.151      3.577      0.000       0.244       0.834\n",
       "Do Not Email                                  -1.3871      0.176     -7.889      0.000      -1.732      -1.043\n",
       "Total Time Spent on Website                    1.1253      0.042     26.749      0.000       1.043       1.208\n",
       "Newspaper Article                              1.7865      1.492      1.197      0.231      -1.138       4.711\n",
       "Newspaper                                    -21.9165   1.77e+04     -0.001      0.999   -3.48e+04    3.47e+04\n",
       "Lead Origin_Landing Page Submission           -0.3855      0.093     -4.166      0.000      -0.567      -0.204\n",
       "Lead Origin_Other Lead Origin                  3.1409      0.195     16.138      0.000       2.759       3.522\n",
       "Lead Source_Olark Chat                         1.1752      0.126      9.301      0.000       0.928       1.423\n",
       "Last Activity_Olark Chat Conversation         -1.0132      0.175     -5.794      0.000      -1.356      -0.670\n",
       "Last Activity_SMS Sent                         1.3322      0.078     17.157      0.000       1.180       1.484\n",
       "What is your current occupation_Unemployed    -1.5440      0.134    -11.545      0.000      -1.806      -1.282\n",
       "Lead Profile_Others                           -2.4467      0.151    -16.199      0.000      -2.743      -2.151\n",
       "Lead Profile_Potential Lead                    1.6258      0.103     15.826      0.000       1.424       1.827\n",
       "Last Notable Activity_Modified                -0.8222      0.084     -9.803      0.000      -0.987      -0.658\n",
       "==============================================================================================================\n",
       "\"\"\""
      ]
     },
     "execution_count": 213,
     "metadata": {},
     "output_type": "execute_result"
    }
   ],
   "source": [
    "res.summary()"
   ]
  },
  {
   "cell_type": "code",
   "execution_count": 214,
   "metadata": {},
   "outputs": [
    {
     "data": {
      "text/plain": [
       "3271    0.070899\n",
       "1490    0.980362\n",
       "7936    0.060419\n",
       "4216    0.866305\n",
       "3830    0.050019\n",
       "1800    0.720508\n",
       "6507    0.314029\n",
       "4821    0.274262\n",
       "4223    0.922662\n",
       "4714    0.229435\n",
       "dtype: float64"
      ]
     },
     "execution_count": 214,
     "metadata": {},
     "output_type": "execute_result"
    }
   ],
   "source": [
    "y_test_pred[:10]"
   ]
  },
  {
   "cell_type": "code",
   "execution_count": 215,
   "metadata": {},
   "outputs": [],
   "source": [
    "# Converting y_pred to a dataframe which is an array\n",
    "y_pred_1 = pd.DataFrame(y_test_pred)"
   ]
  },
  {
   "cell_type": "code",
   "execution_count": 216,
   "metadata": {},
   "outputs": [
    {
     "data": {
      "text/html": [
       "<div>\n",
       "<style scoped>\n",
       "    .dataframe tbody tr th:only-of-type {\n",
       "        vertical-align: middle;\n",
       "    }\n",
       "\n",
       "    .dataframe tbody tr th {\n",
       "        vertical-align: top;\n",
       "    }\n",
       "\n",
       "    .dataframe thead th {\n",
       "        text-align: right;\n",
       "    }\n",
       "</style>\n",
       "<table border=\"1\" class=\"dataframe\">\n",
       "  <thead>\n",
       "    <tr style=\"text-align: right;\">\n",
       "      <th></th>\n",
       "      <th>0</th>\n",
       "    </tr>\n",
       "  </thead>\n",
       "  <tbody>\n",
       "    <tr>\n",
       "      <td>3271</td>\n",
       "      <td>0.070899</td>\n",
       "    </tr>\n",
       "    <tr>\n",
       "      <td>1490</td>\n",
       "      <td>0.980362</td>\n",
       "    </tr>\n",
       "    <tr>\n",
       "      <td>7936</td>\n",
       "      <td>0.060419</td>\n",
       "    </tr>\n",
       "    <tr>\n",
       "      <td>4216</td>\n",
       "      <td>0.866305</td>\n",
       "    </tr>\n",
       "    <tr>\n",
       "      <td>3830</td>\n",
       "      <td>0.050019</td>\n",
       "    </tr>\n",
       "  </tbody>\n",
       "</table>\n",
       "</div>"
      ],
      "text/plain": [
       "             0\n",
       "3271  0.070899\n",
       "1490  0.980362\n",
       "7936  0.060419\n",
       "4216  0.866305\n",
       "3830  0.050019"
      ]
     },
     "execution_count": 216,
     "metadata": {},
     "output_type": "execute_result"
    }
   ],
   "source": [
    "y_pred_1.head()"
   ]
  },
  {
   "cell_type": "code",
   "execution_count": 217,
   "metadata": {},
   "outputs": [],
   "source": [
    "# Converting y_test to dataframe\n",
    "y_test_df = pd.DataFrame(y_test)"
   ]
  },
  {
   "cell_type": "code",
   "execution_count": 218,
   "metadata": {},
   "outputs": [],
   "source": [
    "# Putting CustID to index\n",
    "y_test_df['Prospect ID'] = y_test_df.index"
   ]
  },
  {
   "cell_type": "code",
   "execution_count": 219,
   "metadata": {},
   "outputs": [],
   "source": [
    "# Removing index for both dataframes to append them side by side \n",
    "y_pred_1.reset_index(drop=True, inplace=True)\n",
    "y_test_df.reset_index(drop=True, inplace=True)"
   ]
  },
  {
   "cell_type": "code",
   "execution_count": 220,
   "metadata": {},
   "outputs": [],
   "source": [
    "# Appending y_test_df and y_pred_1\n",
    "y_pred_final = pd.concat([y_test_df, y_pred_1],axis=1)"
   ]
  },
  {
   "cell_type": "code",
   "execution_count": 221,
   "metadata": {},
   "outputs": [
    {
     "data": {
      "text/html": [
       "<div>\n",
       "<style scoped>\n",
       "    .dataframe tbody tr th:only-of-type {\n",
       "        vertical-align: middle;\n",
       "    }\n",
       "\n",
       "    .dataframe tbody tr th {\n",
       "        vertical-align: top;\n",
       "    }\n",
       "\n",
       "    .dataframe thead th {\n",
       "        text-align: right;\n",
       "    }\n",
       "</style>\n",
       "<table border=\"1\" class=\"dataframe\">\n",
       "  <thead>\n",
       "    <tr style=\"text-align: right;\">\n",
       "      <th></th>\n",
       "      <th>Converted</th>\n",
       "      <th>Prospect ID</th>\n",
       "      <th>0</th>\n",
       "    </tr>\n",
       "  </thead>\n",
       "  <tbody>\n",
       "    <tr>\n",
       "      <td>0</td>\n",
       "      <td>0</td>\n",
       "      <td>3271</td>\n",
       "      <td>0.070899</td>\n",
       "    </tr>\n",
       "    <tr>\n",
       "      <td>1</td>\n",
       "      <td>1</td>\n",
       "      <td>1490</td>\n",
       "      <td>0.980362</td>\n",
       "    </tr>\n",
       "    <tr>\n",
       "      <td>2</td>\n",
       "      <td>0</td>\n",
       "      <td>7936</td>\n",
       "      <td>0.060419</td>\n",
       "    </tr>\n",
       "    <tr>\n",
       "      <td>3</td>\n",
       "      <td>1</td>\n",
       "      <td>4216</td>\n",
       "      <td>0.866305</td>\n",
       "    </tr>\n",
       "    <tr>\n",
       "      <td>4</td>\n",
       "      <td>0</td>\n",
       "      <td>3830</td>\n",
       "      <td>0.050019</td>\n",
       "    </tr>\n",
       "  </tbody>\n",
       "</table>\n",
       "</div>"
      ],
      "text/plain": [
       "   Converted  Prospect ID         0\n",
       "0          0         3271  0.070899\n",
       "1          1         1490  0.980362\n",
       "2          0         7936  0.060419\n",
       "3          1         4216  0.866305\n",
       "4          0         3830  0.050019"
      ]
     },
     "execution_count": 221,
     "metadata": {},
     "output_type": "execute_result"
    }
   ],
   "source": [
    "y_pred_final.head()"
   ]
  },
  {
   "cell_type": "code",
   "execution_count": 222,
   "metadata": {},
   "outputs": [],
   "source": [
    "# Renaming the column \n",
    "y_pred_final= y_pred_final.rename(columns={ 0 : 'Converted_Prob'})"
   ]
  },
  {
   "cell_type": "code",
   "execution_count": 223,
   "metadata": {},
   "outputs": [],
   "source": [
    "# Rearranging the columns\n",
    "y_pred_final = y_pred_final.reindex(['Prospect ID','Converted','Converted_Prob'], axis=1)"
   ]
  },
  {
   "cell_type": "code",
   "execution_count": 224,
   "metadata": {},
   "outputs": [
    {
     "data": {
      "text/html": [
       "<div>\n",
       "<style scoped>\n",
       "    .dataframe tbody tr th:only-of-type {\n",
       "        vertical-align: middle;\n",
       "    }\n",
       "\n",
       "    .dataframe tbody tr th {\n",
       "        vertical-align: top;\n",
       "    }\n",
       "\n",
       "    .dataframe thead th {\n",
       "        text-align: right;\n",
       "    }\n",
       "</style>\n",
       "<table border=\"1\" class=\"dataframe\">\n",
       "  <thead>\n",
       "    <tr style=\"text-align: right;\">\n",
       "      <th></th>\n",
       "      <th>Prospect ID</th>\n",
       "      <th>Converted</th>\n",
       "      <th>Converted_Prob</th>\n",
       "    </tr>\n",
       "  </thead>\n",
       "  <tbody>\n",
       "    <tr>\n",
       "      <td>0</td>\n",
       "      <td>3271</td>\n",
       "      <td>0</td>\n",
       "      <td>0.070899</td>\n",
       "    </tr>\n",
       "    <tr>\n",
       "      <td>1</td>\n",
       "      <td>1490</td>\n",
       "      <td>1</td>\n",
       "      <td>0.980362</td>\n",
       "    </tr>\n",
       "    <tr>\n",
       "      <td>2</td>\n",
       "      <td>7936</td>\n",
       "      <td>0</td>\n",
       "      <td>0.060419</td>\n",
       "    </tr>\n",
       "    <tr>\n",
       "      <td>3</td>\n",
       "      <td>4216</td>\n",
       "      <td>1</td>\n",
       "      <td>0.866305</td>\n",
       "    </tr>\n",
       "    <tr>\n",
       "      <td>4</td>\n",
       "      <td>3830</td>\n",
       "      <td>0</td>\n",
       "      <td>0.050019</td>\n",
       "    </tr>\n",
       "  </tbody>\n",
       "</table>\n",
       "</div>"
      ],
      "text/plain": [
       "   Prospect ID  Converted  Converted_Prob\n",
       "0         3271          0        0.070899\n",
       "1         1490          1        0.980362\n",
       "2         7936          0        0.060419\n",
       "3         4216          1        0.866305\n",
       "4         3830          0        0.050019"
      ]
     },
     "execution_count": 224,
     "metadata": {},
     "output_type": "execute_result"
    }
   ],
   "source": [
    "y_pred_final.head()"
   ]
  },
  {
   "cell_type": "code",
   "execution_count": 225,
   "metadata": {},
   "outputs": [],
   "source": [
    "y_pred_final['final_predicted'] = y_pred_final.Converted_Prob.map(lambda x: 1 if x > 0.4 else 0)"
   ]
  },
  {
   "cell_type": "code",
   "execution_count": 226,
   "metadata": {},
   "outputs": [
    {
     "data": {
      "text/html": [
       "<div>\n",
       "<style scoped>\n",
       "    .dataframe tbody tr th:only-of-type {\n",
       "        vertical-align: middle;\n",
       "    }\n",
       "\n",
       "    .dataframe tbody tr th {\n",
       "        vertical-align: top;\n",
       "    }\n",
       "\n",
       "    .dataframe thead th {\n",
       "        text-align: right;\n",
       "    }\n",
       "</style>\n",
       "<table border=\"1\" class=\"dataframe\">\n",
       "  <thead>\n",
       "    <tr style=\"text-align: right;\">\n",
       "      <th></th>\n",
       "      <th>Prospect ID</th>\n",
       "      <th>Converted</th>\n",
       "      <th>Converted_Prob</th>\n",
       "      <th>final_predicted</th>\n",
       "    </tr>\n",
       "  </thead>\n",
       "  <tbody>\n",
       "    <tr>\n",
       "      <td>0</td>\n",
       "      <td>3271</td>\n",
       "      <td>0</td>\n",
       "      <td>0.070899</td>\n",
       "      <td>0</td>\n",
       "    </tr>\n",
       "    <tr>\n",
       "      <td>1</td>\n",
       "      <td>1490</td>\n",
       "      <td>1</td>\n",
       "      <td>0.980362</td>\n",
       "      <td>1</td>\n",
       "    </tr>\n",
       "    <tr>\n",
       "      <td>2</td>\n",
       "      <td>7936</td>\n",
       "      <td>0</td>\n",
       "      <td>0.060419</td>\n",
       "      <td>0</td>\n",
       "    </tr>\n",
       "    <tr>\n",
       "      <td>3</td>\n",
       "      <td>4216</td>\n",
       "      <td>1</td>\n",
       "      <td>0.866305</td>\n",
       "      <td>1</td>\n",
       "    </tr>\n",
       "    <tr>\n",
       "      <td>4</td>\n",
       "      <td>3830</td>\n",
       "      <td>0</td>\n",
       "      <td>0.050019</td>\n",
       "      <td>0</td>\n",
       "    </tr>\n",
       "  </tbody>\n",
       "</table>\n",
       "</div>"
      ],
      "text/plain": [
       "   Prospect ID  Converted  Converted_Prob  final_predicted\n",
       "0         3271          0        0.070899                0\n",
       "1         1490          1        0.980362                1\n",
       "2         7936          0        0.060419                0\n",
       "3         4216          1        0.866305                1\n",
       "4         3830          0        0.050019                0"
      ]
     },
     "execution_count": 226,
     "metadata": {},
     "output_type": "execute_result"
    }
   ],
   "source": [
    "y_pred_final.head()"
   ]
  },
  {
   "cell_type": "code",
   "execution_count": 227,
   "metadata": {},
   "outputs": [
    {
     "data": {
      "text/plain": [
       "0.8141755416819684"
      ]
     },
     "execution_count": 227,
     "metadata": {},
     "output_type": "execute_result"
    }
   ],
   "source": [
    "# Let's check the overall accuracy.\n",
    "metrics.accuracy_score(y_pred_final.Converted, y_pred_final.final_predicted)"
   ]
  },
  {
   "cell_type": "code",
   "execution_count": 228,
   "metadata": {},
   "outputs": [
    {
     "data": {
      "text/plain": [
       "array([[1443,  291],\n",
       "       [ 215,  774]], dtype=int64)"
      ]
     },
     "execution_count": 228,
     "metadata": {},
     "output_type": "execute_result"
    }
   ],
   "source": [
    "confusion2 = metrics.confusion_matrix(y_pred_final.Converted, y_pred_final.final_predicted )\n",
    "confusion2"
   ]
  },
  {
   "cell_type": "code",
   "execution_count": 229,
   "metadata": {},
   "outputs": [],
   "source": [
    "TP = confusion2[1,1] # true positive \n",
    "TN = confusion2[0,0] # true negatives\n",
    "FP = confusion2[0,1] # false positives\n",
    "FN = confusion2[1,0] # false negatives"
   ]
  },
  {
   "cell_type": "code",
   "execution_count": 230,
   "metadata": {},
   "outputs": [
    {
     "data": {
      "text/plain": [
       "0.782608695652174"
      ]
     },
     "execution_count": 230,
     "metadata": {},
     "output_type": "execute_result"
    }
   ],
   "source": [
    "# Let's see the sensitivity of our logistic regression model\n",
    "TP / float(TP+FN)"
   ]
  },
  {
   "cell_type": "code",
   "execution_count": 231,
   "metadata": {},
   "outputs": [
    {
     "data": {
      "text/plain": [
       "0.8321799307958477"
      ]
     },
     "execution_count": 231,
     "metadata": {},
     "output_type": "execute_result"
    }
   ],
   "source": [
    "# Let us calculate specificity\n",
    "TN / float(TN+FP)"
   ]
  },
  {
   "cell_type": "code",
   "execution_count": 232,
   "metadata": {},
   "outputs": [
    {
     "data": {
      "text/plain": [
       "0.7267605633802817"
      ]
     },
     "execution_count": 232,
     "metadata": {},
     "output_type": "execute_result"
    }
   ],
   "source": [
    "## precision\n",
    "TP/float(TP+FP)"
   ]
  },
  {
   "cell_type": "code",
   "execution_count": 233,
   "metadata": {},
   "outputs": [
    {
     "data": {
      "text/plain": [
       "0.782608695652174"
      ]
     },
     "execution_count": 233,
     "metadata": {},
     "output_type": "execute_result"
    }
   ],
   "source": [
    "## RECALL\n",
    "TP/float(TP+FN)"
   ]
  },
  {
   "cell_type": "markdown",
   "metadata": {},
   "source": [
    "### Summary of the Test modal\n",
    " ### Evaluation Result\n",
    "   ##### Accuracy :-81 %\n",
    "   ##### Sensitivity :- 78 %\n",
    "   ##### Specificity :-83 %\n",
    "   ##### Precision :-72 %\n",
    "   ##### Recall :-78 %"
   ]
  },
  {
   "cell_type": "markdown",
   "metadata": {},
   "source": [
    "## Conclusion"
   ]
  },
  {
   "cell_type": "markdown",
   "metadata": {},
   "source": [
    "- From the train and test model  evaluation - we can infer that all Accuracy,Sensitivity & specificity are  all close to each other- which determines the ROC cut off - 0.4 is good.\n",
    "- And also we can see all the variables P values ate <0.5 which are more significant. \n",
    "- And also VIF  values of all the variables are < 5 , which is also more significant.\n",
    "\n",
    "- _ve coefficient values variables - has less percentage of chance of probability of lead  getting converted.\n",
    "- +ve coefficient values variables - has high percentage of chance of probability of lead  getting converted.\n",
    "\n",
    "High Chance of getting lead to converted variables  are listed below with their co-efficient value.\n",
    "\n",
    "#### Lead Origin_Other Lead Origin : Coefficient values = 3.1409 times of Lead origin probability of lead getting converted.  \n",
    "#### Newspaper Article : Coefficient values = 1.7885 times of Newspaper Article probability of lead getting converted.\n",
    "#### Lead Profile_Potential Lead : Coefficient values = 1.6258 times of Lead origin probability of lead getting converted .\n",
    "\n",
    "Overall, the Company should concentrate on the above variables to increase the number of leads  percentage."
   ]
  },
  {
   "cell_type": "code",
   "execution_count": null,
   "metadata": {},
   "outputs": [],
   "source": []
  }
 ],
 "metadata": {
  "kernelspec": {
   "display_name": "Python 3",
   "language": "python",
   "name": "python3"
  },
  "language_info": {
   "codemirror_mode": {
    "name": "ipython",
    "version": 3
   },
   "file_extension": ".py",
   "mimetype": "text/x-python",
   "name": "python",
   "nbconvert_exporter": "python",
   "pygments_lexer": "ipython3",
   "version": "3.7.4"
  }
 },
 "nbformat": 4,
 "nbformat_minor": 2
}
